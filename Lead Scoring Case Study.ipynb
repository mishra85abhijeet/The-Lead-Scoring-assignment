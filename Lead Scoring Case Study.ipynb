{
 "cells": [
  {
   "cell_type": "markdown",
   "id": "9c6be7a1",
   "metadata": {},
   "source": [
    "# Steps involved in solving the problem\n"
   ]
  },
  {
   "cell_type": "markdown",
   "id": "c59f776e",
   "metadata": {},
   "source": [
    "\n",
    "1. Importing the Libraries"
   ]
  },
  {
   "cell_type": "code",
   "execution_count": 34,
   "id": "3295d064",
   "metadata": {},
   "outputs": [],
   "source": [
    "#for numerical comupationand calculation\n",
    "import pandas as pd\n",
    "import numpy as np\n",
    "\n",
    "#for visualisation and plotting\n",
    "import matplotlib.pyplot as plt\n",
    "import seaborn as sns\n",
    "%matplotlib inline\n",
    "\n",
    "# Suppressing Warnings\n",
    "import warnings\n",
    "warnings.filterwarnings('ignore')\n",
    "\n",
    "#For Feature selection\n",
    "from sklearn.feature_selection import RFE\n",
    "from statsmodels.stats.outliers_influence import variance_inflation_factor\n",
    "\n",
    "#for model building\n",
    "from sklearn.model_selection import train_test_split\n",
    "from sklearn.preprocessing import MinMaxScaler,StandardScaler\n",
    "import statsmodels.api as sm\n",
    "from sklearn.linear_model import LogisticRegression\n",
    "\n",
    "#Evaluation of the model\n",
    "from sklearn import metrics"
   ]
  },
  {
   "cell_type": "markdown",
   "id": "fbb4fbab",
   "metadata": {},
   "source": [
    "# 2. Loading and reading the data"
   ]
  },
  {
   "cell_type": "code",
   "execution_count": 35,
   "id": "8cc9313e",
   "metadata": {},
   "outputs": [
    {
     "data": {
      "text/html": [
       "<div>\n",
       "<style scoped>\n",
       "    .dataframe tbody tr th:only-of-type {\n",
       "        vertical-align: middle;\n",
       "    }\n",
       "\n",
       "    .dataframe tbody tr th {\n",
       "        vertical-align: top;\n",
       "    }\n",
       "\n",
       "    .dataframe thead th {\n",
       "        text-align: right;\n",
       "    }\n",
       "</style>\n",
       "<table border=\"1\" class=\"dataframe\">\n",
       "  <thead>\n",
       "    <tr style=\"text-align: right;\">\n",
       "      <th></th>\n",
       "      <th>Prospect ID</th>\n",
       "      <th>Lead Number</th>\n",
       "      <th>Lead Origin</th>\n",
       "      <th>Lead Source</th>\n",
       "      <th>Do Not Email</th>\n",
       "      <th>Do Not Call</th>\n",
       "      <th>Converted</th>\n",
       "      <th>TotalVisits</th>\n",
       "      <th>Total Time Spent on Website</th>\n",
       "      <th>Page Views Per Visit</th>\n",
       "      <th>Last Activity</th>\n",
       "      <th>Country</th>\n",
       "      <th>Specialization</th>\n",
       "      <th>How did you hear about X Education</th>\n",
       "      <th>What is your current occupation</th>\n",
       "      <th>What matters most to you in choosing a course</th>\n",
       "      <th>Search</th>\n",
       "      <th>Magazine</th>\n",
       "      <th>Newspaper Article</th>\n",
       "      <th>X Education Forums</th>\n",
       "      <th>Newspaper</th>\n",
       "      <th>Digital Advertisement</th>\n",
       "      <th>Through Recommendations</th>\n",
       "      <th>Receive More Updates About Our Courses</th>\n",
       "      <th>Tags</th>\n",
       "      <th>Lead Quality</th>\n",
       "      <th>Update me on Supply Chain Content</th>\n",
       "      <th>Get updates on DM Content</th>\n",
       "      <th>Lead Profile</th>\n",
       "      <th>City</th>\n",
       "      <th>Asymmetrique Activity Index</th>\n",
       "      <th>Asymmetrique Profile Index</th>\n",
       "      <th>Asymmetrique Activity Score</th>\n",
       "      <th>Asymmetrique Profile Score</th>\n",
       "      <th>I agree to pay the amount through cheque</th>\n",
       "      <th>A free copy of Mastering The Interview</th>\n",
       "      <th>Last Notable Activity</th>\n",
       "    </tr>\n",
       "  </thead>\n",
       "  <tbody>\n",
       "    <tr>\n",
       "      <th>0</th>\n",
       "      <td>7927b2df-8bba-4d29-b9a2-b6e0beafe620</td>\n",
       "      <td>660737</td>\n",
       "      <td>API</td>\n",
       "      <td>Olark Chat</td>\n",
       "      <td>No</td>\n",
       "      <td>No</td>\n",
       "      <td>0</td>\n",
       "      <td>0.0</td>\n",
       "      <td>0</td>\n",
       "      <td>0.0</td>\n",
       "      <td>Page Visited on Website</td>\n",
       "      <td>NaN</td>\n",
       "      <td>Select</td>\n",
       "      <td>Select</td>\n",
       "      <td>Unemployed</td>\n",
       "      <td>Better Career Prospects</td>\n",
       "      <td>No</td>\n",
       "      <td>No</td>\n",
       "      <td>No</td>\n",
       "      <td>No</td>\n",
       "      <td>No</td>\n",
       "      <td>No</td>\n",
       "      <td>No</td>\n",
       "      <td>No</td>\n",
       "      <td>Interested in other courses</td>\n",
       "      <td>Low in Relevance</td>\n",
       "      <td>No</td>\n",
       "      <td>No</td>\n",
       "      <td>Select</td>\n",
       "      <td>Select</td>\n",
       "      <td>02.Medium</td>\n",
       "      <td>02.Medium</td>\n",
       "      <td>15.0</td>\n",
       "      <td>15.0</td>\n",
       "      <td>No</td>\n",
       "      <td>No</td>\n",
       "      <td>Modified</td>\n",
       "    </tr>\n",
       "    <tr>\n",
       "      <th>1</th>\n",
       "      <td>2a272436-5132-4136-86fa-dcc88c88f482</td>\n",
       "      <td>660728</td>\n",
       "      <td>API</td>\n",
       "      <td>Organic Search</td>\n",
       "      <td>No</td>\n",
       "      <td>No</td>\n",
       "      <td>0</td>\n",
       "      <td>5.0</td>\n",
       "      <td>674</td>\n",
       "      <td>2.5</td>\n",
       "      <td>Email Opened</td>\n",
       "      <td>India</td>\n",
       "      <td>Select</td>\n",
       "      <td>Select</td>\n",
       "      <td>Unemployed</td>\n",
       "      <td>Better Career Prospects</td>\n",
       "      <td>No</td>\n",
       "      <td>No</td>\n",
       "      <td>No</td>\n",
       "      <td>No</td>\n",
       "      <td>No</td>\n",
       "      <td>No</td>\n",
       "      <td>No</td>\n",
       "      <td>No</td>\n",
       "      <td>Ringing</td>\n",
       "      <td>NaN</td>\n",
       "      <td>No</td>\n",
       "      <td>No</td>\n",
       "      <td>Select</td>\n",
       "      <td>Select</td>\n",
       "      <td>02.Medium</td>\n",
       "      <td>02.Medium</td>\n",
       "      <td>15.0</td>\n",
       "      <td>15.0</td>\n",
       "      <td>No</td>\n",
       "      <td>No</td>\n",
       "      <td>Email Opened</td>\n",
       "    </tr>\n",
       "    <tr>\n",
       "      <th>2</th>\n",
       "      <td>8cc8c611-a219-4f35-ad23-fdfd2656bd8a</td>\n",
       "      <td>660727</td>\n",
       "      <td>Landing Page Submission</td>\n",
       "      <td>Direct Traffic</td>\n",
       "      <td>No</td>\n",
       "      <td>No</td>\n",
       "      <td>1</td>\n",
       "      <td>2.0</td>\n",
       "      <td>1532</td>\n",
       "      <td>2.0</td>\n",
       "      <td>Email Opened</td>\n",
       "      <td>India</td>\n",
       "      <td>Business Administration</td>\n",
       "      <td>Select</td>\n",
       "      <td>Student</td>\n",
       "      <td>Better Career Prospects</td>\n",
       "      <td>No</td>\n",
       "      <td>No</td>\n",
       "      <td>No</td>\n",
       "      <td>No</td>\n",
       "      <td>No</td>\n",
       "      <td>No</td>\n",
       "      <td>No</td>\n",
       "      <td>No</td>\n",
       "      <td>Will revert after reading the email</td>\n",
       "      <td>Might be</td>\n",
       "      <td>No</td>\n",
       "      <td>No</td>\n",
       "      <td>Potential Lead</td>\n",
       "      <td>Mumbai</td>\n",
       "      <td>02.Medium</td>\n",
       "      <td>01.High</td>\n",
       "      <td>14.0</td>\n",
       "      <td>20.0</td>\n",
       "      <td>No</td>\n",
       "      <td>Yes</td>\n",
       "      <td>Email Opened</td>\n",
       "    </tr>\n",
       "    <tr>\n",
       "      <th>3</th>\n",
       "      <td>0cc2df48-7cf4-4e39-9de9-19797f9b38cc</td>\n",
       "      <td>660719</td>\n",
       "      <td>Landing Page Submission</td>\n",
       "      <td>Direct Traffic</td>\n",
       "      <td>No</td>\n",
       "      <td>No</td>\n",
       "      <td>0</td>\n",
       "      <td>1.0</td>\n",
       "      <td>305</td>\n",
       "      <td>1.0</td>\n",
       "      <td>Unreachable</td>\n",
       "      <td>India</td>\n",
       "      <td>Media and Advertising</td>\n",
       "      <td>Word Of Mouth</td>\n",
       "      <td>Unemployed</td>\n",
       "      <td>Better Career Prospects</td>\n",
       "      <td>No</td>\n",
       "      <td>No</td>\n",
       "      <td>No</td>\n",
       "      <td>No</td>\n",
       "      <td>No</td>\n",
       "      <td>No</td>\n",
       "      <td>No</td>\n",
       "      <td>No</td>\n",
       "      <td>Ringing</td>\n",
       "      <td>Not Sure</td>\n",
       "      <td>No</td>\n",
       "      <td>No</td>\n",
       "      <td>Select</td>\n",
       "      <td>Mumbai</td>\n",
       "      <td>02.Medium</td>\n",
       "      <td>01.High</td>\n",
       "      <td>13.0</td>\n",
       "      <td>17.0</td>\n",
       "      <td>No</td>\n",
       "      <td>No</td>\n",
       "      <td>Modified</td>\n",
       "    </tr>\n",
       "    <tr>\n",
       "      <th>4</th>\n",
       "      <td>3256f628-e534-4826-9d63-4a8b88782852</td>\n",
       "      <td>660681</td>\n",
       "      <td>Landing Page Submission</td>\n",
       "      <td>Google</td>\n",
       "      <td>No</td>\n",
       "      <td>No</td>\n",
       "      <td>1</td>\n",
       "      <td>2.0</td>\n",
       "      <td>1428</td>\n",
       "      <td>1.0</td>\n",
       "      <td>Converted to Lead</td>\n",
       "      <td>India</td>\n",
       "      <td>Select</td>\n",
       "      <td>Other</td>\n",
       "      <td>Unemployed</td>\n",
       "      <td>Better Career Prospects</td>\n",
       "      <td>No</td>\n",
       "      <td>No</td>\n",
       "      <td>No</td>\n",
       "      <td>No</td>\n",
       "      <td>No</td>\n",
       "      <td>No</td>\n",
       "      <td>No</td>\n",
       "      <td>No</td>\n",
       "      <td>Will revert after reading the email</td>\n",
       "      <td>Might be</td>\n",
       "      <td>No</td>\n",
       "      <td>No</td>\n",
       "      <td>Select</td>\n",
       "      <td>Mumbai</td>\n",
       "      <td>02.Medium</td>\n",
       "      <td>01.High</td>\n",
       "      <td>15.0</td>\n",
       "      <td>18.0</td>\n",
       "      <td>No</td>\n",
       "      <td>No</td>\n",
       "      <td>Modified</td>\n",
       "    </tr>\n",
       "  </tbody>\n",
       "</table>\n",
       "</div>"
      ],
      "text/plain": [
       "                            Prospect ID  Lead Number              Lead Origin  \\\n",
       "0  7927b2df-8bba-4d29-b9a2-b6e0beafe620       660737                      API   \n",
       "1  2a272436-5132-4136-86fa-dcc88c88f482       660728                      API   \n",
       "2  8cc8c611-a219-4f35-ad23-fdfd2656bd8a       660727  Landing Page Submission   \n",
       "3  0cc2df48-7cf4-4e39-9de9-19797f9b38cc       660719  Landing Page Submission   \n",
       "4  3256f628-e534-4826-9d63-4a8b88782852       660681  Landing Page Submission   \n",
       "\n",
       "      Lead Source Do Not Email Do Not Call  Converted  TotalVisits  \\\n",
       "0      Olark Chat           No          No          0          0.0   \n",
       "1  Organic Search           No          No          0          5.0   \n",
       "2  Direct Traffic           No          No          1          2.0   \n",
       "3  Direct Traffic           No          No          0          1.0   \n",
       "4          Google           No          No          1          2.0   \n",
       "\n",
       "   Total Time Spent on Website  Page Views Per Visit            Last Activity  \\\n",
       "0                            0                   0.0  Page Visited on Website   \n",
       "1                          674                   2.5             Email Opened   \n",
       "2                         1532                   2.0             Email Opened   \n",
       "3                          305                   1.0              Unreachable   \n",
       "4                         1428                   1.0        Converted to Lead   \n",
       "\n",
       "  Country           Specialization How did you hear about X Education  \\\n",
       "0     NaN                   Select                             Select   \n",
       "1   India                   Select                             Select   \n",
       "2   India  Business Administration                             Select   \n",
       "3   India    Media and Advertising                      Word Of Mouth   \n",
       "4   India                   Select                              Other   \n",
       "\n",
       "  What is your current occupation  \\\n",
       "0                      Unemployed   \n",
       "1                      Unemployed   \n",
       "2                         Student   \n",
       "3                      Unemployed   \n",
       "4                      Unemployed   \n",
       "\n",
       "  What matters most to you in choosing a course Search Magazine  \\\n",
       "0                       Better Career Prospects     No       No   \n",
       "1                       Better Career Prospects     No       No   \n",
       "2                       Better Career Prospects     No       No   \n",
       "3                       Better Career Prospects     No       No   \n",
       "4                       Better Career Prospects     No       No   \n",
       "\n",
       "  Newspaper Article X Education Forums Newspaper Digital Advertisement  \\\n",
       "0                No                 No        No                    No   \n",
       "1                No                 No        No                    No   \n",
       "2                No                 No        No                    No   \n",
       "3                No                 No        No                    No   \n",
       "4                No                 No        No                    No   \n",
       "\n",
       "  Through Recommendations Receive More Updates About Our Courses  \\\n",
       "0                      No                                     No   \n",
       "1                      No                                     No   \n",
       "2                      No                                     No   \n",
       "3                      No                                     No   \n",
       "4                      No                                     No   \n",
       "\n",
       "                                  Tags      Lead Quality  \\\n",
       "0          Interested in other courses  Low in Relevance   \n",
       "1                              Ringing               NaN   \n",
       "2  Will revert after reading the email          Might be   \n",
       "3                              Ringing          Not Sure   \n",
       "4  Will revert after reading the email          Might be   \n",
       "\n",
       "  Update me on Supply Chain Content Get updates on DM Content    Lead Profile  \\\n",
       "0                                No                        No          Select   \n",
       "1                                No                        No          Select   \n",
       "2                                No                        No  Potential Lead   \n",
       "3                                No                        No          Select   \n",
       "4                                No                        No          Select   \n",
       "\n",
       "     City Asymmetrique Activity Index Asymmetrique Profile Index  \\\n",
       "0  Select                   02.Medium                  02.Medium   \n",
       "1  Select                   02.Medium                  02.Medium   \n",
       "2  Mumbai                   02.Medium                    01.High   \n",
       "3  Mumbai                   02.Medium                    01.High   \n",
       "4  Mumbai                   02.Medium                    01.High   \n",
       "\n",
       "   Asymmetrique Activity Score  Asymmetrique Profile Score  \\\n",
       "0                         15.0                        15.0   \n",
       "1                         15.0                        15.0   \n",
       "2                         14.0                        20.0   \n",
       "3                         13.0                        17.0   \n",
       "4                         15.0                        18.0   \n",
       "\n",
       "  I agree to pay the amount through cheque  \\\n",
       "0                                       No   \n",
       "1                                       No   \n",
       "2                                       No   \n",
       "3                                       No   \n",
       "4                                       No   \n",
       "\n",
       "  A free copy of Mastering The Interview Last Notable Activity  \n",
       "0                                     No              Modified  \n",
       "1                                     No          Email Opened  \n",
       "2                                    Yes          Email Opened  \n",
       "3                                     No              Modified  \n",
       "4                                     No              Modified  "
      ]
     },
     "execution_count": 35,
     "metadata": {},
     "output_type": "execute_result"
    }
   ],
   "source": [
    "#Loading the dataset\n",
    "df=pd.read_csv('Leads.csv')\n",
    "pd.set_option('display.max_columns', None) # To see all the columns\n",
    "df.head()"
   ]
  },
  {
   "cell_type": "markdown",
   "id": "166390a6",
   "metadata": {},
   "source": [
    "Let us see the disctionary values which was from Excel file only"
   ]
  },
  {
   "cell_type": "code",
   "execution_count": 36,
   "id": "a955e022",
   "metadata": {},
   "outputs": [
    {
     "data": {
      "text/html": [
       "<div>\n",
       "<style scoped>\n",
       "    .dataframe tbody tr th:only-of-type {\n",
       "        vertical-align: middle;\n",
       "    }\n",
       "\n",
       "    .dataframe tbody tr th {\n",
       "        vertical-align: top;\n",
       "    }\n",
       "\n",
       "    .dataframe thead th {\n",
       "        text-align: right;\n",
       "    }\n",
       "</style>\n",
       "<table border=\"1\" class=\"dataframe\">\n",
       "  <thead>\n",
       "    <tr style=\"text-align: right;\">\n",
       "      <th></th>\n",
       "      <th>Variables</th>\n",
       "      <th>Description</th>\n",
       "    </tr>\n",
       "  </thead>\n",
       "  <tbody>\n",
       "    <tr>\n",
       "      <th>0</th>\n",
       "      <td>Prospect ID</td>\n",
       "      <td>A unique ID with which the customer is identified.</td>\n",
       "    </tr>\n",
       "    <tr>\n",
       "      <th>1</th>\n",
       "      <td>Lead Number</td>\n",
       "      <td>A lead number assigned to each lead procured.</td>\n",
       "    </tr>\n",
       "    <tr>\n",
       "      <th>2</th>\n",
       "      <td>Lead Origin</td>\n",
       "      <td>The origin identifier with which the customer was identified to be a lead. Includes API, Landing Page Submission, etc.</td>\n",
       "    </tr>\n",
       "    <tr>\n",
       "      <th>3</th>\n",
       "      <td>Lead Source</td>\n",
       "      <td>The source of the lead. Includes Google, Organic Search, Olark Chat, etc.</td>\n",
       "    </tr>\n",
       "    <tr>\n",
       "      <th>4</th>\n",
       "      <td>Do Not Email</td>\n",
       "      <td>An indicator variable selected by the customer wherein they select whether of not they want to be emailed about the course or not.</td>\n",
       "    </tr>\n",
       "  </tbody>\n",
       "</table>\n",
       "</div>"
      ],
      "text/plain": [
       "      Variables  \\\n",
       "0   Prospect ID   \n",
       "1   Lead Number   \n",
       "2   Lead Origin   \n",
       "3   Lead Source   \n",
       "4  Do Not Email   \n",
       "\n",
       "                                                                                                                          Description  \n",
       "0                                                                                  A unique ID with which the customer is identified.  \n",
       "1                                                                                       A lead number assigned to each lead procured.  \n",
       "2              The origin identifier with which the customer was identified to be a lead. Includes API, Landing Page Submission, etc.  \n",
       "3                                                           The source of the lead. Includes Google, Organic Search, Olark Chat, etc.  \n",
       "4  An indicator variable selected by the customer wherein they select whether of not they want to be emailed about the course or not.  "
      ]
     },
     "execution_count": 36,
     "metadata": {},
     "output_type": "execute_result"
    }
   ],
   "source": [
    "pd.set_option('display.max_colwidth', None)\n",
    "dictionary=pd.read_excel(\"Leads Data Dictionary.xlsx\",header=2).drop('Unnamed: 0',axis=1)\n",
    "dictionary.head()"
   ]
  },
  {
   "cell_type": "code",
   "execution_count": 37,
   "id": "5ee21da5",
   "metadata": {},
   "outputs": [
    {
     "data": {
      "text/plain": [
       "(9240, 37)"
      ]
     },
     "execution_count": 37,
     "metadata": {},
     "output_type": "execute_result"
    }
   ],
   "source": [
    "#Shape of the Data\n",
    "df.shape"
   ]
  },
  {
   "cell_type": "code",
   "execution_count": 38,
   "id": "9a4ed3e0",
   "metadata": {},
   "outputs": [
    {
     "data": {
      "text/plain": [
       "0"
      ]
     },
     "execution_count": 38,
     "metadata": {},
     "output_type": "execute_result"
    }
   ],
   "source": [
    "#Checking duplicated values\n",
    "df.duplicated().sum()"
   ]
  },
  {
   "cell_type": "markdown",
   "id": "97162eae",
   "metadata": {},
   "source": [
    "There are no duplicate values "
   ]
  },
  {
   "cell_type": "code",
   "execution_count": 39,
   "id": "6754a774",
   "metadata": {},
   "outputs": [
    {
     "name": "stdout",
     "output_type": "stream",
     "text": [
      "<class 'pandas.core.frame.DataFrame'>\n",
      "RangeIndex: 9240 entries, 0 to 9239\n",
      "Data columns (total 37 columns):\n",
      " #   Column                                         Non-Null Count  Dtype  \n",
      "---  ------                                         --------------  -----  \n",
      " 0   Prospect ID                                    9240 non-null   object \n",
      " 1   Lead Number                                    9240 non-null   int64  \n",
      " 2   Lead Origin                                    9240 non-null   object \n",
      " 3   Lead Source                                    9204 non-null   object \n",
      " 4   Do Not Email                                   9240 non-null   object \n",
      " 5   Do Not Call                                    9240 non-null   object \n",
      " 6   Converted                                      9240 non-null   int64  \n",
      " 7   TotalVisits                                    9103 non-null   float64\n",
      " 8   Total Time Spent on Website                    9240 non-null   int64  \n",
      " 9   Page Views Per Visit                           9103 non-null   float64\n",
      " 10  Last Activity                                  9137 non-null   object \n",
      " 11  Country                                        6779 non-null   object \n",
      " 12  Specialization                                 7802 non-null   object \n",
      " 13  How did you hear about X Education             7033 non-null   object \n",
      " 14  What is your current occupation                6550 non-null   object \n",
      " 15  What matters most to you in choosing a course  6531 non-null   object \n",
      " 16  Search                                         9240 non-null   object \n",
      " 17  Magazine                                       9240 non-null   object \n",
      " 18  Newspaper Article                              9240 non-null   object \n",
      " 19  X Education Forums                             9240 non-null   object \n",
      " 20  Newspaper                                      9240 non-null   object \n",
      " 21  Digital Advertisement                          9240 non-null   object \n",
      " 22  Through Recommendations                        9240 non-null   object \n",
      " 23  Receive More Updates About Our Courses         9240 non-null   object \n",
      " 24  Tags                                           5887 non-null   object \n",
      " 25  Lead Quality                                   4473 non-null   object \n",
      " 26  Update me on Supply Chain Content              9240 non-null   object \n",
      " 27  Get updates on DM Content                      9240 non-null   object \n",
      " 28  Lead Profile                                   6531 non-null   object \n",
      " 29  City                                           7820 non-null   object \n",
      " 30  Asymmetrique Activity Index                    5022 non-null   object \n",
      " 31  Asymmetrique Profile Index                     5022 non-null   object \n",
      " 32  Asymmetrique Activity Score                    5022 non-null   float64\n",
      " 33  Asymmetrique Profile Score                     5022 non-null   float64\n",
      " 34  I agree to pay the amount through cheque       9240 non-null   object \n",
      " 35  A free copy of Mastering The Interview         9240 non-null   object \n",
      " 36  Last Notable Activity                          9240 non-null   object \n",
      "dtypes: float64(4), int64(3), object(30)\n",
      "memory usage: 2.6+ MB\n"
     ]
    }
   ],
   "source": [
    "#checking info of the data\n",
    "df.info()"
   ]
  },
  {
   "cell_type": "code",
   "execution_count": 40,
   "id": "bc047fde",
   "metadata": {},
   "outputs": [
    {
     "data": {
      "text/html": [
       "<div>\n",
       "<style scoped>\n",
       "    .dataframe tbody tr th:only-of-type {\n",
       "        vertical-align: middle;\n",
       "    }\n",
       "\n",
       "    .dataframe tbody tr th {\n",
       "        vertical-align: top;\n",
       "    }\n",
       "\n",
       "    .dataframe thead th {\n",
       "        text-align: right;\n",
       "    }\n",
       "</style>\n",
       "<table border=\"1\" class=\"dataframe\">\n",
       "  <thead>\n",
       "    <tr style=\"text-align: right;\">\n",
       "      <th></th>\n",
       "      <th>Lead Number</th>\n",
       "      <th>Converted</th>\n",
       "      <th>TotalVisits</th>\n",
       "      <th>Total Time Spent on Website</th>\n",
       "      <th>Page Views Per Visit</th>\n",
       "      <th>Asymmetrique Activity Score</th>\n",
       "      <th>Asymmetrique Profile Score</th>\n",
       "    </tr>\n",
       "  </thead>\n",
       "  <tbody>\n",
       "    <tr>\n",
       "      <th>count</th>\n",
       "      <td>9240.000000</td>\n",
       "      <td>9240.000000</td>\n",
       "      <td>9103.000000</td>\n",
       "      <td>9240.000000</td>\n",
       "      <td>9103.000000</td>\n",
       "      <td>5022.000000</td>\n",
       "      <td>5022.000000</td>\n",
       "    </tr>\n",
       "    <tr>\n",
       "      <th>mean</th>\n",
       "      <td>617188.435606</td>\n",
       "      <td>0.385390</td>\n",
       "      <td>3.445238</td>\n",
       "      <td>487.698268</td>\n",
       "      <td>2.362820</td>\n",
       "      <td>14.306252</td>\n",
       "      <td>16.344883</td>\n",
       "    </tr>\n",
       "    <tr>\n",
       "      <th>std</th>\n",
       "      <td>23405.995698</td>\n",
       "      <td>0.486714</td>\n",
       "      <td>4.854853</td>\n",
       "      <td>548.021466</td>\n",
       "      <td>2.161418</td>\n",
       "      <td>1.386694</td>\n",
       "      <td>1.811395</td>\n",
       "    </tr>\n",
       "    <tr>\n",
       "      <th>min</th>\n",
       "      <td>579533.000000</td>\n",
       "      <td>0.000000</td>\n",
       "      <td>0.000000</td>\n",
       "      <td>0.000000</td>\n",
       "      <td>0.000000</td>\n",
       "      <td>7.000000</td>\n",
       "      <td>11.000000</td>\n",
       "    </tr>\n",
       "    <tr>\n",
       "      <th>25%</th>\n",
       "      <td>596484.500000</td>\n",
       "      <td>0.000000</td>\n",
       "      <td>1.000000</td>\n",
       "      <td>12.000000</td>\n",
       "      <td>1.000000</td>\n",
       "      <td>14.000000</td>\n",
       "      <td>15.000000</td>\n",
       "    </tr>\n",
       "    <tr>\n",
       "      <th>50%</th>\n",
       "      <td>615479.000000</td>\n",
       "      <td>0.000000</td>\n",
       "      <td>3.000000</td>\n",
       "      <td>248.000000</td>\n",
       "      <td>2.000000</td>\n",
       "      <td>14.000000</td>\n",
       "      <td>16.000000</td>\n",
       "    </tr>\n",
       "    <tr>\n",
       "      <th>75%</th>\n",
       "      <td>637387.250000</td>\n",
       "      <td>1.000000</td>\n",
       "      <td>5.000000</td>\n",
       "      <td>936.000000</td>\n",
       "      <td>3.000000</td>\n",
       "      <td>15.000000</td>\n",
       "      <td>18.000000</td>\n",
       "    </tr>\n",
       "    <tr>\n",
       "      <th>max</th>\n",
       "      <td>660737.000000</td>\n",
       "      <td>1.000000</td>\n",
       "      <td>251.000000</td>\n",
       "      <td>2272.000000</td>\n",
       "      <td>55.000000</td>\n",
       "      <td>18.000000</td>\n",
       "      <td>20.000000</td>\n",
       "    </tr>\n",
       "  </tbody>\n",
       "</table>\n",
       "</div>"
      ],
      "text/plain": [
       "         Lead Number    Converted  TotalVisits  Total Time Spent on Website  \\\n",
       "count    9240.000000  9240.000000  9103.000000                  9240.000000   \n",
       "mean   617188.435606     0.385390     3.445238                   487.698268   \n",
       "std     23405.995698     0.486714     4.854853                   548.021466   \n",
       "min    579533.000000     0.000000     0.000000                     0.000000   \n",
       "25%    596484.500000     0.000000     1.000000                    12.000000   \n",
       "50%    615479.000000     0.000000     3.000000                   248.000000   \n",
       "75%    637387.250000     1.000000     5.000000                   936.000000   \n",
       "max    660737.000000     1.000000   251.000000                  2272.000000   \n",
       "\n",
       "       Page Views Per Visit  Asymmetrique Activity Score  \\\n",
       "count           9103.000000                  5022.000000   \n",
       "mean               2.362820                    14.306252   \n",
       "std                2.161418                     1.386694   \n",
       "min                0.000000                     7.000000   \n",
       "25%                1.000000                    14.000000   \n",
       "50%                2.000000                    14.000000   \n",
       "75%                3.000000                    15.000000   \n",
       "max               55.000000                    18.000000   \n",
       "\n",
       "       Asymmetrique Profile Score  \n",
       "count                 5022.000000  \n",
       "mean                    16.344883  \n",
       "std                      1.811395  \n",
       "min                     11.000000  \n",
       "25%                     15.000000  \n",
       "50%                     16.000000  \n",
       "75%                     18.000000  \n",
       "max                     20.000000  "
      ]
     },
     "execution_count": 40,
     "metadata": {},
     "output_type": "execute_result"
    }
   ],
   "source": [
    "#checking describe of the data\n",
    "df.describe()"
   ]
  },
  {
   "cell_type": "markdown",
   "id": "c651593e",
   "metadata": {},
   "source": [
    "# 3. Cleaning the Data after understanding"
   ]
  },
  {
   "cell_type": "code",
   "execution_count": 41,
   "id": "81fe45c8",
   "metadata": {},
   "outputs": [
    {
     "data": {
      "text/plain": [
       "Lead Quality                                     51.590909\n",
       "Asymmetrique Activity Index                      45.649351\n",
       "Asymmetrique Profile Score                       45.649351\n",
       "Asymmetrique Activity Score                      45.649351\n",
       "Asymmetrique Profile Index                       45.649351\n",
       "Tags                                             36.287879\n",
       "Lead Profile                                     29.318182\n",
       "What matters most to you in choosing a course    29.318182\n",
       "What is your current occupation                  29.112554\n",
       "Country                                          26.634199\n",
       "How did you hear about X Education               23.885281\n",
       "Specialization                                   15.562771\n",
       "City                                             15.367965\n",
       "Page Views Per Visit                              1.482684\n",
       "TotalVisits                                       1.482684\n",
       "Last Activity                                     1.114719\n",
       "Lead Source                                       0.389610\n",
       "Receive More Updates About Our Courses            0.000000\n",
       "I agree to pay the amount through cheque          0.000000\n",
       "Get updates on DM Content                         0.000000\n",
       "dtype: float64"
      ]
     },
     "execution_count": 41,
     "metadata": {},
     "output_type": "execute_result"
    }
   ],
   "source": [
    "# checking the null value\n",
    "df_missing = df.count()/len(df)\n",
    "df_missing = (1-df_missing)*100\n",
    "df_missing.sort_values(ascending=False).head(20)"
   ]
  },
  {
   "cell_type": "markdown",
   "id": "53c951e6",
   "metadata": {},
   "source": [
    "Dropping all the column that have missing value more than 20 percent."
   ]
  },
  {
   "cell_type": "code",
   "execution_count": 42,
   "id": "8c3c0c0f",
   "metadata": {},
   "outputs": [],
   "source": [
    "df = df.loc[:, df_missing<20]"
   ]
  },
  {
   "cell_type": "markdown",
   "id": "fc50f758",
   "metadata": {},
   "source": [
    "Removed total 11 column out of 37 column so remaining only 26 columns"
   ]
  },
  {
   "cell_type": "code",
   "execution_count": 43,
   "id": "d400e8f7",
   "metadata": {},
   "outputs": [
    {
     "data": {
      "text/plain": [
       "(9240, 26)"
      ]
     },
     "execution_count": 43,
     "metadata": {},
     "output_type": "execute_result"
    }
   ],
   "source": [
    "df.shape"
   ]
  },
  {
   "cell_type": "markdown",
   "id": "56491502",
   "metadata": {},
   "source": [
    "Observed still there are 5 columns with missing value "
   ]
  },
  {
   "cell_type": "markdown",
   "id": "b79e644e",
   "metadata": {},
   "source": [
    "Specialization 15.562771%\n",
    "\n",
    "City 15.367965%\n",
    "\n",
    "Page Views Per Visit 1.482684%\n",
    "\n",
    "TotalVisits 1.482684%\n",
    "\n",
    "Last Activity 1.114719%"
   ]
  },
  {
   "cell_type": "code",
   "execution_count": 44,
   "id": "f78f8ed9",
   "metadata": {},
   "outputs": [
    {
     "data": {
      "image/png": "[encoded data removed]",
      "text/plain": [
       "<Figure size 432x288 with 1 Axes>"
      ]
     },
     "metadata": {
      "needs_background": "light"
     },
     "output_type": "display_data"
    },
    {
     "data": {
      "image/png": "[encoded data removed]",
      "text/plain": [
       "<Figure size 432x288 with 1 Axes>"
      ]
     },
     "metadata": {
      "needs_background": "light"
     },
     "output_type": "display_data"
    },
    {
     "data": {
      "image/png": "[encoded data removed]",
      "text/plain": [
       "<Figure size 432x288 with 1 Axes>"
      ]
     },
     "metadata": {
      "needs_background": "light"
     },
     "output_type": "display_data"
    },
    {
     "data": {
      "image/png": "[encoded data removed]",
      "text/plain": [
       "<Figure size 432x288 with 1 Axes>"
      ]
     },
     "metadata": {
      "needs_background": "light"
     },
     "output_type": "display_data"
    },
    {
     "data": {
      "image/png": "[encoded data removed]",
      "text/plain": [
       "<Figure size 432x288 with 1 Axes>"
      ]
     },
     "metadata": {
      "needs_background": "light"
     },
     "output_type": "display_data"
    }
   ],
   "source": [
    "missing_cols=['Specialization','City','Page Views Per Visit','TotalVisits','Last Activity']\n",
    "\n",
    "for i in missing_cols:\n",
    "    sns.countplot(x=i, data = df)\n",
    "    plt.xticks(rotation=90)\n",
    "    plt.show()"
   ]
  },
  {
   "cell_type": "code",
   "execution_count": 45,
   "id": "01a4f748",
   "metadata": {},
   "outputs": [],
   "source": [
    "#dropping specialization and City as having select and large missing\n",
    "\n",
    "df.drop(['Specialization','City'],axis=1,inplace=True)"
   ]
  },
  {
   "cell_type": "code",
   "execution_count": 46,
   "id": "ddadbf5c",
   "metadata": {},
   "outputs": [
    {
     "data": {
      "text/plain": [
       "Index(['Prospect ID', 'Lead Number', 'Lead Origin', 'Lead Source',\n",
       "       'Do Not Email', 'Do Not Call', 'Converted', 'TotalVisits',\n",
       "       'Total Time Spent on Website', 'Page Views Per Visit', 'Last Activity',\n",
       "       'Search', 'Magazine', 'Newspaper Article', 'X Education Forums',\n",
       "       'Newspaper', 'Digital Advertisement', 'Through Recommendations',\n",
       "       'Receive More Updates About Our Courses',\n",
       "       'Update me on Supply Chain Content', 'Get updates on DM Content',\n",
       "       'I agree to pay the amount through cheque',\n",
       "       'A free copy of Mastering The Interview', 'Last Notable Activity'],\n",
       "      dtype='object')"
      ]
     },
     "execution_count": 46,
     "metadata": {},
     "output_type": "execute_result"
    }
   ],
   "source": [
    "#columns of the dataframe\n",
    "cols=df.columns\n",
    "cols"
   ]
  },
  {
   "cell_type": "markdown",
   "id": "426774bf",
   "metadata": {},
   "source": [
    "Checking the unique value count of each of the column"
   ]
  },
  {
   "cell_type": "code",
   "execution_count": 47,
   "id": "0cae7903",
   "metadata": {},
   "outputs": [
    {
     "name": "stdout",
     "output_type": "stream",
     "text": [
      "Column Name: Prospect ID\n",
      "+++++\n",
      "unique_value 9240\n",
      "+++++\n",
      "Value Count:\n",
      " 7927b2df-8bba-4d29-b9a2-b6e0beafe620    1\n",
      "22e9d4ef-d294-4ebf-81c7-7c7a1105aeea    1\n",
      "46befc49-253a-419b-abea-2fd978d2e2b1    1\n",
      "9d35a2c2-09d8-439f-9875-0e8bbf267f5a    1\n",
      "f0de9371-4dc2-48c2-9785-a08d6fc4fcb5    1\n",
      "                                       ..\n",
      "ff1f7582-cb7b-4b94-9cdc-3d0d0afdd9a3    1\n",
      "644099a2-3da4-4d23-9546-7676340a372b    1\n",
      "2a093175-415b-4321-9e69-ed8d9df65a3c    1\n",
      "c66249a3-8500-4c66-a511-312d914573de    1\n",
      "571b5c8e-a5b2-4d57-8574-f2ffb06fdeff    1\n",
      "Name: Prospect ID, Length: 9240, dtype: int64\n",
      "**************************************************\n",
      "Column Name: Lead Number\n",
      "+++++\n",
      "unique_value 9240\n",
      "+++++\n",
      "Value Count:\n",
      " 660737    1\n",
      "603303    1\n",
      "602561    1\n",
      "602557    1\n",
      "602540    1\n",
      "         ..\n",
      "630422    1\n",
      "630405    1\n",
      "630403    1\n",
      "630390    1\n",
      "579533    1\n",
      "Name: Lead Number, Length: 9240, dtype: int64\n",
      "**************************************************\n",
      "Column Name: Lead Origin\n",
      "+++++\n",
      "unique_value 5\n",
      "+++++\n",
      "Value Count:\n",
      " Landing Page Submission    4886\n",
      "API                        3580\n",
      "Lead Add Form               718\n",
      "Lead Import                  55\n",
      "Quick Add Form                1\n",
      "Name: Lead Origin, dtype: int64\n",
      "**************************************************\n",
      "Column Name: Lead Source\n",
      "+++++\n",
      "unique_value 21\n",
      "+++++\n",
      "Value Count:\n",
      " Google               2868\n",
      "Direct Traffic       2543\n",
      "Olark Chat           1755\n",
      "Organic Search       1154\n",
      "Reference             534\n",
      "Welingak Website      142\n",
      "Referral Sites        125\n",
      "Facebook               55\n",
      "bing                    6\n",
      "google                  5\n",
      "Click2call              4\n",
      "Press_Release           2\n",
      "Social Media            2\n",
      "Live Chat               2\n",
      "youtubechannel          1\n",
      "testone                 1\n",
      "Pay per Click Ads       1\n",
      "welearnblog_Home        1\n",
      "WeLearn                 1\n",
      "blog                    1\n",
      "NC_EDM                  1\n",
      "Name: Lead Source, dtype: int64\n",
      "**************************************************\n",
      "Column Name: Do Not Email\n",
      "+++++\n",
      "unique_value 2\n",
      "+++++\n",
      "Value Count:\n",
      " No     8506\n",
      "Yes     734\n",
      "Name: Do Not Email, dtype: int64\n",
      "**************************************************\n",
      "Column Name: Do Not Call\n",
      "+++++\n",
      "unique_value 2\n",
      "+++++\n",
      "Value Count:\n",
      " No     9238\n",
      "Yes       2\n",
      "Name: Do Not Call, dtype: int64\n",
      "**************************************************\n",
      "Column Name: Converted\n",
      "+++++\n",
      "unique_value 2\n",
      "+++++\n",
      "Value Count:\n",
      " 0    5679\n",
      "1    3561\n",
      "Name: Converted, dtype: int64\n",
      "**************************************************\n",
      "Column Name: TotalVisits\n",
      "+++++\n",
      "unique_value 41\n",
      "+++++\n",
      "Value Count:\n",
      " 0.0      2189\n",
      "2.0      1680\n",
      "3.0      1306\n",
      "4.0      1120\n",
      "5.0       783\n",
      "6.0       466\n",
      "1.0       395\n",
      "7.0       309\n",
      "8.0       224\n",
      "9.0       164\n",
      "10.0      114\n",
      "11.0       86\n",
      "13.0       48\n",
      "12.0       45\n",
      "14.0       36\n",
      "16.0       21\n",
      "15.0       18\n",
      "17.0       16\n",
      "18.0       15\n",
      "20.0       12\n",
      "19.0        9\n",
      "21.0        6\n",
      "23.0        6\n",
      "24.0        5\n",
      "25.0        5\n",
      "27.0        5\n",
      "22.0        3\n",
      "29.0        2\n",
      "28.0        2\n",
      "26.0        2\n",
      "141.0       1\n",
      "55.0        1\n",
      "30.0        1\n",
      "43.0        1\n",
      "74.0        1\n",
      "41.0        1\n",
      "54.0        1\n",
      "115.0       1\n",
      "251.0       1\n",
      "32.0        1\n",
      "42.0        1\n",
      "Name: TotalVisits, dtype: int64\n",
      "**************************************************\n",
      "Column Name: Total Time Spent on Website\n",
      "+++++\n",
      "unique_value 1731\n",
      "+++++\n",
      "Value Count:\n",
      " 0       2193\n",
      "60        19\n",
      "74        18\n",
      "75        18\n",
      "127       18\n",
      "        ... \n",
      "1701       1\n",
      "1952       1\n",
      "1229       1\n",
      "1743       1\n",
      "927        1\n",
      "Name: Total Time Spent on Website, Length: 1731, dtype: int64\n",
      "**************************************************\n",
      "Column Name: Page Views Per Visit\n",
      "+++++\n",
      "unique_value 114\n",
      "+++++\n",
      "Value Count:\n",
      " 0.00    2189\n",
      "2.00    1795\n",
      "3.00    1196\n",
      "4.00     896\n",
      "1.00     651\n",
      "        ... \n",
      "3.43       1\n",
      "2.56       1\n",
      "6.33       1\n",
      "1.64       1\n",
      "2.08       1\n",
      "Name: Page Views Per Visit, Length: 114, dtype: int64\n",
      "**************************************************\n",
      "Column Name: Last Activity\n",
      "+++++\n",
      "unique_value 17\n",
      "+++++\n",
      "Value Count:\n",
      " Email Opened                    3437\n",
      "SMS Sent                        2745\n",
      "Olark Chat Conversation          973\n",
      "Page Visited on Website          640\n",
      "Converted to Lead                428\n",
      "Email Bounced                    326\n",
      "Email Link Clicked               267\n",
      "Form Submitted on Website        116\n",
      "Unreachable                       93\n",
      "Unsubscribed                      61\n",
      "Had a Phone Conversation          30\n",
      "Approached upfront                 9\n",
      "View in browser link Clicked       6\n",
      "Email Received                     2\n",
      "Email Marked Spam                  2\n",
      "Visited Booth in Tradeshow         1\n",
      "Resubscribed to emails             1\n",
      "Name: Last Activity, dtype: int64\n",
      "**************************************************\n",
      "Column Name: Search\n",
      "+++++\n",
      "unique_value 2\n",
      "+++++\n",
      "Value Count:\n",
      " No     9226\n",
      "Yes      14\n",
      "Name: Search, dtype: int64\n",
      "**************************************************\n",
      "Column Name: Magazine\n",
      "+++++\n",
      "unique_value 1\n",
      "+++++\n",
      "Value Count:\n",
      " No    9240\n",
      "Name: Magazine, dtype: int64\n",
      "**************************************************\n",
      "Column Name: Newspaper Article\n",
      "+++++\n",
      "unique_value 2\n",
      "+++++\n",
      "Value Count:\n",
      " No     9238\n",
      "Yes       2\n",
      "Name: Newspaper Article, dtype: int64\n",
      "**************************************************\n",
      "Column Name: X Education Forums\n",
      "+++++\n",
      "unique_value 2\n",
      "+++++\n",
      "Value Count:\n",
      " No     9239\n",
      "Yes       1\n",
      "Name: X Education Forums, dtype: int64\n",
      "**************************************************\n",
      "Column Name: Newspaper\n",
      "+++++\n",
      "unique_value 2\n",
      "+++++\n",
      "Value Count:\n",
      " No     9239\n",
      "Yes       1\n",
      "Name: Newspaper, dtype: int64\n",
      "**************************************************\n",
      "Column Name: Digital Advertisement\n",
      "+++++\n",
      "unique_value 2\n",
      "+++++\n",
      "Value Count:\n",
      " No     9236\n",
      "Yes       4\n",
      "Name: Digital Advertisement, dtype: int64\n",
      "**************************************************\n",
      "Column Name: Through Recommendations\n",
      "+++++\n",
      "unique_value 2\n",
      "+++++\n",
      "Value Count:\n",
      " No     9233\n",
      "Yes       7\n",
      "Name: Through Recommendations, dtype: int64\n",
      "**************************************************\n",
      "Column Name: Receive More Updates About Our Courses\n",
      "+++++\n",
      "unique_value 1\n",
      "+++++\n",
      "Value Count:\n",
      " No    9240\n",
      "Name: Receive More Updates About Our Courses, dtype: int64\n",
      "**************************************************\n",
      "Column Name: Update me on Supply Chain Content\n",
      "+++++\n",
      "unique_value 1\n",
      "+++++\n",
      "Value Count:\n",
      " No    9240\n",
      "Name: Update me on Supply Chain Content, dtype: int64\n",
      "**************************************************\n",
      "Column Name: Get updates on DM Content\n",
      "+++++\n",
      "unique_value 1\n",
      "+++++\n",
      "Value Count:\n",
      " No    9240\n",
      "Name: Get updates on DM Content, dtype: int64\n",
      "**************************************************\n",
      "Column Name: I agree to pay the amount through cheque\n",
      "+++++\n",
      "unique_value 1\n",
      "+++++\n",
      "Value Count:\n",
      " No    9240\n",
      "Name: I agree to pay the amount through cheque, dtype: int64\n",
      "**************************************************\n",
      "Column Name: A free copy of Mastering The Interview\n",
      "+++++\n",
      "unique_value 2\n",
      "+++++\n",
      "Value Count:\n",
      " No     6352\n",
      "Yes    2888\n",
      "Name: A free copy of Mastering The Interview, dtype: int64\n",
      "**************************************************\n",
      "Column Name: Last Notable Activity\n",
      "+++++\n",
      "unique_value 16\n",
      "+++++\n",
      "Value Count:\n",
      " Modified                        3407\n",
      "Email Opened                    2827\n",
      "SMS Sent                        2172\n",
      "Page Visited on Website          318\n",
      "Olark Chat Conversation          183\n",
      "Email Link Clicked               173\n",
      "Email Bounced                     60\n",
      "Unsubscribed                      47\n",
      "Unreachable                       32\n",
      "Had a Phone Conversation          14\n",
      "Email Marked Spam                  2\n",
      "Approached upfront                 1\n",
      "Resubscribed to emails             1\n",
      "View in browser link Clicked       1\n",
      "Form Submitted on Website          1\n",
      "Email Received                     1\n",
      "Name: Last Notable Activity, dtype: int64\n",
      "**************************************************\n"
     ]
    }
   ],
   "source": [
    "#lets check the unique value\n",
    "for i in cols:\n",
    "    print(\"Column Name:\",i)\n",
    "    print('+'*5)\n",
    "    print('unique_value',df[i].nunique())\n",
    "    print('+'*5)\n",
    "    print(\"Value Count:\\n\",df[i].value_counts())\n",
    "    print('*'*50)"
   ]
  },
  {
   "cell_type": "markdown",
   "id": "934e1477",
   "metadata": {},
   "source": [
    "From the above, we understood that we can drop the following columns:\n",
    "\n",
    "Prospect ID and Lead Number for having unique identifier\n",
    "\n",
    "The following columns need to be dropped as 99 to 100 % data is one sided. These columns have only two unique vales so these will not contribute to the analysis\n",
    "\n",
    "Do Not Email, Do Not Call,Search,Magazine,Newspaper Article,X Education Forums,Newspaper,Digital Advertisement,Through Recommendations,Receive More Updates About Our Courses,Update me on Supply Chain Content,Get updates on DM Content,I agree to pay the amount through cheque"
   ]
  },
  {
   "cell_type": "code",
   "execution_count": 48,
   "id": "321554db",
   "metadata": {},
   "outputs": [],
   "source": [
    "#List of the redundant variables\n",
    "cols_drop=['Prospect ID','Lead Number','Do Not Email', 'Do Not Call','Search','Magazine',\n",
    "           'Newspaper Article','X Education Forums','Newspaper','Digital Advertisement',\n",
    "           'Through Recommendations','Receive More Updates About Our Courses',\n",
    "           'Update me on Supply Chain Content','Get updates on DM Content',\n",
    "           'I agree to pay the amount through cheque']"
   ]
  },
  {
   "cell_type": "code",
   "execution_count": 49,
   "id": "6a526246",
   "metadata": {},
   "outputs": [],
   "source": [
    "#Dropping the redundant variabledf=df.drop(cols_drop,axis=1)"
   ]
  },
  {
   "cell_type": "code",
   "execution_count": 50,
   "id": "e7df60f4",
   "metadata": {},
   "outputs": [
    {
     "data": {
      "text/plain": [
       "(9240, 9)"
      ]
     },
     "execution_count": 50,
     "metadata": {},
     "output_type": "execute_result"
    }
   ],
   "source": [
    "#checking shape of the dataframe\n",
    "df.shape"
   ]
  },
  {
   "cell_type": "code",
   "execution_count": 51,
   "id": "119b525f",
   "metadata": {},
   "outputs": [
    {
     "data": {
      "text/plain": [
       "Lead Origin                                 0\n",
       "Lead Source                                36\n",
       "Converted                                   0\n",
       "TotalVisits                               137\n",
       "Total Time Spent on Website                 0\n",
       "Page Views Per Visit                      137\n",
       "Last Activity                             103\n",
       "A free copy of Mastering The Interview      0\n",
       "Last Notable Activity                       0\n",
       "dtype: int64"
      ]
     },
     "execution_count": 51,
     "metadata": {},
     "output_type": "execute_result"
    }
   ],
   "source": [
    "#checking the null value\n",
    "df.isnull().sum()"
   ]
  },
  {
   "cell_type": "markdown",
   "id": "74d646c8",
   "metadata": {},
   "source": [
    "From the above lets also drop the rows having the missing values"
   ]
  },
  {
   "cell_type": "code",
   "execution_count": 52,
   "id": "5d5f5482",
   "metadata": {},
   "outputs": [],
   "source": [
    "#dropping the row of the null values\n",
    "df_cleaned=df.dropna()"
   ]
  },
  {
   "cell_type": "code",
   "execution_count": 53,
   "id": "3fdb8f5e",
   "metadata": {},
   "outputs": [
    {
     "data": {
      "text/plain": [
       "Lead Origin                               0\n",
       "Lead Source                               0\n",
       "Converted                                 0\n",
       "TotalVisits                               0\n",
       "Total Time Spent on Website               0\n",
       "Page Views Per Visit                      0\n",
       "Last Activity                             0\n",
       "A free copy of Mastering The Interview    0\n",
       "Last Notable Activity                     0\n",
       "dtype: int64"
      ]
     },
     "execution_count": 53,
     "metadata": {},
     "output_type": "execute_result"
    }
   ],
   "source": [
    "#Confirming the null value again\n",
    "df_cleaned.isnull().sum()"
   ]
  },
  {
   "cell_type": "code",
   "execution_count": 54,
   "id": "6c2884c6",
   "metadata": {},
   "outputs": [
    {
     "data": {
      "text/plain": [
       "(9074, 9)"
      ]
     },
     "execution_count": 54,
     "metadata": {},
     "output_type": "execute_result"
    }
   ],
   "source": [
    "#checking shape of the dataframe\n",
    "df_cleaned.shape"
   ]
  },
  {
   "cell_type": "code",
   "execution_count": 55,
   "id": "99bd06b1",
   "metadata": {},
   "outputs": [
    {
     "data": {
      "text/html": [
       "<div>\n",
       "<style scoped>\n",
       "    .dataframe tbody tr th:only-of-type {\n",
       "        vertical-align: middle;\n",
       "    }\n",
       "\n",
       "    .dataframe tbody tr th {\n",
       "        vertical-align: top;\n",
       "    }\n",
       "\n",
       "    .dataframe thead th {\n",
       "        text-align: right;\n",
       "    }\n",
       "</style>\n",
       "<table border=\"1\" class=\"dataframe\">\n",
       "  <thead>\n",
       "    <tr style=\"text-align: right;\">\n",
       "      <th></th>\n",
       "      <th>Lead Origin</th>\n",
       "      <th>Lead Source</th>\n",
       "      <th>Converted</th>\n",
       "      <th>TotalVisits</th>\n",
       "      <th>Total Time Spent on Website</th>\n",
       "      <th>Page Views Per Visit</th>\n",
       "      <th>Last Activity</th>\n",
       "      <th>A free copy of Mastering The Interview</th>\n",
       "      <th>Last Notable Activity</th>\n",
       "    </tr>\n",
       "  </thead>\n",
       "  <tbody>\n",
       "    <tr>\n",
       "      <th>0</th>\n",
       "      <td>API</td>\n",
       "      <td>Olark Chat</td>\n",
       "      <td>0</td>\n",
       "      <td>0.0</td>\n",
       "      <td>0</td>\n",
       "      <td>0.0</td>\n",
       "      <td>Page Visited on Website</td>\n",
       "      <td>No</td>\n",
       "      <td>Modified</td>\n",
       "    </tr>\n",
       "    <tr>\n",
       "      <th>1</th>\n",
       "      <td>API</td>\n",
       "      <td>Organic Search</td>\n",
       "      <td>0</td>\n",
       "      <td>5.0</td>\n",
       "      <td>674</td>\n",
       "      <td>2.5</td>\n",
       "      <td>Email Opened</td>\n",
       "      <td>No</td>\n",
       "      <td>Email Opened</td>\n",
       "    </tr>\n",
       "    <tr>\n",
       "      <th>2</th>\n",
       "      <td>Landing Page Submission</td>\n",
       "      <td>Direct Traffic</td>\n",
       "      <td>1</td>\n",
       "      <td>2.0</td>\n",
       "      <td>1532</td>\n",
       "      <td>2.0</td>\n",
       "      <td>Email Opened</td>\n",
       "      <td>Yes</td>\n",
       "      <td>Email Opened</td>\n",
       "    </tr>\n",
       "    <tr>\n",
       "      <th>3</th>\n",
       "      <td>Landing Page Submission</td>\n",
       "      <td>Direct Traffic</td>\n",
       "      <td>0</td>\n",
       "      <td>1.0</td>\n",
       "      <td>305</td>\n",
       "      <td>1.0</td>\n",
       "      <td>Unreachable</td>\n",
       "      <td>No</td>\n",
       "      <td>Modified</td>\n",
       "    </tr>\n",
       "    <tr>\n",
       "      <th>4</th>\n",
       "      <td>Landing Page Submission</td>\n",
       "      <td>Google</td>\n",
       "      <td>1</td>\n",
       "      <td>2.0</td>\n",
       "      <td>1428</td>\n",
       "      <td>1.0</td>\n",
       "      <td>Converted to Lead</td>\n",
       "      <td>No</td>\n",
       "      <td>Modified</td>\n",
       "    </tr>\n",
       "  </tbody>\n",
       "</table>\n",
       "</div>"
      ],
      "text/plain": [
       "               Lead Origin     Lead Source  Converted  TotalVisits  \\\n",
       "0                      API      Olark Chat          0          0.0   \n",
       "1                      API  Organic Search          0          5.0   \n",
       "2  Landing Page Submission  Direct Traffic          1          2.0   \n",
       "3  Landing Page Submission  Direct Traffic          0          1.0   \n",
       "4  Landing Page Submission          Google          1          2.0   \n",
       "\n",
       "   Total Time Spent on Website  Page Views Per Visit            Last Activity  \\\n",
       "0                            0                   0.0  Page Visited on Website   \n",
       "1                          674                   2.5             Email Opened   \n",
       "2                         1532                   2.0             Email Opened   \n",
       "3                          305                   1.0              Unreachable   \n",
       "4                         1428                   1.0        Converted to Lead   \n",
       "\n",
       "  A free copy of Mastering The Interview Last Notable Activity  \n",
       "0                                     No              Modified  \n",
       "1                                     No          Email Opened  \n",
       "2                                    Yes          Email Opened  \n",
       "3                                     No              Modified  \n",
       "4                                     No              Modified  "
      ]
     },
     "execution_count": 55,
     "metadata": {},
     "output_type": "execute_result"
    }
   ],
   "source": [
    "#checking head of the dataframe\n",
    "df_cleaned.head()"
   ]
  },
  {
   "cell_type": "markdown",
   "id": "54b4a198",
   "metadata": {},
   "source": [
    "Lets checking the null values if any in the data"
   ]
  },
  {
   "cell_type": "code",
   "execution_count": 56,
   "id": "9169db64",
   "metadata": {},
   "outputs": [
    {
     "data": {
      "text/plain": [
       "Lead Origin                               0\n",
       "Lead Source                               0\n",
       "Converted                                 0\n",
       "TotalVisits                               0\n",
       "Total Time Spent on Website               0\n",
       "Page Views Per Visit                      0\n",
       "Last Activity                             0\n",
       "A free copy of Mastering The Interview    0\n",
       "Last Notable Activity                     0\n",
       "dtype: int64"
      ]
     },
     "execution_count": 56,
     "metadata": {},
     "output_type": "execute_result"
    }
   ],
   "source": [
    "#Sality check of the null and Select value\n",
    "(df_cleaned=='Select').sum()+df_cleaned.isnull().sum()"
   ]
  },
  {
   "cell_type": "code",
   "execution_count": 58,
   "id": "a441120f",
   "metadata": {},
   "outputs": [
    {
     "name": "stdout",
     "output_type": "stream",
     "text": [
      "<class 'pandas.core.frame.DataFrame'>\n",
      "Int64Index: 9074 entries, 0 to 9239\n",
      "Data columns (total 9 columns):\n",
      " #   Column                                  Non-Null Count  Dtype  \n",
      "---  ------                                  --------------  -----  \n",
      " 0   Lead Origin                             9074 non-null   object \n",
      " 1   Lead Source                             9074 non-null   object \n",
      " 2   Converted                               9074 non-null   int64  \n",
      " 3   TotalVisits                             9074 non-null   float64\n",
      " 4   Total Time Spent on Website             9074 non-null   int64  \n",
      " 5   Page Views Per Visit                    9074 non-null   float64\n",
      " 6   Last Activity                           9074 non-null   object \n",
      " 7   A free copy of Mastering The Interview  9074 non-null   object \n",
      " 8   Last Notable Activity                   9074 non-null   object \n",
      "dtypes: float64(2), int64(2), object(5)\n",
      "memory usage: 708.9+ KB\n"
     ]
    }
   ],
   "source": [
    "#checking info of the data\n",
    "df_cleaned.info()"
   ]
  },
  {
   "cell_type": "markdown",
   "id": "0e41d2a1",
   "metadata": {},
   "source": [
    "# 4. EDA Univariate and Bivariate analysis"
   ]
  },
  {
   "cell_type": "code",
   "execution_count": 59,
   "id": "c9828d3f",
   "metadata": {},
   "outputs": [
    {
     "data": {
      "image/png": "[encoded data removed]",
      "text/plain": [
       "<Figure size 1080x504 with 1 Axes>"
      ]
     },
     "metadata": {
      "needs_background": "light"
     },
     "output_type": "display_data"
    },
    {
     "data": {
      "image/png": "[encoded data removed]",
      "text/plain": [
       "<Figure size 1080x504 with 1 Axes>"
      ]
     },
     "metadata": {
      "needs_background": "light"
     },
     "output_type": "display_data"
    },
    {
     "data": {
      "image/png": "[encoded data removed]",
      "text/plain": [
       "<Figure size 1080x504 with 1 Axes>"
      ]
     },
     "metadata": {
      "needs_background": "light"
     },
     "output_type": "display_data"
    },
    {
     "data": {
      "image/png": "[encoded data removed]",
      "text/plain": [
       "<Figure size 1080x504 with 1 Axes>"
      ]
     },
     "metadata": {
      "needs_background": "light"
     },
     "output_type": "display_data"
    },
    {
     "data": {
      "image/png": "[encoded data removed]",
      "text/plain": [
       "<Figure size 1080x504 with 1 Axes>"
      ]
     },
     "metadata": {
      "needs_background": "light"
     },
     "output_type": "display_data"
    },
    {
     "data": {
      "image/png": "[encoded data removed]",
      "text/plain": [
       "<Figure size 1080x504 with 1 Axes>"
      ]
     },
     "metadata": {
      "needs_background": "light"
     },
     "output_type": "display_data"
    },
    {
     "data": {
      "image/png": "[encoded data removed]",
      "text/plain": [
       "<Figure size 1080x504 with 1 Axes>"
      ]
     },
     "metadata": {
      "needs_background": "light"
     },
     "output_type": "display_data"
    }
   ],
   "source": [
    "## Let us do the countplots for the categorical variables\n",
    "\n",
    "def count_plot(col):\n",
    "    plt.figure(figsize=(15,7))\n",
    "    sns.countplot(df[col],palette='plasma')\n",
    "    plt.xticks(rotation='vertical')\n",
    "    \n",
    "cols = ['Lead Origin','Lead Source','Converted','TotalVisits','Last Activity',\n",
    "       'A free copy of Mastering The Interview','Last Notable Activity']\n",
    "for col in cols:\n",
    "    count_plot(col)"
   ]
  },
  {
   "cell_type": "code",
   "execution_count": 60,
   "id": "f97a17d1",
   "metadata": {},
   "outputs": [
    {
     "data": {
      "text/plain": [
       "<AxesSubplot:xlabel='Page Views Per Visit'>"
      ]
     },
     "execution_count": 60,
     "metadata": {},
     "output_type": "execute_result"
    },
    {
     "data": {
      "image/png": "[encoded data removed]",
      "text/plain": [
       "<Figure size 864x432 with 3 Axes>"
      ]
     },
     "metadata": {
      "needs_background": "light"
     },
     "output_type": "display_data"
    }
   ],
   "source": [
    "#chcking outliers by using the boxplot\n",
    "plt.figure(figsize=(12,6))\n",
    "\n",
    "plt.subplot(1,3,1)\n",
    "sns.boxplot(df_cleaned['TotalVisits'])\n",
    "\n",
    "plt.subplot(1,3,2)\n",
    "sns.boxplot(df_cleaned['Total Time Spent on Website'])\n",
    "\n",
    "plt.subplot(1,3,3)\n",
    "sns.boxplot(df_cleaned['Page Views Per Visit'])"
   ]
  },
  {
   "cell_type": "markdown",
   "id": "b45d5deb",
   "metadata": {},
   "source": [
    "From the above we have to remove outliers from the Total visit and Page per visit column"
   ]
  },
  {
   "cell_type": "code",
   "execution_count": 61,
   "id": "cabd2b9b",
   "metadata": {},
   "outputs": [],
   "source": [
    "#removing the outliers manually with the help of box plot\n",
    "df_cleaned=df_cleaned[df_cleaned['TotalVisits']<30]\n",
    "df_cleaned=df_cleaned[df_cleaned['Page Views Per Visit']<20]"
   ]
  },
  {
   "cell_type": "code",
   "execution_count": 62,
   "id": "83b2bd1b",
   "metadata": {},
   "outputs": [
    {
     "data": {
      "text/plain": [
       "(9062, 9)"
      ]
     },
     "execution_count": 62,
     "metadata": {},
     "output_type": "execute_result"
    }
   ],
   "source": [
    "#checking shape of the data after removing the outliers\n",
    "df_cleaned.shape"
   ]
  },
  {
   "cell_type": "code",
   "execution_count": 63,
   "id": "71fbdb53",
   "metadata": {},
   "outputs": [
    {
     "data": {
      "text/plain": [
       "<AxesSubplot:xlabel='Converted', ylabel='TotalVisits'>"
      ]
     },
     "execution_count": 63,
     "metadata": {},
     "output_type": "execute_result"
    },
    {
     "data": {
      "image/png": "[encoded data removed]",
      "text/plain": [
       "<Figure size 432x288 with 1 Axes>"
      ]
     },
     "metadata": {
      "needs_background": "light"
     },
     "output_type": "display_data"
    }
   ],
   "source": [
    "#checking realtion vs total visit using the boxplot\n",
    "sns.boxplot(x = 'Converted', y = 'TotalVisits', data = df_cleaned)\n"
   ]
  },
  {
   "cell_type": "code",
   "execution_count": 64,
   "id": "72232549",
   "metadata": {},
   "outputs": [
    {
     "data": {
      "text/plain": [
       "<AxesSubplot:xlabel='Converted', ylabel='Page Views Per Visit'>"
      ]
     },
     "execution_count": 64,
     "metadata": {},
     "output_type": "execute_result"
    },
    {
     "data": {
      "image/png": "[encoded data removed]",
      "text/plain": [
       "<Figure size 432x288 with 1 Axes>"
      ]
     },
     "metadata": {
      "needs_background": "light"
     },
     "output_type": "display_data"
    }
   ],
   "source": [
    "#checking converted vs Page views per visit using the box plot\n",
    "sns.boxplot(x = 'Converted', y = 'Page Views Per Visit', data = df_cleaned)"
   ]
  },
  {
   "cell_type": "code",
   "execution_count": 65,
   "id": "8e4457ed",
   "metadata": {},
   "outputs": [
    {
     "data": {
      "text/plain": [
       "<AxesSubplot:xlabel='Converted', ylabel='Total Time Spent on Website'>"
      ]
     },
     "execution_count": 65,
     "metadata": {},
     "output_type": "execute_result"
    },
    {
     "data": {
      "image/png": "[encoded data removed]",
      "text/plain": [
       "<Figure size 432x288 with 1 Axes>"
      ]
     },
     "metadata": {
      "needs_background": "light"
     },
     "output_type": "display_data"
    }
   ],
   "source": [
    "#checking the Converted vs Total time spent on website using the box plot\n",
    "sns.boxplot(x = 'Converted', y = 'Total Time Spent on Website', data = df_cleaned)"
   ]
  },
  {
   "cell_type": "markdown",
   "id": "c5461d84",
   "metadata": {},
   "source": [
    "Here from the graph we can see that those who has visited number of the site more time has been converted to as successful lead"
   ]
  },
  {
   "cell_type": "code",
   "execution_count": 66,
   "id": "a788a010",
   "metadata": {},
   "outputs": [
    {
     "data": {
      "text/plain": [
       "<seaborn.axisgrid.PairGrid at 0x1e087335e50>"
      ]
     },
     "execution_count": 66,
     "metadata": {},
     "output_type": "execute_result"
    },
    {
     "data": {
      "image/png": "[encoded data removed]",
      "text/plain": [
       "<Figure size 720x720 with 20 Axes>"
      ]
     },
     "metadata": {
      "needs_background": "light"
     },
     "output_type": "display_data"
    }
   ],
   "source": [
    "#checking the pait plot \n",
    "sns.pairplot(df_cleaned)"
   ]
  },
  {
   "cell_type": "markdown",
   "id": "21ec63af",
   "metadata": {},
   "source": [
    "Lets start Correlation\n"
   ]
  },
  {
   "cell_type": "code",
   "execution_count": 68,
   "id": "62528942",
   "metadata": {},
   "outputs": [
    {
     "data": {
      "text/plain": [
       "<AxesSubplot:>"
      ]
     },
     "execution_count": 68,
     "metadata": {},
     "output_type": "execute_result"
    },
    {
     "data": {
      "image/png": "[encoded data removed]",
      "text/plain": [
       "<Figure size 432x288 with 2 Axes>"
      ]
     },
     "metadata": {
      "needs_background": "light"
     },
     "output_type": "display_data"
    }
   ],
   "source": [
    "#corelation of numerical column using heatmap\n",
    "sns.heatmap(df_cleaned.corr(),annot=True,cmap='coolwarm')"
   ]
  },
  {
   "cell_type": "markdown",
   "id": "3cb2dc59",
   "metadata": {},
   "source": [
    "As per the above the total visit and page per visit has high correlation which is true because the number of times person will visit the site is time spent and so the number of the visit will increase"
   ]
  },
  {
   "cell_type": "code",
   "execution_count": 69,
   "id": "1e325797",
   "metadata": {},
   "outputs": [
    {
     "data": {
      "text/plain": [
       "Index(['Lead Origin', 'Lead Source', 'Converted', 'TotalVisits',\n",
       "       'Total Time Spent on Website', 'Page Views Per Visit', 'Last Activity',\n",
       "       'A free copy of Mastering The Interview', 'Last Notable Activity'],\n",
       "      dtype='object')"
      ]
     },
     "execution_count": 69,
     "metadata": {},
     "output_type": "execute_result"
    }
   ],
   "source": [
    "#checking columns\n",
    "df_cleaned.columns"
   ]
  },
  {
   "cell_type": "code",
   "execution_count": 70,
   "id": "584fd988",
   "metadata": {},
   "outputs": [],
   "source": [
    "#seprating numriacal and categorical variables\n",
    "catvars = df_cleaned.select_dtypes(include=['object']).columns\n",
    "numvars = df_cleaned.select_dtypes(include = ['int32','int64','float32','float64']).columns"
   ]
  },
  {
   "cell_type": "code",
   "execution_count": 71,
   "id": "aad37fca",
   "metadata": {},
   "outputs": [
    {
     "data": {
      "text/plain": [
       "9"
      ]
     },
     "execution_count": 71,
     "metadata": {},
     "output_type": "execute_result"
    }
   ],
   "source": [
    "#checking sum \n",
    "len(catvars)+len(numvars)"
   ]
  },
  {
   "cell_type": "code",
   "execution_count": 72,
   "id": "89dbfc03",
   "metadata": {},
   "outputs": [
    {
     "data": {
      "text/plain": [
       "(Index(['Lead Origin', 'Lead Source', 'Last Activity',\n",
       "        'A free copy of Mastering The Interview', 'Last Notable Activity'],\n",
       "       dtype='object'),\n",
       " Index(['Converted', 'TotalVisits', 'Total Time Spent on Website',\n",
       "        'Page Views Per Visit'],\n",
       "       dtype='object'))"
      ]
     },
     "execution_count": 72,
     "metadata": {},
     "output_type": "execute_result"
    }
   ],
   "source": [
    "#numerial and categorical variable\n",
    "catvars,numvars"
   ]
  },
  {
   "cell_type": "code",
   "execution_count": 73,
   "id": "1382ee88",
   "metadata": {},
   "outputs": [
    {
     "name": "stdout",
     "output_type": "stream",
     "text": [
      "Column Name: Lead Origin\n",
      "+++++\n",
      "unique_value 5\n",
      "+++++\n",
      "Value Count:\n",
      " Landing Page Submission    4886\n",
      "API                        3580\n",
      "Lead Add Form               718\n",
      "Lead Import                  55\n",
      "Quick Add Form                1\n",
      "Name: Lead Origin, dtype: int64\n",
      "**************************************************\n",
      "Column Name: Lead Source\n",
      "+++++\n",
      "unique_value 21\n",
      "+++++\n",
      "Value Count:\n",
      " Google               2868\n",
      "Direct Traffic       2543\n",
      "Olark Chat           1755\n",
      "Organic Search       1154\n",
      "Reference             534\n",
      "Welingak Website      142\n",
      "Referral Sites        125\n",
      "Facebook               55\n",
      "bing                    6\n",
      "google                  5\n",
      "Click2call              4\n",
      "Press_Release           2\n",
      "Social Media            2\n",
      "Live Chat               2\n",
      "youtubechannel          1\n",
      "testone                 1\n",
      "Pay per Click Ads       1\n",
      "welearnblog_Home        1\n",
      "WeLearn                 1\n",
      "blog                    1\n",
      "NC_EDM                  1\n",
      "Name: Lead Source, dtype: int64\n",
      "**************************************************\n",
      "Column Name: Last Activity\n",
      "+++++\n",
      "unique_value 17\n",
      "+++++\n",
      "Value Count:\n",
      " Email Opened                    3437\n",
      "SMS Sent                        2745\n",
      "Olark Chat Conversation          973\n",
      "Page Visited on Website          640\n",
      "Converted to Lead                428\n",
      "Email Bounced                    326\n",
      "Email Link Clicked               267\n",
      "Form Submitted on Website        116\n",
      "Unreachable                       93\n",
      "Unsubscribed                      61\n",
      "Had a Phone Conversation          30\n",
      "Approached upfront                 9\n",
      "View in browser link Clicked       6\n",
      "Email Received                     2\n",
      "Email Marked Spam                  2\n",
      "Visited Booth in Tradeshow         1\n",
      "Resubscribed to emails             1\n",
      "Name: Last Activity, dtype: int64\n",
      "**************************************************\n",
      "Column Name: A free copy of Mastering The Interview\n",
      "+++++\n",
      "unique_value 2\n",
      "+++++\n",
      "Value Count:\n",
      " No     6352\n",
      "Yes    2888\n",
      "Name: A free copy of Mastering The Interview, dtype: int64\n",
      "**************************************************\n",
      "Column Name: Last Notable Activity\n",
      "+++++\n",
      "unique_value 16\n",
      "+++++\n",
      "Value Count:\n",
      " Modified                        3407\n",
      "Email Opened                    2827\n",
      "SMS Sent                        2172\n",
      "Page Visited on Website          318\n",
      "Olark Chat Conversation          183\n",
      "Email Link Clicked               173\n",
      "Email Bounced                     60\n",
      "Unsubscribed                      47\n",
      "Unreachable                       32\n",
      "Had a Phone Conversation          14\n",
      "Email Marked Spam                  2\n",
      "Approached upfront                 1\n",
      "Resubscribed to emails             1\n",
      "View in browser link Clicked       1\n",
      "Form Submitted on Website          1\n",
      "Email Received                     1\n",
      "Name: Last Notable Activity, dtype: int64\n",
      "**************************************************\n"
     ]
    }
   ],
   "source": [
    "#checking the unique value\n",
    "for i in catvars:\n",
    "    print(\"Column Name:\",i)\n",
    "    print('+'*5)\n",
    "    print('unique_value',df[i].nunique())\n",
    "    print('+'*5)\n",
    "    print(\"Value Count:\\n\",df[i].value_counts())\n",
    "    print('*'*50)"
   ]
  },
  {
   "cell_type": "markdown",
   "id": "623d2883",
   "metadata": {},
   "source": [
    "# 5. Preparing data for modelling"
   ]
  },
  {
   "cell_type": "markdown",
   "id": "b6afc4f4",
   "metadata": {},
   "source": [
    "The categories where the value count is less should be removed as those are considered redundant. So removing"
   ]
  },
  {
   "cell_type": "code",
   "execution_count": 74,
   "id": "b27efce9",
   "metadata": {},
   "outputs": [],
   "source": [
    "# converting small number of the category to other categeory\n",
    "def setcolumn(text,value,col_name):\n",
    " \n",
    "    if text in value:\n",
    "        return text\n",
    "    else:\n",
    "        return 'other_'+ col_name"
   ]
  },
  {
   "cell_type": "code",
   "execution_count": 75,
   "id": "5c1e38ba",
   "metadata": {},
   "outputs": [],
   "source": [
    "#Applying the above function to the relevant categorical column\n",
    "lead_source= ['Google','Direct Traffic','Olark Chat','Organic Search','Reference','Welingak Website',\n",
    "             'Referral Sites','Facebook']\n",
    "col_name='LeadSource'\n",
    "df_cleaned['Lead Source'] = df_cleaned['Lead Source'].apply(lambda x:setcolumn(x,lead_source,col_name))"
   ]
  },
  {
   "cell_type": "code",
   "execution_count": 76,
   "id": "b4cc4063",
   "metadata": {},
   "outputs": [
    {
     "data": {
      "text/plain": [
       "Google              2867\n",
       "Direct Traffic      2535\n",
       "Olark Chat          1753\n",
       "Organic Search      1153\n",
       "Reference            443\n",
       "Welingak Website     129\n",
       "Referral Sites       123\n",
       "Facebook              31\n",
       "other_LeadSource      28\n",
       "Name: Lead Source, dtype: int64"
      ]
     },
     "execution_count": 76,
     "metadata": {},
     "output_type": "execute_result"
    }
   ],
   "source": [
    "#value count of the lead source column\n",
    "df_cleaned['Lead Source'].value_counts()"
   ]
  },
  {
   "cell_type": "code",
   "execution_count": 77,
   "id": "df311814",
   "metadata": {},
   "outputs": [],
   "source": [
    "#Applying the function to the Last activity column\n",
    "last_activity= ['Email Opened','SMS Sent','Olark Chat Conversation','Page Visited on Website',\n",
    "               'Converted to Lead','Email Bounced','Email Link Clicked','Form Submitted on Website',\n",
    "               'Unreachable','Unsubscribed','Had a Phone Conversation']\n",
    "col_name='LastActivity'\n",
    "df_cleaned['Last Activity'] = df_cleaned['Last Activity'].apply(lambda x:setcolumn(x,last_activity,col_name))"
   ]
  },
  {
   "cell_type": "code",
   "execution_count": 78,
   "id": "5147458b",
   "metadata": {},
   "outputs": [
    {
     "data": {
      "text/plain": [
       "Email Opened                 3430\n",
       "SMS Sent                     2714\n",
       "Olark Chat Conversation       972\n",
       "Page Visited on Website       632\n",
       "Converted to Lead             428\n",
       "Email Bounced                 312\n",
       "Email Link Clicked            267\n",
       "Form Submitted on Website     116\n",
       "Unreachable                    90\n",
       "Unsubscribed                   59\n",
       "Had a Phone Conversation       25\n",
       "other_LastActivity             17\n",
       "Name: Last Activity, dtype: int64"
      ]
     },
     "execution_count": 78,
     "metadata": {},
     "output_type": "execute_result"
    }
   ],
   "source": [
    "#value count of the Last activity column\n",
    "df_cleaned['Last Activity'].value_counts()"
   ]
  },
  {
   "cell_type": "code",
   "execution_count": 79,
   "id": "04d6eb51",
   "metadata": {},
   "outputs": [],
   "source": [
    "#Applying the function to the Last Notable activity column\n",
    "last_notable_activity= ['Modified','Email Opened','SMS Sent','Page Visited on Website', \n",
    "                'Olark Chat Conversation','Email Link Clicked','Email Bounced',\n",
    "                'Unsubscribed','Unreachable','Had a Phone Conversation' ] \n",
    "col_name='Last Notable Activity'\n",
    "df_cleaned['Last Notable Activity'] = df_cleaned['Last Notable Activity'].apply(lambda x:setcolumn(x,last_notable_activity,col_name))"
   ]
  },
  {
   "cell_type": "code",
   "execution_count": 80,
   "id": "53c9bf0e",
   "metadata": {},
   "outputs": [
    {
     "data": {
      "text/plain": [
       "Modified                       3263\n",
       "Email Opened                   2821\n",
       "SMS Sent                       2151\n",
       "Page Visited on Website         313\n",
       "Olark Chat Conversation         183\n",
       "Email Link Clicked              173\n",
       "Email Bounced                    60\n",
       "Unsubscribed                     45\n",
       "Unreachable                      32\n",
       "Had a Phone Conversation         14\n",
       "other_Last Notable Activity       7\n",
       "Name: Last Notable Activity, dtype: int64"
      ]
     },
     "execution_count": 80,
     "metadata": {},
     "output_type": "execute_result"
    }
   ],
   "source": [
    "#Value count of Last activity column\n",
    "df_cleaned['Last Notable Activity'].value_counts()"
   ]
  },
  {
   "cell_type": "code",
   "execution_count": 81,
   "id": "861471c5",
   "metadata": {},
   "outputs": [
    {
     "data": {
      "text/html": [
       "<div>\n",
       "<style scoped>\n",
       "    .dataframe tbody tr th:only-of-type {\n",
       "        vertical-align: middle;\n",
       "    }\n",
       "\n",
       "    .dataframe tbody tr th {\n",
       "        vertical-align: top;\n",
       "    }\n",
       "\n",
       "    .dataframe thead th {\n",
       "        text-align: right;\n",
       "    }\n",
       "</style>\n",
       "<table border=\"1\" class=\"dataframe\">\n",
       "  <thead>\n",
       "    <tr style=\"text-align: right;\">\n",
       "      <th></th>\n",
       "      <th>Lead Origin</th>\n",
       "      <th>Lead Source</th>\n",
       "      <th>Converted</th>\n",
       "      <th>TotalVisits</th>\n",
       "      <th>Total Time Spent on Website</th>\n",
       "      <th>Page Views Per Visit</th>\n",
       "      <th>Last Activity</th>\n",
       "      <th>A free copy of Mastering The Interview</th>\n",
       "      <th>Last Notable Activity</th>\n",
       "    </tr>\n",
       "  </thead>\n",
       "  <tbody>\n",
       "    <tr>\n",
       "      <th>0</th>\n",
       "      <td>API</td>\n",
       "      <td>Olark Chat</td>\n",
       "      <td>0</td>\n",
       "      <td>0.0</td>\n",
       "      <td>0</td>\n",
       "      <td>0.0</td>\n",
       "      <td>Page Visited on Website</td>\n",
       "      <td>No</td>\n",
       "      <td>Modified</td>\n",
       "    </tr>\n",
       "    <tr>\n",
       "      <th>1</th>\n",
       "      <td>API</td>\n",
       "      <td>Organic Search</td>\n",
       "      <td>0</td>\n",
       "      <td>5.0</td>\n",
       "      <td>674</td>\n",
       "      <td>2.5</td>\n",
       "      <td>Email Opened</td>\n",
       "      <td>No</td>\n",
       "      <td>Email Opened</td>\n",
       "    </tr>\n",
       "    <tr>\n",
       "      <th>2</th>\n",
       "      <td>Landing Page Submission</td>\n",
       "      <td>Direct Traffic</td>\n",
       "      <td>1</td>\n",
       "      <td>2.0</td>\n",
       "      <td>1532</td>\n",
       "      <td>2.0</td>\n",
       "      <td>Email Opened</td>\n",
       "      <td>Yes</td>\n",
       "      <td>Email Opened</td>\n",
       "    </tr>\n",
       "    <tr>\n",
       "      <th>3</th>\n",
       "      <td>Landing Page Submission</td>\n",
       "      <td>Direct Traffic</td>\n",
       "      <td>0</td>\n",
       "      <td>1.0</td>\n",
       "      <td>305</td>\n",
       "      <td>1.0</td>\n",
       "      <td>Unreachable</td>\n",
       "      <td>No</td>\n",
       "      <td>Modified</td>\n",
       "    </tr>\n",
       "    <tr>\n",
       "      <th>4</th>\n",
       "      <td>Landing Page Submission</td>\n",
       "      <td>Google</td>\n",
       "      <td>1</td>\n",
       "      <td>2.0</td>\n",
       "      <td>1428</td>\n",
       "      <td>1.0</td>\n",
       "      <td>Converted to Lead</td>\n",
       "      <td>No</td>\n",
       "      <td>Modified</td>\n",
       "    </tr>\n",
       "  </tbody>\n",
       "</table>\n",
       "</div>"
      ],
      "text/plain": [
       "               Lead Origin     Lead Source  Converted  TotalVisits  \\\n",
       "0                      API      Olark Chat          0          0.0   \n",
       "1                      API  Organic Search          0          5.0   \n",
       "2  Landing Page Submission  Direct Traffic          1          2.0   \n",
       "3  Landing Page Submission  Direct Traffic          0          1.0   \n",
       "4  Landing Page Submission          Google          1          2.0   \n",
       "\n",
       "   Total Time Spent on Website  Page Views Per Visit            Last Activity  \\\n",
       "0                            0                   0.0  Page Visited on Website   \n",
       "1                          674                   2.5             Email Opened   \n",
       "2                         1532                   2.0             Email Opened   \n",
       "3                          305                   1.0              Unreachable   \n",
       "4                         1428                   1.0        Converted to Lead   \n",
       "\n",
       "  A free copy of Mastering The Interview Last Notable Activity  \n",
       "0                                     No              Modified  \n",
       "1                                     No          Email Opened  \n",
       "2                                    Yes          Email Opened  \n",
       "3                                     No              Modified  \n",
       "4                                     No              Modified  "
      ]
     },
     "execution_count": 81,
     "metadata": {},
     "output_type": "execute_result"
    }
   ],
   "source": [
    "#Rows checking\n",
    "df_cleaned.head()"
   ]
  },
  {
   "cell_type": "markdown",
   "id": "757e1596",
   "metadata": {},
   "source": [
    "Mapping \"A free copy of Mastering the Interview\" column to 0 and 1"
   ]
  },
  {
   "cell_type": "code",
   "execution_count": 82,
   "id": "77c01349",
   "metadata": {},
   "outputs": [],
   "source": [
    "#Mapping A free copy of Mastering The Interview column to 0 and 1\n",
    "df_cleaned['A free copy of Mastering The Interview']=df_cleaned['A free copy of Mastering The Interview'].map({'No':0,'Yes':1})"
   ]
  },
  {
   "cell_type": "code",
   "execution_count": 83,
   "id": "3f1a67a6",
   "metadata": {},
   "outputs": [
    {
     "data": {
      "text/plain": [
       "0    6178\n",
       "1    2884\n",
       "Name: A free copy of Mastering The Interview, dtype: int64"
      ]
     },
     "execution_count": 83,
     "metadata": {},
     "output_type": "execute_result"
    }
   ],
   "source": [
    "df_cleaned['A free copy of Mastering The Interview'].value_counts()"
   ]
  },
  {
   "cell_type": "code",
   "execution_count": 84,
   "id": "78eebfd3",
   "metadata": {},
   "outputs": [
    {
     "name": "stdout",
     "output_type": "stream",
     "text": [
      "<class 'pandas.core.frame.DataFrame'>\n",
      "Int64Index: 9062 entries, 0 to 9239\n",
      "Data columns (total 9 columns):\n",
      " #   Column                                  Non-Null Count  Dtype  \n",
      "---  ------                                  --------------  -----  \n",
      " 0   Lead Origin                             9062 non-null   object \n",
      " 1   Lead Source                             9062 non-null   object \n",
      " 2   Converted                               9062 non-null   int64  \n",
      " 3   TotalVisits                             9062 non-null   float64\n",
      " 4   Total Time Spent on Website             9062 non-null   int64  \n",
      " 5   Page Views Per Visit                    9062 non-null   float64\n",
      " 6   Last Activity                           9062 non-null   object \n",
      " 7   A free copy of Mastering The Interview  9062 non-null   int64  \n",
      " 8   Last Notable Activity                   9062 non-null   object \n",
      "dtypes: float64(2), int64(3), object(4)\n",
      "memory usage: 966.0+ KB\n"
     ]
    }
   ],
   "source": [
    "#checking info\n",
    "df_cleaned.info()"
   ]
  },
  {
   "cell_type": "markdown",
   "id": "2207d9f1",
   "metadata": {},
   "source": [
    "Lets us Create dummy variables"
   ]
  },
  {
   "cell_type": "code",
   "execution_count": 85,
   "id": "09f83f96",
   "metadata": {},
   "outputs": [],
   "source": [
    "#Creating dummy variable of the categorical variable\n",
    "dummy1 = pd.get_dummies(df_cleaned[['Lead Origin', 'Lead Source', 'Last Activity', 'Last Notable Activity']], drop_first=True)"
   ]
  },
  {
   "cell_type": "code",
   "execution_count": 86,
   "id": "1d12b95d",
   "metadata": {},
   "outputs": [],
   "source": [
    "# Adding the results to the master dataframe\n",
    "df_cleaned = pd.concat([df_cleaned, dummy1], axis=1)"
   ]
  },
  {
   "cell_type": "code",
   "execution_count": 87,
   "id": "579675a0",
   "metadata": {},
   "outputs": [],
   "source": [
    "#Dropping column which was created t dummy.\n",
    "df_cleaned=df_cleaned.drop(['Lead Origin', 'Lead Source', 'Last Activity', 'Last Notable Activity'],axis=1)"
   ]
  },
  {
   "cell_type": "code",
   "execution_count": 88,
   "id": "bb20cfbe",
   "metadata": {},
   "outputs": [
    {
     "data": {
      "text/plain": [
       "(9062, 37)"
      ]
     },
     "execution_count": 88,
     "metadata": {},
     "output_type": "execute_result"
    }
   ],
   "source": [
    "#shape of the data once again\n",
    "df_cleaned.shape"
   ]
  },
  {
   "cell_type": "code",
   "execution_count": 89,
   "id": "0ef64ee2",
   "metadata": {},
   "outputs": [
    {
     "data": {
      "text/html": [
       "<div>\n",
       "<style scoped>\n",
       "    .dataframe tbody tr th:only-of-type {\n",
       "        vertical-align: middle;\n",
       "    }\n",
       "\n",
       "    .dataframe tbody tr th {\n",
       "        vertical-align: top;\n",
       "    }\n",
       "\n",
       "    .dataframe thead th {\n",
       "        text-align: right;\n",
       "    }\n",
       "</style>\n",
       "<table border=\"1\" class=\"dataframe\">\n",
       "  <thead>\n",
       "    <tr style=\"text-align: right;\">\n",
       "      <th></th>\n",
       "      <th>Converted</th>\n",
       "      <th>TotalVisits</th>\n",
       "      <th>Total Time Spent on Website</th>\n",
       "      <th>Page Views Per Visit</th>\n",
       "      <th>A free copy of Mastering The Interview</th>\n",
       "      <th>Lead Origin_Landing Page Submission</th>\n",
       "      <th>Lead Origin_Lead Add Form</th>\n",
       "      <th>Lead Origin_Lead Import</th>\n",
       "      <th>Lead Source_Facebook</th>\n",
       "      <th>Lead Source_Google</th>\n",
       "      <th>Lead Source_Olark Chat</th>\n",
       "      <th>Lead Source_Organic Search</th>\n",
       "      <th>Lead Source_Reference</th>\n",
       "      <th>Lead Source_Referral Sites</th>\n",
       "      <th>Lead Source_Welingak Website</th>\n",
       "      <th>Lead Source_other_LeadSource</th>\n",
       "      <th>Last Activity_Email Bounced</th>\n",
       "      <th>Last Activity_Email Link Clicked</th>\n",
       "      <th>Last Activity_Email Opened</th>\n",
       "      <th>Last Activity_Form Submitted on Website</th>\n",
       "      <th>Last Activity_Had a Phone Conversation</th>\n",
       "      <th>Last Activity_Olark Chat Conversation</th>\n",
       "      <th>Last Activity_Page Visited on Website</th>\n",
       "      <th>Last Activity_SMS Sent</th>\n",
       "      <th>Last Activity_Unreachable</th>\n",
       "      <th>Last Activity_Unsubscribed</th>\n",
       "      <th>Last Activity_other_LastActivity</th>\n",
       "      <th>Last Notable Activity_Email Link Clicked</th>\n",
       "      <th>Last Notable Activity_Email Opened</th>\n",
       "      <th>Last Notable Activity_Had a Phone Conversation</th>\n",
       "      <th>Last Notable Activity_Modified</th>\n",
       "      <th>Last Notable Activity_Olark Chat Conversation</th>\n",
       "      <th>Last Notable Activity_Page Visited on Website</th>\n",
       "      <th>Last Notable Activity_SMS Sent</th>\n",
       "      <th>Last Notable Activity_Unreachable</th>\n",
       "      <th>Last Notable Activity_Unsubscribed</th>\n",
       "      <th>Last Notable Activity_other_Last Notable Activity</th>\n",
       "    </tr>\n",
       "  </thead>\n",
       "  <tbody>\n",
       "    <tr>\n",
       "      <th>0</th>\n",
       "      <td>0</td>\n",
       "      <td>0.0</td>\n",
       "      <td>0</td>\n",
       "      <td>0.0</td>\n",
       "      <td>0</td>\n",
       "      <td>0</td>\n",
       "      <td>0</td>\n",
       "      <td>0</td>\n",
       "      <td>0</td>\n",
       "      <td>0</td>\n",
       "      <td>1</td>\n",
       "      <td>0</td>\n",
       "      <td>0</td>\n",
       "      <td>0</td>\n",
       "      <td>0</td>\n",
       "      <td>0</td>\n",
       "      <td>0</td>\n",
       "      <td>0</td>\n",
       "      <td>0</td>\n",
       "      <td>0</td>\n",
       "      <td>0</td>\n",
       "      <td>0</td>\n",
       "      <td>1</td>\n",
       "      <td>0</td>\n",
       "      <td>0</td>\n",
       "      <td>0</td>\n",
       "      <td>0</td>\n",
       "      <td>0</td>\n",
       "      <td>0</td>\n",
       "      <td>0</td>\n",
       "      <td>1</td>\n",
       "      <td>0</td>\n",
       "      <td>0</td>\n",
       "      <td>0</td>\n",
       "      <td>0</td>\n",
       "      <td>0</td>\n",
       "      <td>0</td>\n",
       "    </tr>\n",
       "    <tr>\n",
       "      <th>1</th>\n",
       "      <td>0</td>\n",
       "      <td>5.0</td>\n",
       "      <td>674</td>\n",
       "      <td>2.5</td>\n",
       "      <td>0</td>\n",
       "      <td>0</td>\n",
       "      <td>0</td>\n",
       "      <td>0</td>\n",
       "      <td>0</td>\n",
       "      <td>0</td>\n",
       "      <td>0</td>\n",
       "      <td>1</td>\n",
       "      <td>0</td>\n",
       "      <td>0</td>\n",
       "      <td>0</td>\n",
       "      <td>0</td>\n",
       "      <td>0</td>\n",
       "      <td>0</td>\n",
       "      <td>1</td>\n",
       "      <td>0</td>\n",
       "      <td>0</td>\n",
       "      <td>0</td>\n",
       "      <td>0</td>\n",
       "      <td>0</td>\n",
       "      <td>0</td>\n",
       "      <td>0</td>\n",
       "      <td>0</td>\n",
       "      <td>0</td>\n",
       "      <td>1</td>\n",
       "      <td>0</td>\n",
       "      <td>0</td>\n",
       "      <td>0</td>\n",
       "      <td>0</td>\n",
       "      <td>0</td>\n",
       "      <td>0</td>\n",
       "      <td>0</td>\n",
       "      <td>0</td>\n",
       "    </tr>\n",
       "    <tr>\n",
       "      <th>2</th>\n",
       "      <td>1</td>\n",
       "      <td>2.0</td>\n",
       "      <td>1532</td>\n",
       "      <td>2.0</td>\n",
       "      <td>1</td>\n",
       "      <td>1</td>\n",
       "      <td>0</td>\n",
       "      <td>0</td>\n",
       "      <td>0</td>\n",
       "      <td>0</td>\n",
       "      <td>0</td>\n",
       "      <td>0</td>\n",
       "      <td>0</td>\n",
       "      <td>0</td>\n",
       "      <td>0</td>\n",
       "      <td>0</td>\n",
       "      <td>0</td>\n",
       "      <td>0</td>\n",
       "      <td>1</td>\n",
       "      <td>0</td>\n",
       "      <td>0</td>\n",
       "      <td>0</td>\n",
       "      <td>0</td>\n",
       "      <td>0</td>\n",
       "      <td>0</td>\n",
       "      <td>0</td>\n",
       "      <td>0</td>\n",
       "      <td>0</td>\n",
       "      <td>1</td>\n",
       "      <td>0</td>\n",
       "      <td>0</td>\n",
       "      <td>0</td>\n",
       "      <td>0</td>\n",
       "      <td>0</td>\n",
       "      <td>0</td>\n",
       "      <td>0</td>\n",
       "      <td>0</td>\n",
       "    </tr>\n",
       "    <tr>\n",
       "      <th>3</th>\n",
       "      <td>0</td>\n",
       "      <td>1.0</td>\n",
       "      <td>305</td>\n",
       "      <td>1.0</td>\n",
       "      <td>0</td>\n",
       "      <td>1</td>\n",
       "      <td>0</td>\n",
       "      <td>0</td>\n",
       "      <td>0</td>\n",
       "      <td>0</td>\n",
       "      <td>0</td>\n",
       "      <td>0</td>\n",
       "      <td>0</td>\n",
       "      <td>0</td>\n",
       "      <td>0</td>\n",
       "      <td>0</td>\n",
       "      <td>0</td>\n",
       "      <td>0</td>\n",
       "      <td>0</td>\n",
       "      <td>0</td>\n",
       "      <td>0</td>\n",
       "      <td>0</td>\n",
       "      <td>0</td>\n",
       "      <td>0</td>\n",
       "      <td>1</td>\n",
       "      <td>0</td>\n",
       "      <td>0</td>\n",
       "      <td>0</td>\n",
       "      <td>0</td>\n",
       "      <td>0</td>\n",
       "      <td>1</td>\n",
       "      <td>0</td>\n",
       "      <td>0</td>\n",
       "      <td>0</td>\n",
       "      <td>0</td>\n",
       "      <td>0</td>\n",
       "      <td>0</td>\n",
       "    </tr>\n",
       "    <tr>\n",
       "      <th>4</th>\n",
       "      <td>1</td>\n",
       "      <td>2.0</td>\n",
       "      <td>1428</td>\n",
       "      <td>1.0</td>\n",
       "      <td>0</td>\n",
       "      <td>1</td>\n",
       "      <td>0</td>\n",
       "      <td>0</td>\n",
       "      <td>0</td>\n",
       "      <td>1</td>\n",
       "      <td>0</td>\n",
       "      <td>0</td>\n",
       "      <td>0</td>\n",
       "      <td>0</td>\n",
       "      <td>0</td>\n",
       "      <td>0</td>\n",
       "      <td>0</td>\n",
       "      <td>0</td>\n",
       "      <td>0</td>\n",
       "      <td>0</td>\n",
       "      <td>0</td>\n",
       "      <td>0</td>\n",
       "      <td>0</td>\n",
       "      <td>0</td>\n",
       "      <td>0</td>\n",
       "      <td>0</td>\n",
       "      <td>0</td>\n",
       "      <td>0</td>\n",
       "      <td>0</td>\n",
       "      <td>0</td>\n",
       "      <td>1</td>\n",
       "      <td>0</td>\n",
       "      <td>0</td>\n",
       "      <td>0</td>\n",
       "      <td>0</td>\n",
       "      <td>0</td>\n",
       "      <td>0</td>\n",
       "    </tr>\n",
       "  </tbody>\n",
       "</table>\n",
       "</div>"
      ],
      "text/plain": [
       "   Converted  TotalVisits  Total Time Spent on Website  Page Views Per Visit  \\\n",
       "0          0          0.0                            0                   0.0   \n",
       "1          0          5.0                          674                   2.5   \n",
       "2          1          2.0                         1532                   2.0   \n",
       "3          0          1.0                          305                   1.0   \n",
       "4          1          2.0                         1428                   1.0   \n",
       "\n",
       "   A free copy of Mastering The Interview  \\\n",
       "0                                       0   \n",
       "1                                       0   \n",
       "2                                       1   \n",
       "3                                       0   \n",
       "4                                       0   \n",
       "\n",
       "   Lead Origin_Landing Page Submission  Lead Origin_Lead Add Form  \\\n",
       "0                                    0                          0   \n",
       "1                                    0                          0   \n",
       "2                                    1                          0   \n",
       "3                                    1                          0   \n",
       "4                                    1                          0   \n",
       "\n",
       "   Lead Origin_Lead Import  Lead Source_Facebook  Lead Source_Google  \\\n",
       "0                        0                     0                   0   \n",
       "1                        0                     0                   0   \n",
       "2                        0                     0                   0   \n",
       "3                        0                     0                   0   \n",
       "4                        0                     0                   1   \n",
       "\n",
       "   Lead Source_Olark Chat  Lead Source_Organic Search  Lead Source_Reference  \\\n",
       "0                       1                           0                      0   \n",
       "1                       0                           1                      0   \n",
       "2                       0                           0                      0   \n",
       "3                       0                           0                      0   \n",
       "4                       0                           0                      0   \n",
       "\n",
       "   Lead Source_Referral Sites  Lead Source_Welingak Website  \\\n",
       "0                           0                             0   \n",
       "1                           0                             0   \n",
       "2                           0                             0   \n",
       "3                           0                             0   \n",
       "4                           0                             0   \n",
       "\n",
       "   Lead Source_other_LeadSource  Last Activity_Email Bounced  \\\n",
       "0                             0                            0   \n",
       "1                             0                            0   \n",
       "2                             0                            0   \n",
       "3                             0                            0   \n",
       "4                             0                            0   \n",
       "\n",
       "   Last Activity_Email Link Clicked  Last Activity_Email Opened  \\\n",
       "0                                 0                           0   \n",
       "1                                 0                           1   \n",
       "2                                 0                           1   \n",
       "3                                 0                           0   \n",
       "4                                 0                           0   \n",
       "\n",
       "   Last Activity_Form Submitted on Website  \\\n",
       "0                                        0   \n",
       "1                                        0   \n",
       "2                                        0   \n",
       "3                                        0   \n",
       "4                                        0   \n",
       "\n",
       "   Last Activity_Had a Phone Conversation  \\\n",
       "0                                       0   \n",
       "1                                       0   \n",
       "2                                       0   \n",
       "3                                       0   \n",
       "4                                       0   \n",
       "\n",
       "   Last Activity_Olark Chat Conversation  \\\n",
       "0                                      0   \n",
       "1                                      0   \n",
       "2                                      0   \n",
       "3                                      0   \n",
       "4                                      0   \n",
       "\n",
       "   Last Activity_Page Visited on Website  Last Activity_SMS Sent  \\\n",
       "0                                      1                       0   \n",
       "1                                      0                       0   \n",
       "2                                      0                       0   \n",
       "3                                      0                       0   \n",
       "4                                      0                       0   \n",
       "\n",
       "   Last Activity_Unreachable  Last Activity_Unsubscribed  \\\n",
       "0                          0                           0   \n",
       "1                          0                           0   \n",
       "2                          0                           0   \n",
       "3                          1                           0   \n",
       "4                          0                           0   \n",
       "\n",
       "   Last Activity_other_LastActivity  Last Notable Activity_Email Link Clicked  \\\n",
       "0                                 0                                         0   \n",
       "1                                 0                                         0   \n",
       "2                                 0                                         0   \n",
       "3                                 0                                         0   \n",
       "4                                 0                                         0   \n",
       "\n",
       "   Last Notable Activity_Email Opened  \\\n",
       "0                                   0   \n",
       "1                                   1   \n",
       "2                                   1   \n",
       "3                                   0   \n",
       "4                                   0   \n",
       "\n",
       "   Last Notable Activity_Had a Phone Conversation  \\\n",
       "0                                               0   \n",
       "1                                               0   \n",
       "2                                               0   \n",
       "3                                               0   \n",
       "4                                               0   \n",
       "\n",
       "   Last Notable Activity_Modified  \\\n",
       "0                               1   \n",
       "1                               0   \n",
       "2                               0   \n",
       "3                               1   \n",
       "4                               1   \n",
       "\n",
       "   Last Notable Activity_Olark Chat Conversation  \\\n",
       "0                                              0   \n",
       "1                                              0   \n",
       "2                                              0   \n",
       "3                                              0   \n",
       "4                                              0   \n",
       "\n",
       "   Last Notable Activity_Page Visited on Website  \\\n",
       "0                                              0   \n",
       "1                                              0   \n",
       "2                                              0   \n",
       "3                                              0   \n",
       "4                                              0   \n",
       "\n",
       "   Last Notable Activity_SMS Sent  Last Notable Activity_Unreachable  \\\n",
       "0                               0                                  0   \n",
       "1                               0                                  0   \n",
       "2                               0                                  0   \n",
       "3                               0                                  0   \n",
       "4                               0                                  0   \n",
       "\n",
       "   Last Notable Activity_Unsubscribed  \\\n",
       "0                                   0   \n",
       "1                                   0   \n",
       "2                                   0   \n",
       "3                                   0   \n",
       "4                                   0   \n",
       "\n",
       "   Last Notable Activity_other_Last Notable Activity  \n",
       "0                                                  0  \n",
       "1                                                  0  \n",
       "2                                                  0  \n",
       "3                                                  0  \n",
       "4                                                  0  "
      ]
     },
     "execution_count": 89,
     "metadata": {},
     "output_type": "execute_result"
    }
   ],
   "source": [
    "#checking first 5 row of the data\n",
    "df_cleaned.head()"
   ]
  },
  {
   "cell_type": "markdown",
   "id": "97c70ecd",
   "metadata": {},
   "source": [
    "Splitting the data set in train and test"
   ]
  },
  {
   "cell_type": "code",
   "execution_count": 90,
   "id": "50086dcc",
   "metadata": {},
   "outputs": [],
   "source": [
    "# Seprating the target variable \n",
    "X=df_cleaned.drop('Converted',axis=1)\n",
    "y=df_cleaned['Converted']"
   ]
  },
  {
   "cell_type": "code",
   "execution_count": 91,
   "id": "675901c4",
   "metadata": {},
   "outputs": [],
   "source": [
    "#Data split in Train and test\n",
    "X_train, X_test, y_train, y_test = train_test_split(X, y, test_size=0.2, random_state=42)"
   ]
  },
  {
   "cell_type": "code",
   "execution_count": 92,
   "id": "a66d2f54",
   "metadata": {},
   "outputs": [
    {
     "data": {
      "text/plain": [
       "((7249, 36), (1813, 36), (7249,), (1813,))"
      ]
     },
     "execution_count": 92,
     "metadata": {},
     "output_type": "execute_result"
    }
   ],
   "source": [
    "#Checkin the shape of the train and test data\n",
    "X_train.shape,X_test.shape,y_train.shape,y_test.shape"
   ]
  },
  {
   "cell_type": "markdown",
   "id": "abc429ef",
   "metadata": {},
   "source": [
    "# Applying standard scaler to the train dataset"
   ]
  },
  {
   "cell_type": "code",
   "execution_count": 95,
   "id": "967514a0",
   "metadata": {},
   "outputs": [],
   "source": [
    "#Applying standard scaler to the numerical column\n",
    "scaler = StandardScaler()\n",
    "X_train[['TotalVisits','Total Time Spent on Website','Page Views Per Visit']] = scaler.fit_transform(X_train[['TotalVisits','Total Time Spent on Website','Page Views Per Visit']])"
   ]
  },
  {
   "cell_type": "code",
   "execution_count": 96,
   "id": "ce318b3e",
   "metadata": {},
   "outputs": [],
   "source": [
    "#Applying scaler value to the test data\n",
    "X_test[['TotalVisits','Total Time Spent on Website','Page Views Per Visit']] = scaler.transform(X_test[['TotalVisits','Total Time Spent on Website','Page Views Per Visit']])"
   ]
  },
  {
   "cell_type": "code",
   "execution_count": 98,
   "id": "ca79c208",
   "metadata": {},
   "outputs": [
    {
     "data": {
      "text/html": [
       "<div>\n",
       "<style scoped>\n",
       "    .dataframe tbody tr th:only-of-type {\n",
       "        vertical-align: middle;\n",
       "    }\n",
       "\n",
       "    .dataframe tbody tr th {\n",
       "        vertical-align: top;\n",
       "    }\n",
       "\n",
       "    .dataframe thead th {\n",
       "        text-align: right;\n",
       "    }\n",
       "</style>\n",
       "<table border=\"1\" class=\"dataframe\">\n",
       "  <thead>\n",
       "    <tr style=\"text-align: right;\">\n",
       "      <th></th>\n",
       "      <th>TotalVisits</th>\n",
       "      <th>Total Time Spent on Website</th>\n",
       "      <th>Page Views Per Visit</th>\n",
       "      <th>A free copy of Mastering The Interview</th>\n",
       "      <th>Lead Origin_Landing Page Submission</th>\n",
       "      <th>Lead Origin_Lead Add Form</th>\n",
       "      <th>Lead Origin_Lead Import</th>\n",
       "      <th>Lead Source_Facebook</th>\n",
       "      <th>Lead Source_Google</th>\n",
       "      <th>Lead Source_Olark Chat</th>\n",
       "      <th>Lead Source_Organic Search</th>\n",
       "      <th>Lead Source_Reference</th>\n",
       "      <th>Lead Source_Referral Sites</th>\n",
       "      <th>Lead Source_Welingak Website</th>\n",
       "      <th>Lead Source_other_LeadSource</th>\n",
       "      <th>Last Activity_Email Bounced</th>\n",
       "      <th>Last Activity_Email Link Clicked</th>\n",
       "      <th>Last Activity_Email Opened</th>\n",
       "      <th>Last Activity_Form Submitted on Website</th>\n",
       "      <th>Last Activity_Had a Phone Conversation</th>\n",
       "      <th>Last Activity_Olark Chat Conversation</th>\n",
       "      <th>Last Activity_Page Visited on Website</th>\n",
       "      <th>Last Activity_SMS Sent</th>\n",
       "      <th>Last Activity_Unreachable</th>\n",
       "      <th>Last Activity_Unsubscribed</th>\n",
       "      <th>Last Activity_other_LastActivity</th>\n",
       "      <th>Last Notable Activity_Email Link Clicked</th>\n",
       "      <th>Last Notable Activity_Email Opened</th>\n",
       "      <th>Last Notable Activity_Had a Phone Conversation</th>\n",
       "      <th>Last Notable Activity_Modified</th>\n",
       "      <th>Last Notable Activity_Olark Chat Conversation</th>\n",
       "      <th>Last Notable Activity_Page Visited on Website</th>\n",
       "      <th>Last Notable Activity_SMS Sent</th>\n",
       "      <th>Last Notable Activity_Unreachable</th>\n",
       "      <th>Last Notable Activity_Unsubscribed</th>\n",
       "      <th>Last Notable Activity_other_Last Notable Activity</th>\n",
       "    </tr>\n",
       "  </thead>\n",
       "  <tbody>\n",
       "    <tr>\n",
       "      <th>433</th>\n",
       "      <td>-0.403608</td>\n",
       "      <td>-0.156434</td>\n",
       "      <td>-0.170880</td>\n",
       "      <td>1</td>\n",
       "      <td>1</td>\n",
       "      <td>0</td>\n",
       "      <td>0</td>\n",
       "      <td>0</td>\n",
       "      <td>0</td>\n",
       "      <td>0</td>\n",
       "      <td>0</td>\n",
       "      <td>0</td>\n",
       "      <td>0</td>\n",
       "      <td>0</td>\n",
       "      <td>0</td>\n",
       "      <td>0</td>\n",
       "      <td>0</td>\n",
       "      <td>1</td>\n",
       "      <td>0</td>\n",
       "      <td>0</td>\n",
       "      <td>0</td>\n",
       "      <td>0</td>\n",
       "      <td>0</td>\n",
       "      <td>0</td>\n",
       "      <td>0</td>\n",
       "      <td>0</td>\n",
       "      <td>0</td>\n",
       "      <td>1</td>\n",
       "      <td>0</td>\n",
       "      <td>0</td>\n",
       "      <td>0</td>\n",
       "      <td>0</td>\n",
       "      <td>0</td>\n",
       "      <td>0</td>\n",
       "      <td>0</td>\n",
       "      <td>0</td>\n",
       "    </tr>\n",
       "    <tr>\n",
       "      <th>3132</th>\n",
       "      <td>0.187155</td>\n",
       "      <td>1.382529</td>\n",
       "      <td>0.796780</td>\n",
       "      <td>0</td>\n",
       "      <td>1</td>\n",
       "      <td>0</td>\n",
       "      <td>0</td>\n",
       "      <td>0</td>\n",
       "      <td>1</td>\n",
       "      <td>0</td>\n",
       "      <td>0</td>\n",
       "      <td>0</td>\n",
       "      <td>0</td>\n",
       "      <td>0</td>\n",
       "      <td>0</td>\n",
       "      <td>0</td>\n",
       "      <td>0</td>\n",
       "      <td>0</td>\n",
       "      <td>0</td>\n",
       "      <td>0</td>\n",
       "      <td>0</td>\n",
       "      <td>0</td>\n",
       "      <td>1</td>\n",
       "      <td>0</td>\n",
       "      <td>0</td>\n",
       "      <td>0</td>\n",
       "      <td>0</td>\n",
       "      <td>0</td>\n",
       "      <td>0</td>\n",
       "      <td>0</td>\n",
       "      <td>0</td>\n",
       "      <td>0</td>\n",
       "      <td>1</td>\n",
       "      <td>0</td>\n",
       "      <td>0</td>\n",
       "      <td>0</td>\n",
       "    </tr>\n",
       "    <tr>\n",
       "      <th>8475</th>\n",
       "      <td>-0.994371</td>\n",
       "      <td>-0.886479</td>\n",
       "      <td>-1.138541</td>\n",
       "      <td>0</td>\n",
       "      <td>0</td>\n",
       "      <td>0</td>\n",
       "      <td>0</td>\n",
       "      <td>0</td>\n",
       "      <td>0</td>\n",
       "      <td>1</td>\n",
       "      <td>0</td>\n",
       "      <td>0</td>\n",
       "      <td>0</td>\n",
       "      <td>0</td>\n",
       "      <td>0</td>\n",
       "      <td>0</td>\n",
       "      <td>0</td>\n",
       "      <td>1</td>\n",
       "      <td>0</td>\n",
       "      <td>0</td>\n",
       "      <td>0</td>\n",
       "      <td>0</td>\n",
       "      <td>0</td>\n",
       "      <td>0</td>\n",
       "      <td>0</td>\n",
       "      <td>0</td>\n",
       "      <td>0</td>\n",
       "      <td>1</td>\n",
       "      <td>0</td>\n",
       "      <td>0</td>\n",
       "      <td>0</td>\n",
       "      <td>0</td>\n",
       "      <td>0</td>\n",
       "      <td>0</td>\n",
       "      <td>0</td>\n",
       "      <td>0</td>\n",
       "    </tr>\n",
       "    <tr>\n",
       "      <th>6068</th>\n",
       "      <td>1.664063</td>\n",
       "      <td>-0.477434</td>\n",
       "      <td>3.215931</td>\n",
       "      <td>0</td>\n",
       "      <td>1</td>\n",
       "      <td>0</td>\n",
       "      <td>0</td>\n",
       "      <td>0</td>\n",
       "      <td>0</td>\n",
       "      <td>0</td>\n",
       "      <td>0</td>\n",
       "      <td>0</td>\n",
       "      <td>0</td>\n",
       "      <td>0</td>\n",
       "      <td>0</td>\n",
       "      <td>0</td>\n",
       "      <td>0</td>\n",
       "      <td>0</td>\n",
       "      <td>0</td>\n",
       "      <td>0</td>\n",
       "      <td>0</td>\n",
       "      <td>0</td>\n",
       "      <td>0</td>\n",
       "      <td>0</td>\n",
       "      <td>0</td>\n",
       "      <td>0</td>\n",
       "      <td>0</td>\n",
       "      <td>0</td>\n",
       "      <td>0</td>\n",
       "      <td>1</td>\n",
       "      <td>0</td>\n",
       "      <td>0</td>\n",
       "      <td>0</td>\n",
       "      <td>0</td>\n",
       "      <td>0</td>\n",
       "      <td>0</td>\n",
       "    </tr>\n",
       "    <tr>\n",
       "      <th>7581</th>\n",
       "      <td>-0.108226</td>\n",
       "      <td>-0.112411</td>\n",
       "      <td>0.312950</td>\n",
       "      <td>0</td>\n",
       "      <td>1</td>\n",
       "      <td>0</td>\n",
       "      <td>0</td>\n",
       "      <td>0</td>\n",
       "      <td>0</td>\n",
       "      <td>0</td>\n",
       "      <td>1</td>\n",
       "      <td>0</td>\n",
       "      <td>0</td>\n",
       "      <td>0</td>\n",
       "      <td>0</td>\n",
       "      <td>1</td>\n",
       "      <td>0</td>\n",
       "      <td>0</td>\n",
       "      <td>0</td>\n",
       "      <td>0</td>\n",
       "      <td>0</td>\n",
       "      <td>0</td>\n",
       "      <td>0</td>\n",
       "      <td>0</td>\n",
       "      <td>0</td>\n",
       "      <td>0</td>\n",
       "      <td>0</td>\n",
       "      <td>0</td>\n",
       "      <td>0</td>\n",
       "      <td>1</td>\n",
       "      <td>0</td>\n",
       "      <td>0</td>\n",
       "      <td>0</td>\n",
       "      <td>0</td>\n",
       "      <td>0</td>\n",
       "      <td>0</td>\n",
       "    </tr>\n",
       "  </tbody>\n",
       "</table>\n",
       "</div>"
      ],
      "text/plain": [
       "      TotalVisits  Total Time Spent on Website  Page Views Per Visit  \\\n",
       "433     -0.403608                    -0.156434             -0.170880   \n",
       "3132     0.187155                     1.382529              0.796780   \n",
       "8475    -0.994371                    -0.886479             -1.138541   \n",
       "6068     1.664063                    -0.477434              3.215931   \n",
       "7581    -0.108226                    -0.112411              0.312950   \n",
       "\n",
       "      A free copy of Mastering The Interview  \\\n",
       "433                                        1   \n",
       "3132                                       0   \n",
       "8475                                       0   \n",
       "6068                                       0   \n",
       "7581                                       0   \n",
       "\n",
       "      Lead Origin_Landing Page Submission  Lead Origin_Lead Add Form  \\\n",
       "433                                     1                          0   \n",
       "3132                                    1                          0   \n",
       "8475                                    0                          0   \n",
       "6068                                    1                          0   \n",
       "7581                                    1                          0   \n",
       "\n",
       "      Lead Origin_Lead Import  Lead Source_Facebook  Lead Source_Google  \\\n",
       "433                         0                     0                   0   \n",
       "3132                        0                     0                   1   \n",
       "8475                        0                     0                   0   \n",
       "6068                        0                     0                   0   \n",
       "7581                        0                     0                   0   \n",
       "\n",
       "      Lead Source_Olark Chat  Lead Source_Organic Search  \\\n",
       "433                        0                           0   \n",
       "3132                       0                           0   \n",
       "8475                       1                           0   \n",
       "6068                       0                           0   \n",
       "7581                       0                           1   \n",
       "\n",
       "      Lead Source_Reference  Lead Source_Referral Sites  \\\n",
       "433                       0                           0   \n",
       "3132                      0                           0   \n",
       "8475                      0                           0   \n",
       "6068                      0                           0   \n",
       "7581                      0                           0   \n",
       "\n",
       "      Lead Source_Welingak Website  Lead Source_other_LeadSource  \\\n",
       "433                              0                             0   \n",
       "3132                             0                             0   \n",
       "8475                             0                             0   \n",
       "6068                             0                             0   \n",
       "7581                             0                             0   \n",
       "\n",
       "      Last Activity_Email Bounced  Last Activity_Email Link Clicked  \\\n",
       "433                             0                                 0   \n",
       "3132                            0                                 0   \n",
       "8475                            0                                 0   \n",
       "6068                            0                                 0   \n",
       "7581                            1                                 0   \n",
       "\n",
       "      Last Activity_Email Opened  Last Activity_Form Submitted on Website  \\\n",
       "433                            1                                        0   \n",
       "3132                           0                                        0   \n",
       "8475                           1                                        0   \n",
       "6068                           0                                        0   \n",
       "7581                           0                                        0   \n",
       "\n",
       "      Last Activity_Had a Phone Conversation  \\\n",
       "433                                        0   \n",
       "3132                                       0   \n",
       "8475                                       0   \n",
       "6068                                       0   \n",
       "7581                                       0   \n",
       "\n",
       "      Last Activity_Olark Chat Conversation  \\\n",
       "433                                       0   \n",
       "3132                                      0   \n",
       "8475                                      0   \n",
       "6068                                      0   \n",
       "7581                                      0   \n",
       "\n",
       "      Last Activity_Page Visited on Website  Last Activity_SMS Sent  \\\n",
       "433                                       0                       0   \n",
       "3132                                      0                       1   \n",
       "8475                                      0                       0   \n",
       "6068                                      0                       0   \n",
       "7581                                      0                       0   \n",
       "\n",
       "      Last Activity_Unreachable  Last Activity_Unsubscribed  \\\n",
       "433                           0                           0   \n",
       "3132                          0                           0   \n",
       "8475                          0                           0   \n",
       "6068                          0                           0   \n",
       "7581                          0                           0   \n",
       "\n",
       "      Last Activity_other_LastActivity  \\\n",
       "433                                  0   \n",
       "3132                                 0   \n",
       "8475                                 0   \n",
       "6068                                 0   \n",
       "7581                                 0   \n",
       "\n",
       "      Last Notable Activity_Email Link Clicked  \\\n",
       "433                                          0   \n",
       "3132                                         0   \n",
       "8475                                         0   \n",
       "6068                                         0   \n",
       "7581                                         0   \n",
       "\n",
       "      Last Notable Activity_Email Opened  \\\n",
       "433                                    1   \n",
       "3132                                   0   \n",
       "8475                                   1   \n",
       "6068                                   0   \n",
       "7581                                   0   \n",
       "\n",
       "      Last Notable Activity_Had a Phone Conversation  \\\n",
       "433                                                0   \n",
       "3132                                               0   \n",
       "8475                                               0   \n",
       "6068                                               0   \n",
       "7581                                               0   \n",
       "\n",
       "      Last Notable Activity_Modified  \\\n",
       "433                                0   \n",
       "3132                               0   \n",
       "8475                               0   \n",
       "6068                               1   \n",
       "7581                               1   \n",
       "\n",
       "      Last Notable Activity_Olark Chat Conversation  \\\n",
       "433                                               0   \n",
       "3132                                              0   \n",
       "8475                                              0   \n",
       "6068                                              0   \n",
       "7581                                              0   \n",
       "\n",
       "      Last Notable Activity_Page Visited on Website  \\\n",
       "433                                               0   \n",
       "3132                                              0   \n",
       "8475                                              0   \n",
       "6068                                              0   \n",
       "7581                                              0   \n",
       "\n",
       "      Last Notable Activity_SMS Sent  Last Notable Activity_Unreachable  \\\n",
       "433                                0                                  0   \n",
       "3132                               1                                  0   \n",
       "8475                               0                                  0   \n",
       "6068                               0                                  0   \n",
       "7581                               0                                  0   \n",
       "\n",
       "      Last Notable Activity_Unsubscribed  \\\n",
       "433                                    0   \n",
       "3132                                   0   \n",
       "8475                                   0   \n",
       "6068                                   0   \n",
       "7581                                   0   \n",
       "\n",
       "      Last Notable Activity_other_Last Notable Activity  \n",
       "433                                                   0  \n",
       "3132                                                  0  \n",
       "8475                                                  0  \n",
       "6068                                                  0  \n",
       "7581                                                  0  "
      ]
     },
     "execution_count": 98,
     "metadata": {},
     "output_type": "execute_result"
    }
   ],
   "source": [
    "#checking first 5 row of the train dataset\n",
    "X_train.head()\n"
   ]
  },
  {
   "cell_type": "markdown",
   "id": "f711cec9",
   "metadata": {},
   "source": [
    "# 6.Model Building"
   ]
  },
  {
   "cell_type": "code",
   "execution_count": 99,
   "id": "3f7d3787",
   "metadata": {},
   "outputs": [
    {
     "data": {
      "text/html": [
       "<table class=\"simpletable\">\n",
       "<caption>Generalized Linear Model Regression Results</caption>\n",
       "<tr>\n",
       "  <th>Dep. Variable:</th>       <td>Converted</td>    <th>  No. Observations:  </th>  <td>  7249</td> \n",
       "</tr>\n",
       "<tr>\n",
       "  <th>Model:</th>                  <td>GLM</td>       <th>  Df Residuals:      </th>  <td>  7212</td> \n",
       "</tr>\n",
       "<tr>\n",
       "  <th>Model Family:</th>        <td>Binomial</td>     <th>  Df Model:          </th>  <td>    36</td> \n",
       "</tr>\n",
       "<tr>\n",
       "  <th>Link Function:</th>         <td>logit</td>      <th>  Scale:             </th> <td>  1.0000</td>\n",
       "</tr>\n",
       "<tr>\n",
       "  <th>Method:</th>                <td>IRLS</td>       <th>  Log-Likelihood:    </th> <td> -3183.3</td>\n",
       "</tr>\n",
       "<tr>\n",
       "  <th>Date:</th>            <td>Tue, 15 Nov 2022</td> <th>  Deviance:          </th> <td>  6366.7</td>\n",
       "</tr>\n",
       "<tr>\n",
       "  <th>Time:</th>                <td>14:50:21</td>     <th>  Pearson chi2:      </th> <td>7.47e+03</td>\n",
       "</tr>\n",
       "<tr>\n",
       "  <th>No. Iterations:</th>         <td>19</td>        <th>                     </th>     <td> </td>   \n",
       "</tr>\n",
       "<tr>\n",
       "  <th>Covariance Type:</th>     <td>nonrobust</td>    <th>                     </th>     <td> </td>   \n",
       "</tr>\n",
       "</table>\n",
       "<table class=\"simpletable\">\n",
       "<tr>\n",
       "                          <td></td>                             <th>coef</th>     <th>std err</th>      <th>z</th>      <th>P>|z|</th>  <th>[0.025</th>    <th>0.975]</th>  \n",
       "</tr>\n",
       "<tr>\n",
       "  <th>const</th>                                             <td>   -1.1510</td> <td>    0.656</td> <td>   -1.754</td> <td> 0.079</td> <td>   -2.437</td> <td>    0.135</td>\n",
       "</tr>\n",
       "<tr>\n",
       "  <th>TotalVisits</th>                                       <td>    0.2826</td> <td>    0.044</td> <td>    6.389</td> <td> 0.000</td> <td>    0.196</td> <td>    0.369</td>\n",
       "</tr>\n",
       "<tr>\n",
       "  <th>Total Time Spent on Website</th>                       <td>    1.1517</td> <td>    0.037</td> <td>   31.078</td> <td> 0.000</td> <td>    1.079</td> <td>    1.224</td>\n",
       "</tr>\n",
       "<tr>\n",
       "  <th>Page Views Per Visit</th>                              <td>   -0.1762</td> <td>    0.048</td> <td>   -3.653</td> <td> 0.000</td> <td>   -0.271</td> <td>   -0.082</td>\n",
       "</tr>\n",
       "<tr>\n",
       "  <th>A free copy of Mastering The Interview</th>            <td>   -0.0094</td> <td>    0.096</td> <td>   -0.099</td> <td> 0.921</td> <td>   -0.197</td> <td>    0.178</td>\n",
       "</tr>\n",
       "<tr>\n",
       "  <th>Lead Origin_Landing Page Submission</th>               <td>   -0.1857</td> <td>    0.097</td> <td>   -1.918</td> <td> 0.055</td> <td>   -0.376</td> <td>    0.004</td>\n",
       "</tr>\n",
       "<tr>\n",
       "  <th>Lead Origin_Lead Add Form</th>                         <td>    1.9710</td> <td>    1.026</td> <td>    1.921</td> <td> 0.055</td> <td>   -0.040</td> <td>    3.982</td>\n",
       "</tr>\n",
       "<tr>\n",
       "  <th>Lead Origin_Lead Import</th>                           <td>   21.8519</td> <td> 1.77e+04</td> <td>    0.001</td> <td> 0.999</td> <td>-3.47e+04</td> <td> 3.48e+04</td>\n",
       "</tr>\n",
       "<tr>\n",
       "  <th>Lead Source_Facebook</th>                              <td>  -20.3182</td> <td> 1.77e+04</td> <td>   -0.001</td> <td> 0.999</td> <td>-3.48e+04</td> <td> 3.47e+04</td>\n",
       "</tr>\n",
       "<tr>\n",
       "  <th>Lead Source_Google</th>                                <td>    0.3300</td> <td>    0.102</td> <td>    3.221</td> <td> 0.001</td> <td>    0.129</td> <td>    0.531</td>\n",
       "</tr>\n",
       "<tr>\n",
       "  <th>Lead Source_Olark Chat</th>                            <td>    1.3297</td> <td>    0.145</td> <td>    9.161</td> <td> 0.000</td> <td>    1.045</td> <td>    1.614</td>\n",
       "</tr>\n",
       "<tr>\n",
       "  <th>Lead Source_Organic Search</th>                        <td>    0.1340</td> <td>    0.115</td> <td>    1.162</td> <td> 0.245</td> <td>   -0.092</td> <td>    0.360</td>\n",
       "</tr>\n",
       "<tr>\n",
       "  <th>Lead Source_Reference</th>                             <td>    2.3448</td> <td>    1.048</td> <td>    2.238</td> <td> 0.025</td> <td>    0.291</td> <td>    4.398</td>\n",
       "</tr>\n",
       "<tr>\n",
       "  <th>Lead Source_Referral Sites</th>                        <td>    0.1215</td> <td>    0.289</td> <td>    0.420</td> <td> 0.675</td> <td>   -0.446</td> <td>    0.689</td>\n",
       "</tr>\n",
       "<tr>\n",
       "  <th>Lead Source_Welingak Website</th>                      <td>    4.5029</td> <td>    1.442</td> <td>    3.124</td> <td> 0.002</td> <td>    1.677</td> <td>    7.328</td>\n",
       "</tr>\n",
       "<tr>\n",
       "  <th>Lead Source_other_LeadSource</th>                      <td>    0.3099</td> <td>    0.622</td> <td>    0.498</td> <td> 0.618</td> <td>   -0.909</td> <td>    1.529</td>\n",
       "</tr>\n",
       "<tr>\n",
       "  <th>Last Activity_Email Bounced</th>                       <td>   -1.3254</td> <td>    0.439</td> <td>   -3.021</td> <td> 0.003</td> <td>   -2.185</td> <td>   -0.465</td>\n",
       "</tr>\n",
       "<tr>\n",
       "  <th>Last Activity_Email Link Clicked</th>                  <td>    0.5359</td> <td>    0.362</td> <td>    1.481</td> <td> 0.138</td> <td>   -0.173</td> <td>    1.245</td>\n",
       "</tr>\n",
       "<tr>\n",
       "  <th>Last Activity_Email Opened</th>                        <td>    0.9256</td> <td>    0.219</td> <td>    4.226</td> <td> 0.000</td> <td>    0.496</td> <td>    1.355</td>\n",
       "</tr>\n",
       "<tr>\n",
       "  <th>Last Activity_Form Submitted on Website</th>           <td>    0.3274</td> <td>    0.347</td> <td>    0.944</td> <td> 0.345</td> <td>   -0.352</td> <td>    1.007</td>\n",
       "</tr>\n",
       "<tr>\n",
       "  <th>Last Activity_Had a Phone Conversation</th>            <td>    2.0809</td> <td>    0.845</td> <td>    2.462</td> <td> 0.014</td> <td>    0.424</td> <td>    3.737</td>\n",
       "</tr>\n",
       "<tr>\n",
       "  <th>Last Activity_Olark Chat Conversation</th>             <td>   -0.6673</td> <td>    0.248</td> <td>   -2.686</td> <td> 0.007</td> <td>   -1.154</td> <td>   -0.180</td>\n",
       "</tr>\n",
       "<tr>\n",
       "  <th>Last Activity_Page Visited on Website</th>             <td>   -0.0614</td> <td>    0.276</td> <td>   -0.223</td> <td> 0.824</td> <td>   -0.602</td> <td>    0.479</td>\n",
       "</tr>\n",
       "<tr>\n",
       "  <th>Last Activity_SMS Sent</th>                            <td>    1.1037</td> <td>    0.221</td> <td>    4.987</td> <td> 0.000</td> <td>    0.670</td> <td>    1.537</td>\n",
       "</tr>\n",
       "<tr>\n",
       "  <th>Last Activity_Unreachable</th>                         <td>   -0.2170</td> <td>    0.541</td> <td>   -0.401</td> <td> 0.689</td> <td>   -1.278</td> <td>    0.844</td>\n",
       "</tr>\n",
       "<tr>\n",
       "  <th>Last Activity_Unsubscribed</th>                        <td>   -0.0572</td> <td>    1.203</td> <td>   -0.048</td> <td> 0.962</td> <td>   -2.415</td> <td>    2.301</td>\n",
       "</tr>\n",
       "<tr>\n",
       "  <th>Last Activity_other_LastActivity</th>                  <td>    2.3091</td> <td>    0.772</td> <td>    2.990</td> <td> 0.003</td> <td>    0.795</td> <td>    3.823</td>\n",
       "</tr>\n",
       "<tr>\n",
       "  <th>Last Notable Activity_Email Link Clicked</th>          <td>   -1.1720</td> <td>    0.732</td> <td>   -1.601</td> <td> 0.109</td> <td>   -2.607</td> <td>    0.263</td>\n",
       "</tr>\n",
       "<tr>\n",
       "  <th>Last Notable Activity_Email Opened</th>                <td>   -0.9655</td> <td>    0.634</td> <td>   -1.522</td> <td> 0.128</td> <td>   -2.209</td> <td>    0.278</td>\n",
       "</tr>\n",
       "<tr>\n",
       "  <th>Last Notable Activity_Had a Phone Conversation</th>    <td>    0.4897</td> <td>    1.514</td> <td>    0.323</td> <td> 0.746</td> <td>   -2.478</td> <td>    3.457</td>\n",
       "</tr>\n",
       "<tr>\n",
       "  <th>Last Notable Activity_Modified</th>                    <td>   -1.0945</td> <td>    0.622</td> <td>   -1.760</td> <td> 0.078</td> <td>   -2.313</td> <td>    0.124</td>\n",
       "</tr>\n",
       "<tr>\n",
       "  <th>Last Notable Activity_Olark Chat Conversation</th>     <td>   -0.9864</td> <td>    0.701</td> <td>   -1.408</td> <td> 0.159</td> <td>   -2.360</td> <td>    0.387</td>\n",
       "</tr>\n",
       "<tr>\n",
       "  <th>Last Notable Activity_Page Visited on Website</th>     <td>   -0.7068</td> <td>    0.675</td> <td>   -1.047</td> <td> 0.295</td> <td>   -2.030</td> <td>    0.616</td>\n",
       "</tr>\n",
       "<tr>\n",
       "  <th>Last Notable Activity_SMS Sent</th>                    <td>    0.2740</td> <td>    0.636</td> <td>    0.431</td> <td> 0.667</td> <td>   -0.973</td> <td>    1.521</td>\n",
       "</tr>\n",
       "<tr>\n",
       "  <th>Last Notable Activity_Unreachable</th>                 <td>    1.9294</td> <td>    0.917</td> <td>    2.103</td> <td> 0.035</td> <td>    0.131</td> <td>    3.727</td>\n",
       "</tr>\n",
       "<tr>\n",
       "  <th>Last Notable Activity_Unsubscribed</th>                <td>   -0.1340</td> <td>    1.406</td> <td>   -0.095</td> <td> 0.924</td> <td>   -2.889</td> <td>    2.621</td>\n",
       "</tr>\n",
       "<tr>\n",
       "  <th>Last Notable Activity_other_Last Notable Activity</th> <td>   -0.8718</td> <td>    1.591</td> <td>   -0.548</td> <td> 0.584</td> <td>   -3.991</td> <td>    2.247</td>\n",
       "</tr>\n",
       "</table>"
      ],
      "text/plain": [
       "<class 'statsmodels.iolib.summary.Summary'>\n",
       "\"\"\"\n",
       "                 Generalized Linear Model Regression Results                  \n",
       "==============================================================================\n",
       "Dep. Variable:              Converted   No. Observations:                 7249\n",
       "Model:                            GLM   Df Residuals:                     7212\n",
       "Model Family:                Binomial   Df Model:                           36\n",
       "Link Function:                  logit   Scale:                          1.0000\n",
       "Method:                          IRLS   Log-Likelihood:                -3183.3\n",
       "Date:                Tue, 15 Nov 2022   Deviance:                       6366.7\n",
       "Time:                        14:50:21   Pearson chi2:                 7.47e+03\n",
       "No. Iterations:                    19                                         \n",
       "Covariance Type:            nonrobust                                         \n",
       "=====================================================================================================================\n",
       "                                                        coef    std err          z      P>|z|      [0.025      0.975]\n",
       "---------------------------------------------------------------------------------------------------------------------\n",
       "const                                                -1.1510      0.656     -1.754      0.079      -2.437       0.135\n",
       "TotalVisits                                           0.2826      0.044      6.389      0.000       0.196       0.369\n",
       "Total Time Spent on Website                           1.1517      0.037     31.078      0.000       1.079       1.224\n",
       "Page Views Per Visit                                 -0.1762      0.048     -3.653      0.000      -0.271      -0.082\n",
       "A free copy of Mastering The Interview               -0.0094      0.096     -0.099      0.921      -0.197       0.178\n",
       "Lead Origin_Landing Page Submission                  -0.1857      0.097     -1.918      0.055      -0.376       0.004\n",
       "Lead Origin_Lead Add Form                             1.9710      1.026      1.921      0.055      -0.040       3.982\n",
       "Lead Origin_Lead Import                              21.8519   1.77e+04      0.001      0.999   -3.47e+04    3.48e+04\n",
       "Lead Source_Facebook                                -20.3182   1.77e+04     -0.001      0.999   -3.48e+04    3.47e+04\n",
       "Lead Source_Google                                    0.3300      0.102      3.221      0.001       0.129       0.531\n",
       "Lead Source_Olark Chat                                1.3297      0.145      9.161      0.000       1.045       1.614\n",
       "Lead Source_Organic Search                            0.1340      0.115      1.162      0.245      -0.092       0.360\n",
       "Lead Source_Reference                                 2.3448      1.048      2.238      0.025       0.291       4.398\n",
       "Lead Source_Referral Sites                            0.1215      0.289      0.420      0.675      -0.446       0.689\n",
       "Lead Source_Welingak Website                          4.5029      1.442      3.124      0.002       1.677       7.328\n",
       "Lead Source_other_LeadSource                          0.3099      0.622      0.498      0.618      -0.909       1.529\n",
       "Last Activity_Email Bounced                          -1.3254      0.439     -3.021      0.003      -2.185      -0.465\n",
       "Last Activity_Email Link Clicked                      0.5359      0.362      1.481      0.138      -0.173       1.245\n",
       "Last Activity_Email Opened                            0.9256      0.219      4.226      0.000       0.496       1.355\n",
       "Last Activity_Form Submitted on Website               0.3274      0.347      0.944      0.345      -0.352       1.007\n",
       "Last Activity_Had a Phone Conversation                2.0809      0.845      2.462      0.014       0.424       3.737\n",
       "Last Activity_Olark Chat Conversation                -0.6673      0.248     -2.686      0.007      -1.154      -0.180\n",
       "Last Activity_Page Visited on Website                -0.0614      0.276     -0.223      0.824      -0.602       0.479\n",
       "Last Activity_SMS Sent                                1.1037      0.221      4.987      0.000       0.670       1.537\n",
       "Last Activity_Unreachable                            -0.2170      0.541     -0.401      0.689      -1.278       0.844\n",
       "Last Activity_Unsubscribed                           -0.0572      1.203     -0.048      0.962      -2.415       2.301\n",
       "Last Activity_other_LastActivity                      2.3091      0.772      2.990      0.003       0.795       3.823\n",
       "Last Notable Activity_Email Link Clicked             -1.1720      0.732     -1.601      0.109      -2.607       0.263\n",
       "Last Notable Activity_Email Opened                   -0.9655      0.634     -1.522      0.128      -2.209       0.278\n",
       "Last Notable Activity_Had a Phone Conversation        0.4897      1.514      0.323      0.746      -2.478       3.457\n",
       "Last Notable Activity_Modified                       -1.0945      0.622     -1.760      0.078      -2.313       0.124\n",
       "Last Notable Activity_Olark Chat Conversation        -0.9864      0.701     -1.408      0.159      -2.360       0.387\n",
       "Last Notable Activity_Page Visited on Website        -0.7068      0.675     -1.047      0.295      -2.030       0.616\n",
       "Last Notable Activity_SMS Sent                        0.2740      0.636      0.431      0.667      -0.973       1.521\n",
       "Last Notable Activity_Unreachable                     1.9294      0.917      2.103      0.035       0.131       3.727\n",
       "Last Notable Activity_Unsubscribed                   -0.1340      1.406     -0.095      0.924      -2.889       2.621\n",
       "Last Notable Activity_other_Last Notable Activity    -0.8718      1.591     -0.548      0.584      -3.991       2.247\n",
       "=====================================================================================================================\n",
       "\"\"\""
      ]
     },
     "execution_count": 99,
     "metadata": {},
     "output_type": "execute_result"
    }
   ],
   "source": [
    "#adding constant and appling the stats model on full dataframe\n",
    "logm1 = sm.GLM(y_train,(sm.add_constant(X_train)), family = sm.families.Binomial())\n",
    "logm1.fit().summary()"
   ]
  },
  {
   "cell_type": "markdown",
   "id": "86aef5d1",
   "metadata": {},
   "source": [
    "As per the above, there are many features that have p value very high one of the way is that we start eliminating the features and keep checking the p value and VIF but we will build the model with the feature selection taking the 15 feature then eliminate it using p and vif"
   ]
  },
  {
   "cell_type": "markdown",
   "id": "02ad483a",
   "metadata": {},
   "source": [
    "# 7. Feature selection using RFE"
   ]
  },
  {
   "cell_type": "code",
   "execution_count": 100,
   "id": "9155e3a6",
   "metadata": {},
   "outputs": [],
   "source": [
    "#Instanciating the logistic regression model\n",
    "logreg = LogisticRegression()"
   ]
  },
  {
   "cell_type": "code",
   "execution_count": 101,
   "id": "8385c2f6",
   "metadata": {},
   "outputs": [],
   "source": [
    "#Feature selection using the RFE\n",
    "rfe = RFE(logreg, n_features_to_select=15)             \n",
    "rfe = rfe.fit(X_train, y_train)"
   ]
  },
  {
   "cell_type": "code",
   "execution_count": 102,
   "id": "dd139953",
   "metadata": {},
   "outputs": [
    {
     "data": {
      "text/plain": [
       "array([False,  True, False, False, False,  True,  True, False, False,\n",
       "        True, False,  True, False,  True, False,  True, False,  True,\n",
       "       False,  True,  True, False,  True, False, False,  True, False,\n",
       "       False,  True, False, False, False,  True,  True, False, False])"
      ]
     },
     "execution_count": 102,
     "metadata": {},
     "output_type": "execute_result"
    }
   ],
   "source": [
    "#Features supporting the RFE\n",
    "rfe.support_"
   ]
  },
  {
   "cell_type": "code",
   "execution_count": 103,
   "id": "e19b1bee",
   "metadata": {},
   "outputs": [
    {
     "data": {
      "text/plain": [
       "[('TotalVisits', False, 12),\n",
       " ('Total Time Spent on Website', True, 1),\n",
       " ('Page Views Per Visit', False, 14),\n",
       " ('A free copy of Mastering The Interview', False, 21),\n",
       " ('Lead Origin_Landing Page Submission', False, 8),\n",
       " ('Lead Origin_Lead Add Form', True, 1),\n",
       " ('Lead Origin_Lead Import', True, 1),\n",
       " ('Lead Source_Facebook', False, 9),\n",
       " ('Lead Source_Google', False, 10),\n",
       " ('Lead Source_Olark Chat', True, 1),\n",
       " ('Lead Source_Organic Search', False, 15),\n",
       " ('Lead Source_Reference', True, 1),\n",
       " ('Lead Source_Referral Sites', False, 16),\n",
       " ('Lead Source_Welingak Website', True, 1),\n",
       " ('Lead Source_other_LeadSource', False, 22),\n",
       " ('Last Activity_Email Bounced', True, 1),\n",
       " ('Last Activity_Email Link Clicked', False, 6),\n",
       " ('Last Activity_Email Opened', True, 1),\n",
       " ('Last Activity_Form Submitted on Website', False, 7),\n",
       " ('Last Activity_Had a Phone Conversation', True, 1),\n",
       " ('Last Activity_Olark Chat Conversation', True, 1),\n",
       " ('Last Activity_Page Visited on Website', False, 13),\n",
       " ('Last Activity_SMS Sent', True, 1),\n",
       " ('Last Activity_Unreachable', False, 18),\n",
       " ('Last Activity_Unsubscribed', False, 20),\n",
       " ('Last Activity_other_LastActivity', True, 1),\n",
       " ('Last Notable Activity_Email Link Clicked', False, 5),\n",
       " ('Last Notable Activity_Email Opened', False, 3),\n",
       " ('Last Notable Activity_Had a Phone Conversation', True, 1),\n",
       " ('Last Notable Activity_Modified', False, 2),\n",
       " ('Last Notable Activity_Olark Chat Conversation', False, 4),\n",
       " ('Last Notable Activity_Page Visited on Website', False, 11),\n",
       " ('Last Notable Activity_SMS Sent', True, 1),\n",
       " ('Last Notable Activity_Unreachable', True, 1),\n",
       " ('Last Notable Activity_Unsubscribed', False, 19),\n",
       " ('Last Notable Activity_other_Last Notable Activity', False, 17)]"
      ]
     },
     "execution_count": 103,
     "metadata": {},
     "output_type": "execute_result"
    }
   ],
   "source": [
    "#List of the column along with the RFE support and ranking\n",
    "list(zip(X_train.columns, rfe.support_, rfe.ranking_))"
   ]
  },
  {
   "cell_type": "code",
   "execution_count": 104,
   "id": "86a92da1",
   "metadata": {},
   "outputs": [],
   "source": [
    "# creating column variable supporting RFE\n",
    "col = X_train.columns[rfe.support_]"
   ]
  },
  {
   "cell_type": "code",
   "execution_count": 105,
   "id": "0adef148",
   "metadata": {},
   "outputs": [
    {
     "data": {
      "text/plain": [
       "Index(['TotalVisits', 'Page Views Per Visit',\n",
       "       'A free copy of Mastering The Interview',\n",
       "       'Lead Origin_Landing Page Submission', 'Lead Source_Facebook',\n",
       "       'Lead Source_Google', 'Lead Source_Organic Search',\n",
       "       'Lead Source_Referral Sites', 'Lead Source_other_LeadSource',\n",
       "       'Last Activity_Email Link Clicked',\n",
       "       'Last Activity_Form Submitted on Website',\n",
       "       'Last Activity_Page Visited on Website', 'Last Activity_Unreachable',\n",
       "       'Last Activity_Unsubscribed',\n",
       "       'Last Notable Activity_Email Link Clicked',\n",
       "       'Last Notable Activity_Email Opened', 'Last Notable Activity_Modified',\n",
       "       'Last Notable Activity_Olark Chat Conversation',\n",
       "       'Last Notable Activity_Page Visited on Website',\n",
       "       'Last Notable Activity_Unsubscribed',\n",
       "       'Last Notable Activity_other_Last Notable Activity'],\n",
       "      dtype='object')"
      ]
     },
     "execution_count": 105,
     "metadata": {},
     "output_type": "execute_result"
    }
   ],
   "source": [
    "#Applying same column to the RFE\n",
    "X_train.columns[~rfe.support_]"
   ]
  },
  {
   "cell_type": "markdown",
   "id": "1af97daf",
   "metadata": {},
   "source": [
    "Accessing the model with the stats model"
   ]
  },
  {
   "cell_type": "code",
   "execution_count": 106,
   "id": "448351da",
   "metadata": {},
   "outputs": [],
   "source": [
    "# Mapping X_train_rfe to rfe supports column\n",
    "X_train_rfe = X_train[col]"
   ]
  },
  {
   "cell_type": "code",
   "execution_count": 107,
   "id": "35144292",
   "metadata": {},
   "outputs": [
    {
     "data": {
      "text/html": [
       "<table class=\"simpletable\">\n",
       "<caption>Generalized Linear Model Regression Results</caption>\n",
       "<tr>\n",
       "  <th>Dep. Variable:</th>       <td>Converted</td>    <th>  No. Observations:  </th>  <td>  7249</td> \n",
       "</tr>\n",
       "<tr>\n",
       "  <th>Model:</th>                  <td>GLM</td>       <th>  Df Residuals:      </th>  <td>  7233</td> \n",
       "</tr>\n",
       "<tr>\n",
       "  <th>Model Family:</th>        <td>Binomial</td>     <th>  Df Model:          </th>  <td>    15</td> \n",
       "</tr>\n",
       "<tr>\n",
       "  <th>Link Function:</th>         <td>logit</td>      <th>  Scale:             </th> <td>  1.0000</td>\n",
       "</tr>\n",
       "<tr>\n",
       "  <th>Method:</th>                <td>IRLS</td>       <th>  Log-Likelihood:    </th> <td> -3231.0</td>\n",
       "</tr>\n",
       "<tr>\n",
       "  <th>Date:</th>            <td>Tue, 15 Nov 2022</td> <th>  Deviance:          </th> <td>  6462.0</td>\n",
       "</tr>\n",
       "<tr>\n",
       "  <th>Time:</th>                <td>14:52:49</td>     <th>  Pearson chi2:      </th> <td>7.48e+03</td>\n",
       "</tr>\n",
       "<tr>\n",
       "  <th>No. Iterations:</th>          <td>7</td>        <th>                     </th>     <td> </td>   \n",
       "</tr>\n",
       "<tr>\n",
       "  <th>Covariance Type:</th>     <td>nonrobust</td>    <th>                     </th>     <td> </td>   \n",
       "</tr>\n",
       "</table>\n",
       "<table class=\"simpletable\">\n",
       "<tr>\n",
       "                         <td></td>                           <th>coef</th>     <th>std err</th>      <th>z</th>      <th>P>|z|</th>  <th>[0.025</th>    <th>0.975]</th>  \n",
       "</tr>\n",
       "<tr>\n",
       "  <th>const</th>                                          <td>   -1.9092</td> <td>    0.086</td> <td>  -22.161</td> <td> 0.000</td> <td>   -2.078</td> <td>   -1.740</td>\n",
       "</tr>\n",
       "<tr>\n",
       "  <th>Total Time Spent on Website</th>                    <td>    1.1612</td> <td>    0.037</td> <td>   31.703</td> <td> 0.000</td> <td>    1.089</td> <td>    1.233</td>\n",
       "</tr>\n",
       "<tr>\n",
       "  <th>Lead Origin_Lead Add Form</th>                      <td>    2.1558</td> <td>    0.884</td> <td>    2.440</td> <td> 0.015</td> <td>    0.424</td> <td>    3.887</td>\n",
       "</tr>\n",
       "<tr>\n",
       "  <th>Lead Origin_Lead Import</th>                        <td>    1.4113</td> <td>    0.442</td> <td>    3.190</td> <td> 0.001</td> <td>    0.544</td> <td>    2.278</td>\n",
       "</tr>\n",
       "<tr>\n",
       "  <th>Lead Source_Olark Chat</th>                         <td>    1.2341</td> <td>    0.093</td> <td>   13.291</td> <td> 0.000</td> <td>    1.052</td> <td>    1.416</td>\n",
       "</tr>\n",
       "<tr>\n",
       "  <th>Lead Source_Reference</th>                          <td>    2.0520</td> <td>    0.906</td> <td>    2.265</td> <td> 0.023</td> <td>    0.277</td> <td>    3.827</td>\n",
       "</tr>\n",
       "<tr>\n",
       "  <th>Lead Source_Welingak Website</th>                   <td>    4.2838</td> <td>    1.345</td> <td>    3.186</td> <td> 0.001</td> <td>    1.648</td> <td>    6.919</td>\n",
       "</tr>\n",
       "<tr>\n",
       "  <th>Last Activity_Email Bounced</th>                    <td>   -1.3713</td> <td>    0.309</td> <td>   -4.441</td> <td> 0.000</td> <td>   -1.977</td> <td>   -0.766</td>\n",
       "</tr>\n",
       "<tr>\n",
       "  <th>Last Activity_Email Opened</th>                     <td>    0.7513</td> <td>    0.096</td> <td>    7.862</td> <td> 0.000</td> <td>    0.564</td> <td>    0.939</td>\n",
       "</tr>\n",
       "<tr>\n",
       "  <th>Last Activity_Had a Phone Conversation</th>         <td>    1.8421</td> <td>    0.820</td> <td>    2.248</td> <td> 0.025</td> <td>    0.236</td> <td>    3.448</td>\n",
       "</tr>\n",
       "<tr>\n",
       "  <th>Last Activity_Olark Chat Conversation</th>          <td>   -0.8693</td> <td>    0.165</td> <td>   -5.282</td> <td> 0.000</td> <td>   -1.192</td> <td>   -0.547</td>\n",
       "</tr>\n",
       "<tr>\n",
       "  <th>Last Activity_SMS Sent</th>                         <td>    0.8127</td> <td>    0.144</td> <td>    5.632</td> <td> 0.000</td> <td>    0.530</td> <td>    1.096</td>\n",
       "</tr>\n",
       "<tr>\n",
       "  <th>Last Activity_other_LastActivity</th>               <td>    2.1651</td> <td>    0.647</td> <td>    3.345</td> <td> 0.001</td> <td>    0.897</td> <td>    3.434</td>\n",
       "</tr>\n",
       "<tr>\n",
       "  <th>Last Notable Activity_Had a Phone Conversation</th> <td>    1.9169</td> <td>    1.382</td> <td>    1.387</td> <td> 0.165</td> <td>   -0.791</td> <td>    4.625</td>\n",
       "</tr>\n",
       "<tr>\n",
       "  <th>Last Notable Activity_SMS Sent</th>                 <td>    1.3239</td> <td>    0.132</td> <td>   10.003</td> <td> 0.000</td> <td>    1.064</td> <td>    1.583</td>\n",
       "</tr>\n",
       "<tr>\n",
       "  <th>Last Notable Activity_Unreachable</th>              <td>    2.5537</td> <td>    0.450</td> <td>    5.676</td> <td> 0.000</td> <td>    1.672</td> <td>    3.436</td>\n",
       "</tr>\n",
       "</table>"
      ],
      "text/plain": [
       "<class 'statsmodels.iolib.summary.Summary'>\n",
       "\"\"\"\n",
       "                 Generalized Linear Model Regression Results                  \n",
       "==============================================================================\n",
       "Dep. Variable:              Converted   No. Observations:                 7249\n",
       "Model:                            GLM   Df Residuals:                     7233\n",
       "Model Family:                Binomial   Df Model:                           15\n",
       "Link Function:                  logit   Scale:                          1.0000\n",
       "Method:                          IRLS   Log-Likelihood:                -3231.0\n",
       "Date:                Tue, 15 Nov 2022   Deviance:                       6462.0\n",
       "Time:                        14:52:49   Pearson chi2:                 7.48e+03\n",
       "No. Iterations:                     7                                         \n",
       "Covariance Type:            nonrobust                                         \n",
       "==================================================================================================================\n",
       "                                                     coef    std err          z      P>|z|      [0.025      0.975]\n",
       "------------------------------------------------------------------------------------------------------------------\n",
       "const                                             -1.9092      0.086    -22.161      0.000      -2.078      -1.740\n",
       "Total Time Spent on Website                        1.1612      0.037     31.703      0.000       1.089       1.233\n",
       "Lead Origin_Lead Add Form                          2.1558      0.884      2.440      0.015       0.424       3.887\n",
       "Lead Origin_Lead Import                            1.4113      0.442      3.190      0.001       0.544       2.278\n",
       "Lead Source_Olark Chat                             1.2341      0.093     13.291      0.000       1.052       1.416\n",
       "Lead Source_Reference                              2.0520      0.906      2.265      0.023       0.277       3.827\n",
       "Lead Source_Welingak Website                       4.2838      1.345      3.186      0.001       1.648       6.919\n",
       "Last Activity_Email Bounced                       -1.3713      0.309     -4.441      0.000      -1.977      -0.766\n",
       "Last Activity_Email Opened                         0.7513      0.096      7.862      0.000       0.564       0.939\n",
       "Last Activity_Had a Phone Conversation             1.8421      0.820      2.248      0.025       0.236       3.448\n",
       "Last Activity_Olark Chat Conversation             -0.8693      0.165     -5.282      0.000      -1.192      -0.547\n",
       "Last Activity_SMS Sent                             0.8127      0.144      5.632      0.000       0.530       1.096\n",
       "Last Activity_other_LastActivity                   2.1651      0.647      3.345      0.001       0.897       3.434\n",
       "Last Notable Activity_Had a Phone Conversation     1.9169      1.382      1.387      0.165      -0.791       4.625\n",
       "Last Notable Activity_SMS Sent                     1.3239      0.132     10.003      0.000       1.064       1.583\n",
       "Last Notable Activity_Unreachable                  2.5537      0.450      5.676      0.000       1.672       3.436\n",
       "==================================================================================================================\n",
       "\"\"\""
      ]
     },
     "execution_count": 107,
     "metadata": {},
     "output_type": "execute_result"
    }
   ],
   "source": [
    "#Applying stat model and checcking summary\n",
    "X_train_1 = sm.add_constant(X_train_rfe)\n",
    "logm2 = sm.GLM(y_train,X_train_1, family = sm.families.Binomial())\n",
    "res = logm2.fit()\n",
    "res.summary()"
   ]
  },
  {
   "cell_type": "code",
   "execution_count": 108,
   "id": "4a301ff4",
   "metadata": {},
   "outputs": [],
   "source": [
    "#Dropping column Last Notable Activity_Had a Phone Conversation\n",
    "X_train_rfe=X_train_rfe.drop('Last Notable Activity_Had a Phone Conversation',axis=1)"
   ]
  },
  {
   "cell_type": "code",
   "execution_count": 109,
   "id": "6cc62cd1",
   "metadata": {},
   "outputs": [
    {
     "data": {
      "text/html": [
       "<table class=\"simpletable\">\n",
       "<caption>Generalized Linear Model Regression Results</caption>\n",
       "<tr>\n",
       "  <th>Dep. Variable:</th>       <td>Converted</td>    <th>  No. Observations:  </th>  <td>  7249</td> \n",
       "</tr>\n",
       "<tr>\n",
       "  <th>Model:</th>                  <td>GLM</td>       <th>  Df Residuals:      </th>  <td>  7234</td> \n",
       "</tr>\n",
       "<tr>\n",
       "  <th>Model Family:</th>        <td>Binomial</td>     <th>  Df Model:          </th>  <td>    14</td> \n",
       "</tr>\n",
       "<tr>\n",
       "  <th>Link Function:</th>         <td>logit</td>      <th>  Scale:             </th> <td>  1.0000</td>\n",
       "</tr>\n",
       "<tr>\n",
       "  <th>Method:</th>                <td>IRLS</td>       <th>  Log-Likelihood:    </th> <td> -3232.1</td>\n",
       "</tr>\n",
       "<tr>\n",
       "  <th>Date:</th>            <td>Tue, 15 Nov 2022</td> <th>  Deviance:          </th> <td>  6464.1</td>\n",
       "</tr>\n",
       "<tr>\n",
       "  <th>Time:</th>                <td>14:53:04</td>     <th>  Pearson chi2:      </th> <td>7.48e+03</td>\n",
       "</tr>\n",
       "<tr>\n",
       "  <th>No. Iterations:</th>          <td>7</td>        <th>                     </th>     <td> </td>   \n",
       "</tr>\n",
       "<tr>\n",
       "  <th>Covariance Type:</th>     <td>nonrobust</td>    <th>                     </th>     <td> </td>   \n",
       "</tr>\n",
       "</table>\n",
       "<table class=\"simpletable\">\n",
       "<tr>\n",
       "                     <td></td>                       <th>coef</th>     <th>std err</th>      <th>z</th>      <th>P>|z|</th>  <th>[0.025</th>    <th>0.975]</th>  \n",
       "</tr>\n",
       "<tr>\n",
       "  <th>const</th>                                  <td>   -1.9089</td> <td>    0.086</td> <td>  -22.161</td> <td> 0.000</td> <td>   -2.078</td> <td>   -1.740</td>\n",
       "</tr>\n",
       "<tr>\n",
       "  <th>Total Time Spent on Website</th>            <td>    1.1607</td> <td>    0.037</td> <td>   31.700</td> <td> 0.000</td> <td>    1.089</td> <td>    1.233</td>\n",
       "</tr>\n",
       "<tr>\n",
       "  <th>Lead Origin_Lead Add Form</th>              <td>    2.1555</td> <td>    0.883</td> <td>    2.440</td> <td> 0.015</td> <td>    0.424</td> <td>    3.887</td>\n",
       "</tr>\n",
       "<tr>\n",
       "  <th>Lead Origin_Lead Import</th>                <td>    1.4106</td> <td>    0.442</td> <td>    3.188</td> <td> 0.001</td> <td>    0.544</td> <td>    2.278</td>\n",
       "</tr>\n",
       "<tr>\n",
       "  <th>Lead Source_Olark Chat</th>                 <td>    1.2335</td> <td>    0.093</td> <td>   13.287</td> <td> 0.000</td> <td>    1.052</td> <td>    1.415</td>\n",
       "</tr>\n",
       "<tr>\n",
       "  <th>Lead Source_Reference</th>                  <td>    2.0507</td> <td>    0.906</td> <td>    2.264</td> <td> 0.024</td> <td>    0.276</td> <td>    3.826</td>\n",
       "</tr>\n",
       "<tr>\n",
       "  <th>Lead Source_Welingak Website</th>           <td>    4.2835</td> <td>    1.345</td> <td>    3.186</td> <td> 0.001</td> <td>    1.648</td> <td>    6.919</td>\n",
       "</tr>\n",
       "<tr>\n",
       "  <th>Last Activity_Email Bounced</th>            <td>   -1.3713</td> <td>    0.309</td> <td>   -4.441</td> <td> 0.000</td> <td>   -1.976</td> <td>   -0.766</td>\n",
       "</tr>\n",
       "<tr>\n",
       "  <th>Last Activity_Email Opened</th>             <td>    0.7513</td> <td>    0.096</td> <td>    7.862</td> <td> 0.000</td> <td>    0.564</td> <td>    0.939</td>\n",
       "</tr>\n",
       "<tr>\n",
       "  <th>Last Activity_Had a Phone Conversation</th> <td>    2.6856</td> <td>    0.632</td> <td>    4.247</td> <td> 0.000</td> <td>    1.446</td> <td>    3.925</td>\n",
       "</tr>\n",
       "<tr>\n",
       "  <th>Last Activity_Olark Chat Conversation</th>  <td>   -0.8694</td> <td>    0.165</td> <td>   -5.283</td> <td> 0.000</td> <td>   -1.192</td> <td>   -0.547</td>\n",
       "</tr>\n",
       "<tr>\n",
       "  <th>Last Activity_SMS Sent</th>                 <td>    0.8127</td> <td>    0.144</td> <td>    5.632</td> <td> 0.000</td> <td>    0.530</td> <td>    1.095</td>\n",
       "</tr>\n",
       "<tr>\n",
       "  <th>Last Activity_other_LastActivity</th>       <td>    2.1649</td> <td>    0.647</td> <td>    3.345</td> <td> 0.001</td> <td>    0.896</td> <td>    3.433</td>\n",
       "</tr>\n",
       "<tr>\n",
       "  <th>Last Notable Activity_SMS Sent</th>         <td>    1.3237</td> <td>    0.132</td> <td>   10.003</td> <td> 0.000</td> <td>    1.064</td> <td>    1.583</td>\n",
       "</tr>\n",
       "<tr>\n",
       "  <th>Last Notable Activity_Unreachable</th>      <td>    2.5533</td> <td>    0.450</td> <td>    5.675</td> <td> 0.000</td> <td>    1.672</td> <td>    3.435</td>\n",
       "</tr>\n",
       "</table>"
      ],
      "text/plain": [
       "<class 'statsmodels.iolib.summary.Summary'>\n",
       "\"\"\"\n",
       "                 Generalized Linear Model Regression Results                  \n",
       "==============================================================================\n",
       "Dep. Variable:              Converted   No. Observations:                 7249\n",
       "Model:                            GLM   Df Residuals:                     7234\n",
       "Model Family:                Binomial   Df Model:                           14\n",
       "Link Function:                  logit   Scale:                          1.0000\n",
       "Method:                          IRLS   Log-Likelihood:                -3232.1\n",
       "Date:                Tue, 15 Nov 2022   Deviance:                       6464.1\n",
       "Time:                        14:53:04   Pearson chi2:                 7.48e+03\n",
       "No. Iterations:                     7                                         \n",
       "Covariance Type:            nonrobust                                         \n",
       "==========================================================================================================\n",
       "                                             coef    std err          z      P>|z|      [0.025      0.975]\n",
       "----------------------------------------------------------------------------------------------------------\n",
       "const                                     -1.9089      0.086    -22.161      0.000      -2.078      -1.740\n",
       "Total Time Spent on Website                1.1607      0.037     31.700      0.000       1.089       1.233\n",
       "Lead Origin_Lead Add Form                  2.1555      0.883      2.440      0.015       0.424       3.887\n",
       "Lead Origin_Lead Import                    1.4106      0.442      3.188      0.001       0.544       2.278\n",
       "Lead Source_Olark Chat                     1.2335      0.093     13.287      0.000       1.052       1.415\n",
       "Lead Source_Reference                      2.0507      0.906      2.264      0.024       0.276       3.826\n",
       "Lead Source_Welingak Website               4.2835      1.345      3.186      0.001       1.648       6.919\n",
       "Last Activity_Email Bounced               -1.3713      0.309     -4.441      0.000      -1.976      -0.766\n",
       "Last Activity_Email Opened                 0.7513      0.096      7.862      0.000       0.564       0.939\n",
       "Last Activity_Had a Phone Conversation     2.6856      0.632      4.247      0.000       1.446       3.925\n",
       "Last Activity_Olark Chat Conversation     -0.8694      0.165     -5.283      0.000      -1.192      -0.547\n",
       "Last Activity_SMS Sent                     0.8127      0.144      5.632      0.000       0.530       1.095\n",
       "Last Activity_other_LastActivity           2.1649      0.647      3.345      0.001       0.896       3.433\n",
       "Last Notable Activity_SMS Sent             1.3237      0.132     10.003      0.000       1.064       1.583\n",
       "Last Notable Activity_Unreachable          2.5533      0.450      5.675      0.000       1.672       3.435\n",
       "==========================================================================================================\n",
       "\"\"\""
      ]
     },
     "execution_count": 109,
     "metadata": {},
     "output_type": "execute_result"
    }
   ],
   "source": [
    "#Applying new stat model after dropping above column and checking summary\n",
    "X_train_3 = sm.add_constant(X_train_rfe)\n",
    "logm3 = sm.GLM(y_train,X_train_3, family = sm.families.Binomial())\n",
    "res = logm3.fit()\n",
    "res.summary()"
   ]
  },
  {
   "cell_type": "code",
   "execution_count": 110,
   "id": "e1a64565",
   "metadata": {},
   "outputs": [],
   "source": [
    "# Creating function for calculating VIF for the model\n",
    "\n",
    "def vif_cal(data):\n",
    "    vif = pd.DataFrame()\n",
    "    X = data\n",
    "    vif['Features'] = X.columns\n",
    "    vif['VIF'] = [variance_inflation_factor(X.values, i) for i in range(X.shape[1])]\n",
    "    vif['VIF'] = round(vif['VIF'], 2)\n",
    "    vif = vif.sort_values(by = \"VIF\", ascending = False)\n",
    "    return vif"
   ]
  },
  {
   "cell_type": "code",
   "execution_count": 111,
   "id": "c6b2dd73",
   "metadata": {},
   "outputs": [
    {
     "data": {
      "text/html": [
       "<div>\n",
       "<style scoped>\n",
       "    .dataframe tbody tr th:only-of-type {\n",
       "        vertical-align: middle;\n",
       "    }\n",
       "\n",
       "    .dataframe tbody tr th {\n",
       "        vertical-align: top;\n",
       "    }\n",
       "\n",
       "    .dataframe thead th {\n",
       "        text-align: right;\n",
       "    }\n",
       "</style>\n",
       "<table border=\"1\" class=\"dataframe\">\n",
       "  <thead>\n",
       "    <tr style=\"text-align: right;\">\n",
       "      <th></th>\n",
       "      <th>Features</th>\n",
       "      <th>VIF</th>\n",
       "    </tr>\n",
       "  </thead>\n",
       "  <tbody>\n",
       "    <tr>\n",
       "      <th>1</th>\n",
       "      <td>Lead Origin_Lead Add Form</td>\n",
       "      <td>57.07</td>\n",
       "    </tr>\n",
       "    <tr>\n",
       "      <th>4</th>\n",
       "      <td>Lead Source_Reference</td>\n",
       "      <td>44.73</td>\n",
       "    </tr>\n",
       "    <tr>\n",
       "      <th>5</th>\n",
       "      <td>Lead Source_Welingak Website</td>\n",
       "      <td>13.41</td>\n",
       "    </tr>\n",
       "    <tr>\n",
       "      <th>10</th>\n",
       "      <td>Last Activity_SMS Sent</td>\n",
       "      <td>4.98</td>\n",
       "    </tr>\n",
       "    <tr>\n",
       "      <th>12</th>\n",
       "      <td>Last Notable Activity_SMS Sent</td>\n",
       "      <td>4.89</td>\n",
       "    </tr>\n",
       "    <tr>\n",
       "      <th>3</th>\n",
       "      <td>Lead Source_Olark Chat</td>\n",
       "      <td>1.78</td>\n",
       "    </tr>\n",
       "    <tr>\n",
       "      <th>9</th>\n",
       "      <td>Last Activity_Olark Chat Conversation</td>\n",
       "      <td>1.40</td>\n",
       "    </tr>\n",
       "    <tr>\n",
       "      <th>0</th>\n",
       "      <td>Total Time Spent on Website</td>\n",
       "      <td>1.29</td>\n",
       "    </tr>\n",
       "    <tr>\n",
       "      <th>7</th>\n",
       "      <td>Last Activity_Email Opened</td>\n",
       "      <td>1.16</td>\n",
       "    </tr>\n",
       "    <tr>\n",
       "      <th>2</th>\n",
       "      <td>Lead Origin_Lead Import</td>\n",
       "      <td>1.01</td>\n",
       "    </tr>\n",
       "    <tr>\n",
       "      <th>6</th>\n",
       "      <td>Last Activity_Email Bounced</td>\n",
       "      <td>1.01</td>\n",
       "    </tr>\n",
       "    <tr>\n",
       "      <th>8</th>\n",
       "      <td>Last Activity_Had a Phone Conversation</td>\n",
       "      <td>1.00</td>\n",
       "    </tr>\n",
       "    <tr>\n",
       "      <th>11</th>\n",
       "      <td>Last Activity_other_LastActivity</td>\n",
       "      <td>1.00</td>\n",
       "    </tr>\n",
       "    <tr>\n",
       "      <th>13</th>\n",
       "      <td>Last Notable Activity_Unreachable</td>\n",
       "      <td>1.00</td>\n",
       "    </tr>\n",
       "  </tbody>\n",
       "</table>\n",
       "</div>"
      ],
      "text/plain": [
       "                                  Features    VIF\n",
       "1                Lead Origin_Lead Add Form  57.07\n",
       "4                    Lead Source_Reference  44.73\n",
       "5             Lead Source_Welingak Website  13.41\n",
       "10                  Last Activity_SMS Sent   4.98\n",
       "12          Last Notable Activity_SMS Sent   4.89\n",
       "3                   Lead Source_Olark Chat   1.78\n",
       "9    Last Activity_Olark Chat Conversation   1.40\n",
       "0              Total Time Spent on Website   1.29\n",
       "7               Last Activity_Email Opened   1.16\n",
       "2                  Lead Origin_Lead Import   1.01\n",
       "6              Last Activity_Email Bounced   1.01\n",
       "8   Last Activity_Had a Phone Conversation   1.00\n",
       "11        Last Activity_other_LastActivity   1.00\n",
       "13       Last Notable Activity_Unreachable   1.00"
      ]
     },
     "execution_count": 111,
     "metadata": {},
     "output_type": "execute_result"
    }
   ],
   "source": [
    "#checking VIF calling above function\n",
    "vif_cal(X_train_rfe)"
   ]
  },
  {
   "cell_type": "markdown",
   "id": "714bafa1",
   "metadata": {},
   "source": [
    "Dropping column \"Lead Origin_Lead Add Form\" due to high vif"
   ]
  },
  {
   "cell_type": "code",
   "execution_count": 112,
   "id": "31988012",
   "metadata": {},
   "outputs": [],
   "source": [
    "#Dropping the Lead Origin_Lead Add Form due to high VIF\n",
    "X_train_rfe=X_train_rfe.drop('Lead Origin_Lead Add Form',axis=1)"
   ]
  },
  {
   "cell_type": "code",
   "execution_count": 113,
   "id": "22d497dd",
   "metadata": {},
   "outputs": [
    {
     "data": {
      "text/html": [
       "<table class=\"simpletable\">\n",
       "<caption>Generalized Linear Model Regression Results</caption>\n",
       "<tr>\n",
       "  <th>Dep. Variable:</th>       <td>Converted</td>    <th>  No. Observations:  </th>  <td>  7249</td> \n",
       "</tr>\n",
       "<tr>\n",
       "  <th>Model:</th>                  <td>GLM</td>       <th>  Df Residuals:      </th>  <td>  7235</td> \n",
       "</tr>\n",
       "<tr>\n",
       "  <th>Model Family:</th>        <td>Binomial</td>     <th>  Df Model:          </th>  <td>    13</td> \n",
       "</tr>\n",
       "<tr>\n",
       "  <th>Link Function:</th>         <td>logit</td>      <th>  Scale:             </th> <td>  1.0000</td>\n",
       "</tr>\n",
       "<tr>\n",
       "  <th>Method:</th>                <td>IRLS</td>       <th>  Log-Likelihood:    </th> <td> -3235.5</td>\n",
       "</tr>\n",
       "<tr>\n",
       "  <th>Date:</th>            <td>Tue, 15 Nov 2022</td> <th>  Deviance:          </th> <td>  6471.0</td>\n",
       "</tr>\n",
       "<tr>\n",
       "  <th>Time:</th>                <td>14:53:39</td>     <th>  Pearson chi2:      </th> <td>7.48e+03</td>\n",
       "</tr>\n",
       "<tr>\n",
       "  <th>No. Iterations:</th>          <td>7</td>        <th>                     </th>     <td> </td>   \n",
       "</tr>\n",
       "<tr>\n",
       "  <th>Covariance Type:</th>     <td>nonrobust</td>    <th>                     </th>     <td> </td>   \n",
       "</tr>\n",
       "</table>\n",
       "<table class=\"simpletable\">\n",
       "<tr>\n",
       "                     <td></td>                       <th>coef</th>     <th>std err</th>      <th>z</th>      <th>P>|z|</th>  <th>[0.025</th>    <th>0.975]</th>  \n",
       "</tr>\n",
       "<tr>\n",
       "  <th>const</th>                                  <td>   -1.9034</td> <td>    0.086</td> <td>  -22.140</td> <td> 0.000</td> <td>   -2.072</td> <td>   -1.735</td>\n",
       "</tr>\n",
       "<tr>\n",
       "  <th>Total Time Spent on Website</th>            <td>    1.1588</td> <td>    0.037</td> <td>   31.691</td> <td> 0.000</td> <td>    1.087</td> <td>    1.230</td>\n",
       "</tr>\n",
       "<tr>\n",
       "  <th>Lead Origin_Lead Import</th>                <td>    1.4052</td> <td>    0.442</td> <td>    3.176</td> <td> 0.001</td> <td>    0.538</td> <td>    2.272</td>\n",
       "</tr>\n",
       "<tr>\n",
       "  <th>Lead Source_Olark Chat</th>                 <td>    1.2315</td> <td>    0.093</td> <td>   13.284</td> <td> 0.000</td> <td>    1.050</td> <td>    1.413</td>\n",
       "</tr>\n",
       "<tr>\n",
       "  <th>Lead Source_Reference</th>                  <td>    4.2006</td> <td>    0.210</td> <td>   19.961</td> <td> 0.000</td> <td>    3.788</td> <td>    4.613</td>\n",
       "</tr>\n",
       "<tr>\n",
       "  <th>Lead Source_Welingak Website</th>           <td>    6.4339</td> <td>    1.016</td> <td>    6.334</td> <td> 0.000</td> <td>    4.443</td> <td>    8.425</td>\n",
       "</tr>\n",
       "<tr>\n",
       "  <th>Last Activity_Email Bounced</th>            <td>   -1.3753</td> <td>    0.309</td> <td>   -4.456</td> <td> 0.000</td> <td>   -1.980</td> <td>   -0.770</td>\n",
       "</tr>\n",
       "<tr>\n",
       "  <th>Last Activity_Email Opened</th>             <td>    0.7503</td> <td>    0.095</td> <td>    7.864</td> <td> 0.000</td> <td>    0.563</td> <td>    0.937</td>\n",
       "</tr>\n",
       "<tr>\n",
       "  <th>Last Activity_Had a Phone Conversation</th> <td>    2.6804</td> <td>    0.632</td> <td>    4.240</td> <td> 0.000</td> <td>    1.441</td> <td>    3.919</td>\n",
       "</tr>\n",
       "<tr>\n",
       "  <th>Last Activity_Olark Chat Conversation</th>  <td>   -0.8738</td> <td>    0.164</td> <td>   -5.314</td> <td> 0.000</td> <td>   -1.196</td> <td>   -0.552</td>\n",
       "</tr>\n",
       "<tr>\n",
       "  <th>Last Activity_SMS Sent</th>                 <td>    0.8082</td> <td>    0.144</td> <td>    5.606</td> <td> 0.000</td> <td>    0.526</td> <td>    1.091</td>\n",
       "</tr>\n",
       "<tr>\n",
       "  <th>Last Activity_other_LastActivity</th>       <td>    2.1596</td> <td>    0.647</td> <td>    3.338</td> <td> 0.001</td> <td>    0.892</td> <td>    3.427</td>\n",
       "</tr>\n",
       "<tr>\n",
       "  <th>Last Notable Activity_SMS Sent</th>         <td>    1.3266</td> <td>    0.132</td> <td>   10.029</td> <td> 0.000</td> <td>    1.067</td> <td>    1.586</td>\n",
       "</tr>\n",
       "<tr>\n",
       "  <th>Last Notable Activity_Unreachable</th>      <td>    2.5476</td> <td>    0.450</td> <td>    5.664</td> <td> 0.000</td> <td>    1.666</td> <td>    3.429</td>\n",
       "</tr>\n",
       "</table>"
      ],
      "text/plain": [
       "<class 'statsmodels.iolib.summary.Summary'>\n",
       "\"\"\"\n",
       "                 Generalized Linear Model Regression Results                  \n",
       "==============================================================================\n",
       "Dep. Variable:              Converted   No. Observations:                 7249\n",
       "Model:                            GLM   Df Residuals:                     7235\n",
       "Model Family:                Binomial   Df Model:                           13\n",
       "Link Function:                  logit   Scale:                          1.0000\n",
       "Method:                          IRLS   Log-Likelihood:                -3235.5\n",
       "Date:                Tue, 15 Nov 2022   Deviance:                       6471.0\n",
       "Time:                        14:53:39   Pearson chi2:                 7.48e+03\n",
       "No. Iterations:                     7                                         \n",
       "Covariance Type:            nonrobust                                         \n",
       "==========================================================================================================\n",
       "                                             coef    std err          z      P>|z|      [0.025      0.975]\n",
       "----------------------------------------------------------------------------------------------------------\n",
       "const                                     -1.9034      0.086    -22.140      0.000      -2.072      -1.735\n",
       "Total Time Spent on Website                1.1588      0.037     31.691      0.000       1.087       1.230\n",
       "Lead Origin_Lead Import                    1.4052      0.442      3.176      0.001       0.538       2.272\n",
       "Lead Source_Olark Chat                     1.2315      0.093     13.284      0.000       1.050       1.413\n",
       "Lead Source_Reference                      4.2006      0.210     19.961      0.000       3.788       4.613\n",
       "Lead Source_Welingak Website               6.4339      1.016      6.334      0.000       4.443       8.425\n",
       "Last Activity_Email Bounced               -1.3753      0.309     -4.456      0.000      -1.980      -0.770\n",
       "Last Activity_Email Opened                 0.7503      0.095      7.864      0.000       0.563       0.937\n",
       "Last Activity_Had a Phone Conversation     2.6804      0.632      4.240      0.000       1.441       3.919\n",
       "Last Activity_Olark Chat Conversation     -0.8738      0.164     -5.314      0.000      -1.196      -0.552\n",
       "Last Activity_SMS Sent                     0.8082      0.144      5.606      0.000       0.526       1.091\n",
       "Last Activity_other_LastActivity           2.1596      0.647      3.338      0.001       0.892       3.427\n",
       "Last Notable Activity_SMS Sent             1.3266      0.132     10.029      0.000       1.067       1.586\n",
       "Last Notable Activity_Unreachable          2.5476      0.450      5.664      0.000       1.666       3.429\n",
       "==========================================================================================================\n",
       "\"\"\""
      ]
     },
     "execution_count": 113,
     "metadata": {},
     "output_type": "execute_result"
    }
   ],
   "source": [
    "#Applying stats model after dropping above column and checking summary\n",
    "X_train_4 = sm.add_constant(X_train_rfe)\n",
    "logm4 = sm.GLM(y_train,X_train_4, family = sm.families.Binomial())\n",
    "res = logm4.fit()\n",
    "res.summary()"
   ]
  },
  {
   "cell_type": "code",
   "execution_count": 114,
   "id": "67426bdc",
   "metadata": {},
   "outputs": [
    {
     "data": {
      "text/html": [
       "<div>\n",
       "<style scoped>\n",
       "    .dataframe tbody tr th:only-of-type {\n",
       "        vertical-align: middle;\n",
       "    }\n",
       "\n",
       "    .dataframe tbody tr th {\n",
       "        vertical-align: top;\n",
       "    }\n",
       "\n",
       "    .dataframe thead th {\n",
       "        text-align: right;\n",
       "    }\n",
       "</style>\n",
       "<table border=\"1\" class=\"dataframe\">\n",
       "  <thead>\n",
       "    <tr style=\"text-align: right;\">\n",
       "      <th></th>\n",
       "      <th>Features</th>\n",
       "      <th>VIF</th>\n",
       "    </tr>\n",
       "  </thead>\n",
       "  <tbody>\n",
       "    <tr>\n",
       "      <th>9</th>\n",
       "      <td>Last Activity_SMS Sent</td>\n",
       "      <td>4.98</td>\n",
       "    </tr>\n",
       "    <tr>\n",
       "      <th>11</th>\n",
       "      <td>Last Notable Activity_SMS Sent</td>\n",
       "      <td>4.89</td>\n",
       "    </tr>\n",
       "    <tr>\n",
       "      <th>2</th>\n",
       "      <td>Lead Source_Olark Chat</td>\n",
       "      <td>1.78</td>\n",
       "    </tr>\n",
       "    <tr>\n",
       "      <th>8</th>\n",
       "      <td>Last Activity_Olark Chat Conversation</td>\n",
       "      <td>1.40</td>\n",
       "    </tr>\n",
       "    <tr>\n",
       "      <th>0</th>\n",
       "      <td>Total Time Spent on Website</td>\n",
       "      <td>1.29</td>\n",
       "    </tr>\n",
       "    <tr>\n",
       "      <th>6</th>\n",
       "      <td>Last Activity_Email Opened</td>\n",
       "      <td>1.16</td>\n",
       "    </tr>\n",
       "    <tr>\n",
       "      <th>3</th>\n",
       "      <td>Lead Source_Reference</td>\n",
       "      <td>1.15</td>\n",
       "    </tr>\n",
       "    <tr>\n",
       "      <th>4</th>\n",
       "      <td>Lead Source_Welingak Website</td>\n",
       "      <td>1.05</td>\n",
       "    </tr>\n",
       "    <tr>\n",
       "      <th>1</th>\n",
       "      <td>Lead Origin_Lead Import</td>\n",
       "      <td>1.01</td>\n",
       "    </tr>\n",
       "    <tr>\n",
       "      <th>5</th>\n",
       "      <td>Last Activity_Email Bounced</td>\n",
       "      <td>1.01</td>\n",
       "    </tr>\n",
       "    <tr>\n",
       "      <th>7</th>\n",
       "      <td>Last Activity_Had a Phone Conversation</td>\n",
       "      <td>1.00</td>\n",
       "    </tr>\n",
       "    <tr>\n",
       "      <th>10</th>\n",
       "      <td>Last Activity_other_LastActivity</td>\n",
       "      <td>1.00</td>\n",
       "    </tr>\n",
       "    <tr>\n",
       "      <th>12</th>\n",
       "      <td>Last Notable Activity_Unreachable</td>\n",
       "      <td>1.00</td>\n",
       "    </tr>\n",
       "  </tbody>\n",
       "</table>\n",
       "</div>"
      ],
      "text/plain": [
       "                                  Features   VIF\n",
       "9                   Last Activity_SMS Sent  4.98\n",
       "11          Last Notable Activity_SMS Sent  4.89\n",
       "2                   Lead Source_Olark Chat  1.78\n",
       "8    Last Activity_Olark Chat Conversation  1.40\n",
       "0              Total Time Spent on Website  1.29\n",
       "6               Last Activity_Email Opened  1.16\n",
       "3                    Lead Source_Reference  1.15\n",
       "4             Lead Source_Welingak Website  1.05\n",
       "1                  Lead Origin_Lead Import  1.01\n",
       "5              Last Activity_Email Bounced  1.01\n",
       "7   Last Activity_Had a Phone Conversation  1.00\n",
       "10        Last Activity_other_LastActivity  1.00\n",
       "12       Last Notable Activity_Unreachable  1.00"
      ]
     },
     "execution_count": 114,
     "metadata": {},
     "output_type": "execute_result"
    }
   ],
   "source": [
    "vif_cal(X_train_rfe)"
   ]
  },
  {
   "cell_type": "markdown",
   "id": "b24c4cde",
   "metadata": {},
   "source": [
    "Now our model looks good as P value are close to 0 and VIF is less the 5 so we will keep this model as final model"
   ]
  },
  {
   "cell_type": "code",
   "execution_count": 115,
   "id": "d9c496df",
   "metadata": {},
   "outputs": [],
   "source": [
    "#Predicting value of the train dataset\n",
    "y_train_pred = res.predict(X_train_4).values"
   ]
  },
  {
   "cell_type": "code",
   "execution_count": 116,
   "id": "a428db8c",
   "metadata": {},
   "outputs": [
    {
     "data": {
      "text/plain": [
       "array([0.20842825, 0.86216292, 0.27910253, ..., 0.11923276, 0.18590579,\n",
       "       0.46633429])"
      ]
     },
     "execution_count": 116,
     "metadata": {},
     "output_type": "execute_result"
    }
   ],
   "source": [
    "#predicted valie of the train dataset\n",
    "y_train_pred"
   ]
  },
  {
   "cell_type": "code",
   "execution_count": 117,
   "id": "292e9711",
   "metadata": {},
   "outputs": [],
   "source": [
    "#reshaping in 2d array\n",
    "y_train_pred=y_train_pred.reshape(-1)"
   ]
  },
  {
   "cell_type": "code",
   "execution_count": 118,
   "id": "8b7fe5aa",
   "metadata": {},
   "outputs": [
    {
     "data": {
      "text/plain": [
       "array([0.20842825, 0.86216292, 0.27910253, 0.07895269, 0.032016  ,\n",
       "       0.48046071, 0.25807814, 0.01554019, 0.50754022, 0.81973346])"
      ]
     },
     "execution_count": 118,
     "metadata": {},
     "output_type": "execute_result"
    }
   ],
   "source": [
    "#checking value\n",
    "y_train_pred[:10]"
   ]
  },
  {
   "cell_type": "markdown",
   "id": "5188b967",
   "metadata": {},
   "source": [
    "Creating a dataframe with the actual converted and the predicted probabilities"
   ]
  },
  {
   "cell_type": "code",
   "execution_count": 119,
   "id": "730cd25f",
   "metadata": {},
   "outputs": [
    {
     "data": {
      "text/html": [
       "<div>\n",
       "<style scoped>\n",
       "    .dataframe tbody tr th:only-of-type {\n",
       "        vertical-align: middle;\n",
       "    }\n",
       "\n",
       "    .dataframe tbody tr th {\n",
       "        vertical-align: top;\n",
       "    }\n",
       "\n",
       "    .dataframe thead th {\n",
       "        text-align: right;\n",
       "    }\n",
       "</style>\n",
       "<table border=\"1\" class=\"dataframe\">\n",
       "  <thead>\n",
       "    <tr style=\"text-align: right;\">\n",
       "      <th></th>\n",
       "      <th>Converted</th>\n",
       "      <th>Conv_Prob</th>\n",
       "      <th>Conv_ID</th>\n",
       "    </tr>\n",
       "  </thead>\n",
       "  <tbody>\n",
       "    <tr>\n",
       "      <th>0</th>\n",
       "      <td>0</td>\n",
       "      <td>0.208428</td>\n",
       "      <td>433</td>\n",
       "    </tr>\n",
       "    <tr>\n",
       "      <th>1</th>\n",
       "      <td>1</td>\n",
       "      <td>0.862163</td>\n",
       "      <td>3132</td>\n",
       "    </tr>\n",
       "    <tr>\n",
       "      <th>2</th>\n",
       "      <td>1</td>\n",
       "      <td>0.279103</td>\n",
       "      <td>8475</td>\n",
       "    </tr>\n",
       "    <tr>\n",
       "      <th>3</th>\n",
       "      <td>0</td>\n",
       "      <td>0.078953</td>\n",
       "      <td>6068</td>\n",
       "    </tr>\n",
       "    <tr>\n",
       "      <th>4</th>\n",
       "      <td>0</td>\n",
       "      <td>0.032016</td>\n",
       "      <td>7581</td>\n",
       "    </tr>\n",
       "  </tbody>\n",
       "</table>\n",
       "</div>"
      ],
      "text/plain": [
       "   Converted  Conv_Prob  Conv_ID\n",
       "0          0   0.208428      433\n",
       "1          1   0.862163     3132\n",
       "2          1   0.279103     8475\n",
       "3          0   0.078953     6068\n",
       "4          0   0.032016     7581"
      ]
     },
     "execution_count": 119,
     "metadata": {},
     "output_type": "execute_result"
    }
   ],
   "source": [
    "# Creating the dataframe with actual converted value and predicted value \n",
    "y_train_pred_final = pd.DataFrame({'Converted':y_train.values, 'Conv_Prob':y_train_pred})\n",
    "y_train_pred_final['Conv_ID'] = y_train.index\n",
    "y_train_pred_final.head()"
   ]
  },
  {
   "cell_type": "markdown",
   "id": "43ba1260",
   "metadata": {},
   "source": [
    "# 8. Evaluation of the Final model"
   ]
  },
  {
   "cell_type": "code",
   "execution_count": 120,
   "id": "16ac56ef",
   "metadata": {},
   "outputs": [],
   "source": [
    "#Mapping the predicted value with the default value 0.5, Means greater than 0.5 as 1 and less than 0.5 as 0\n",
    "y_train_pred_final['Predicted'] = y_train_pred_final.Conv_Prob.map(lambda x: 1 if x > 0.5 else 0)"
   ]
  },
  {
   "cell_type": "code",
   "execution_count": 121,
   "id": "90169fdf",
   "metadata": {},
   "outputs": [
    {
     "data": {
      "text/html": [
       "<div>\n",
       "<style scoped>\n",
       "    .dataframe tbody tr th:only-of-type {\n",
       "        vertical-align: middle;\n",
       "    }\n",
       "\n",
       "    .dataframe tbody tr th {\n",
       "        vertical-align: top;\n",
       "    }\n",
       "\n",
       "    .dataframe thead th {\n",
       "        text-align: right;\n",
       "    }\n",
       "</style>\n",
       "<table border=\"1\" class=\"dataframe\">\n",
       "  <thead>\n",
       "    <tr style=\"text-align: right;\">\n",
       "      <th></th>\n",
       "      <th>Converted</th>\n",
       "      <th>Conv_Prob</th>\n",
       "      <th>Conv_ID</th>\n",
       "      <th>Predicted</th>\n",
       "    </tr>\n",
       "  </thead>\n",
       "  <tbody>\n",
       "    <tr>\n",
       "      <th>0</th>\n",
       "      <td>0</td>\n",
       "      <td>0.208428</td>\n",
       "      <td>433</td>\n",
       "      <td>0</td>\n",
       "    </tr>\n",
       "    <tr>\n",
       "      <th>1</th>\n",
       "      <td>1</td>\n",
       "      <td>0.862163</td>\n",
       "      <td>3132</td>\n",
       "      <td>1</td>\n",
       "    </tr>\n",
       "    <tr>\n",
       "      <th>2</th>\n",
       "      <td>1</td>\n",
       "      <td>0.279103</td>\n",
       "      <td>8475</td>\n",
       "      <td>0</td>\n",
       "    </tr>\n",
       "    <tr>\n",
       "      <th>3</th>\n",
       "      <td>0</td>\n",
       "      <td>0.078953</td>\n",
       "      <td>6068</td>\n",
       "      <td>0</td>\n",
       "    </tr>\n",
       "    <tr>\n",
       "      <th>4</th>\n",
       "      <td>0</td>\n",
       "      <td>0.032016</td>\n",
       "      <td>7581</td>\n",
       "      <td>0</td>\n",
       "    </tr>\n",
       "    <tr>\n",
       "      <th>...</th>\n",
       "      <td>...</td>\n",
       "      <td>...</td>\n",
       "      <td>...</td>\n",
       "      <td>...</td>\n",
       "    </tr>\n",
       "    <tr>\n",
       "      <th>7244</th>\n",
       "      <td>0</td>\n",
       "      <td>0.146849</td>\n",
       "      <td>5859</td>\n",
       "      <td>0</td>\n",
       "    </tr>\n",
       "    <tr>\n",
       "      <th>7245</th>\n",
       "      <td>0</td>\n",
       "      <td>0.831957</td>\n",
       "      <td>5306</td>\n",
       "      <td>1</td>\n",
       "    </tr>\n",
       "    <tr>\n",
       "      <th>7246</th>\n",
       "      <td>0</td>\n",
       "      <td>0.119233</td>\n",
       "      <td>5507</td>\n",
       "      <td>0</td>\n",
       "    </tr>\n",
       "    <tr>\n",
       "      <th>7247</th>\n",
       "      <td>0</td>\n",
       "      <td>0.185906</td>\n",
       "      <td>897</td>\n",
       "      <td>0</td>\n",
       "    </tr>\n",
       "    <tr>\n",
       "      <th>7248</th>\n",
       "      <td>1</td>\n",
       "      <td>0.466334</td>\n",
       "      <td>7424</td>\n",
       "      <td>0</td>\n",
       "    </tr>\n",
       "  </tbody>\n",
       "</table>\n",
       "<p>7249 rows × 4 columns</p>\n",
       "</div>"
      ],
      "text/plain": [
       "      Converted  Conv_Prob  Conv_ID  Predicted\n",
       "0             0   0.208428      433          0\n",
       "1             1   0.862163     3132          1\n",
       "2             1   0.279103     8475          0\n",
       "3             0   0.078953     6068          0\n",
       "4             0   0.032016     7581          0\n",
       "...         ...        ...      ...        ...\n",
       "7244          0   0.146849     5859          0\n",
       "7245          0   0.831957     5306          1\n",
       "7246          0   0.119233     5507          0\n",
       "7247          0   0.185906      897          0\n",
       "7248          1   0.466334     7424          0\n",
       "\n",
       "[7249 rows x 4 columns]"
      ]
     },
     "execution_count": 121,
     "metadata": {},
     "output_type": "execute_result"
    }
   ],
   "source": [
    "\n",
    "y_train_pred_final"
   ]
  },
  {
   "cell_type": "code",
   "execution_count": 122,
   "id": "82221b3d",
   "metadata": {},
   "outputs": [
    {
     "name": "stdout",
     "output_type": "stream",
     "text": [
      "[[3938  564]\n",
      " [ 927 1820]]\n"
     ]
    }
   ],
   "source": [
    "# Confusion matrix \n",
    "confusion = metrics.confusion_matrix(y_train_pred_final.Converted, y_train_pred_final.Predicted )\n",
    "print(confusion)"
   ]
  },
  {
   "cell_type": "code",
   "execution_count": 123,
   "id": "f7ad70d4",
   "metadata": {},
   "outputs": [
    {
     "name": "stdout",
     "output_type": "stream",
     "text": [
      "0.7943164574424059\n"
     ]
    }
   ],
   "source": [
    "# Checking Overall accuracy.\n",
    "print(metrics.accuracy_score(y_train_pred_final.Converted, y_train_pred_final.Predicted))"
   ]
  },
  {
   "cell_type": "markdown",
   "id": "d1dac9d8",
   "metadata": {},
   "source": [
    "# 9. Checking Other accuracies that are beyond the simple accuracy"
   ]
  },
  {
   "cell_type": "code",
   "execution_count": 124,
   "id": "bd7faa1d",
   "metadata": {},
   "outputs": [],
   "source": [
    "TP = confusion[1,1] # true positive \n",
    "TN = confusion[0,0] # true negatives\n",
    "FP = confusion[0,1] # false positives\n",
    "FN = confusion[1,0] # false negatives"
   ]
  },
  {
   "cell_type": "code",
   "execution_count": 125,
   "id": "7509dfc8",
   "metadata": {},
   "outputs": [
    {
     "data": {
      "text/plain": [
       "0.6625409537677467"
      ]
     },
     "execution_count": 125,
     "metadata": {},
     "output_type": "execute_result"
    }
   ],
   "source": [
    "# Sensitivity of model train dataset\n",
    "TP / float(TP+FN)"
   ]
  },
  {
   "cell_type": "code",
   "execution_count": 126,
   "id": "4af3fee2",
   "metadata": {},
   "outputs": [
    {
     "data": {
      "text/plain": [
       "0.8747223456241671"
      ]
     },
     "execution_count": 126,
     "metadata": {},
     "output_type": "execute_result"
    }
   ],
   "source": [
    "# Specificity of model train dataset\n",
    "TN / float(TN+FP)"
   ]
  },
  {
   "cell_type": "code",
   "execution_count": 127,
   "id": "c81793a9",
   "metadata": {},
   "outputs": [
    {
     "name": "stdout",
     "output_type": "stream",
     "text": [
      "0.12527765437583296\n"
     ]
    }
   ],
   "source": [
    "# False positive rate - of model train dataset\n",
    "print(FP/ float(TN+FP))"
   ]
  },
  {
   "cell_type": "code",
   "execution_count": 128,
   "id": "43c94f99",
   "metadata": {},
   "outputs": [
    {
     "name": "stdout",
     "output_type": "stream",
     "text": [
      "0.7634228187919463\n"
     ]
    }
   ],
   "source": [
    "# positive predictive value \n",
    "print (TP / float(TP+FP))"
   ]
  },
  {
   "cell_type": "code",
   "execution_count": 129,
   "id": "2efa8f6d",
   "metadata": {},
   "outputs": [
    {
     "name": "stdout",
     "output_type": "stream",
     "text": [
      "0.8094552929085304\n"
     ]
    }
   ],
   "source": [
    "# Negative predictive value\n",
    "print (TN / float(TN+ FN))"
   ]
  },
  {
   "cell_type": "markdown",
   "id": "71b435f2",
   "metadata": {},
   "source": [
    "# 10. Plotting the ROC Curve"
   ]
  },
  {
   "cell_type": "code",
   "execution_count": 130,
   "id": "e20ce492",
   "metadata": {},
   "outputs": [],
   "source": [
    "#Creating function for plotting ROC curve\n",
    "def draw_roc( actual, probs ):\n",
    "    fpr, tpr, thresholds = metrics.roc_curve( actual, probs,\n",
    "                                              drop_intermediate = False )\n",
    "    auc_score = metrics.roc_auc_score( actual, probs )\n",
    "    plt.figure(figsize=(5, 5))\n",
    "    plt.plot( fpr, tpr, label='ROC curve (area = %0.2f)' % auc_score )\n",
    "    plt.plot([0, 1], [0, 1], 'k--')\n",
    "    plt.xlim([0.0, 1.0])\n",
    "    plt.ylim([0.0, 1.05])\n",
    "    plt.xlabel('False Positive Rate or [1 - True Negative Rate]')\n",
    "    plt.ylabel('True Positive Rate')\n",
    "    plt.title('Receiver operating characteristic example')\n",
    "    plt.legend(loc=\"lower right\")\n",
    "    plt.show()\n",
    "\n",
    "    return None"
   ]
  },
  {
   "cell_type": "code",
   "execution_count": 131,
   "id": "5d37b3b7",
   "metadata": {},
   "outputs": [
    {
     "data": {
      "image/png": "[encoded data removed]",
      "text/plain": [
       "<Figure size 360x360 with 1 Axes>"
      ]
     },
     "metadata": {
      "needs_background": "light"
     },
     "output_type": "display_data"
    }
   ],
   "source": [
    "#Plotting the ROC curve calling above function\n",
    "draw_roc(y_train_pred_final.Converted, y_train_pred_final.Conv_Prob)"
   ]
  },
  {
   "cell_type": "markdown",
   "id": "05cefe6e",
   "metadata": {},
   "source": [
    "# 11. Finding the Optimal Cutoff"
   ]
  },
  {
   "cell_type": "code",
   "execution_count": 132,
   "id": "1a95d7de",
   "metadata": {},
   "outputs": [
    {
     "data": {
      "text/html": [
       "<div>\n",
       "<style scoped>\n",
       "    .dataframe tbody tr th:only-of-type {\n",
       "        vertical-align: middle;\n",
       "    }\n",
       "\n",
       "    .dataframe tbody tr th {\n",
       "        vertical-align: top;\n",
       "    }\n",
       "\n",
       "    .dataframe thead th {\n",
       "        text-align: right;\n",
       "    }\n",
       "</style>\n",
       "<table border=\"1\" class=\"dataframe\">\n",
       "  <thead>\n",
       "    <tr style=\"text-align: right;\">\n",
       "      <th></th>\n",
       "      <th>Converted</th>\n",
       "      <th>Conv_Prob</th>\n",
       "      <th>Conv_ID</th>\n",
       "      <th>Predicted</th>\n",
       "      <th>0.0</th>\n",
       "      <th>0.1</th>\n",
       "      <th>0.2</th>\n",
       "      <th>0.3</th>\n",
       "      <th>0.4</th>\n",
       "      <th>0.5</th>\n",
       "      <th>0.6</th>\n",
       "      <th>0.7</th>\n",
       "      <th>0.8</th>\n",
       "      <th>0.9</th>\n",
       "    </tr>\n",
       "  </thead>\n",
       "  <tbody>\n",
       "    <tr>\n",
       "      <th>0</th>\n",
       "      <td>0</td>\n",
       "      <td>0.208428</td>\n",
       "      <td>433</td>\n",
       "      <td>0</td>\n",
       "      <td>1</td>\n",
       "      <td>1</td>\n",
       "      <td>1</td>\n",
       "      <td>0</td>\n",
       "      <td>0</td>\n",
       "      <td>0</td>\n",
       "      <td>0</td>\n",
       "      <td>0</td>\n",
       "      <td>0</td>\n",
       "      <td>0</td>\n",
       "    </tr>\n",
       "    <tr>\n",
       "      <th>1</th>\n",
       "      <td>1</td>\n",
       "      <td>0.862163</td>\n",
       "      <td>3132</td>\n",
       "      <td>1</td>\n",
       "      <td>1</td>\n",
       "      <td>1</td>\n",
       "      <td>1</td>\n",
       "      <td>1</td>\n",
       "      <td>1</td>\n",
       "      <td>1</td>\n",
       "      <td>1</td>\n",
       "      <td>1</td>\n",
       "      <td>1</td>\n",
       "      <td>0</td>\n",
       "    </tr>\n",
       "    <tr>\n",
       "      <th>2</th>\n",
       "      <td>1</td>\n",
       "      <td>0.279103</td>\n",
       "      <td>8475</td>\n",
       "      <td>0</td>\n",
       "      <td>1</td>\n",
       "      <td>1</td>\n",
       "      <td>1</td>\n",
       "      <td>0</td>\n",
       "      <td>0</td>\n",
       "      <td>0</td>\n",
       "      <td>0</td>\n",
       "      <td>0</td>\n",
       "      <td>0</td>\n",
       "      <td>0</td>\n",
       "    </tr>\n",
       "    <tr>\n",
       "      <th>3</th>\n",
       "      <td>0</td>\n",
       "      <td>0.078953</td>\n",
       "      <td>6068</td>\n",
       "      <td>0</td>\n",
       "      <td>1</td>\n",
       "      <td>0</td>\n",
       "      <td>0</td>\n",
       "      <td>0</td>\n",
       "      <td>0</td>\n",
       "      <td>0</td>\n",
       "      <td>0</td>\n",
       "      <td>0</td>\n",
       "      <td>0</td>\n",
       "      <td>0</td>\n",
       "    </tr>\n",
       "    <tr>\n",
       "      <th>4</th>\n",
       "      <td>0</td>\n",
       "      <td>0.032016</td>\n",
       "      <td>7581</td>\n",
       "      <td>0</td>\n",
       "      <td>1</td>\n",
       "      <td>0</td>\n",
       "      <td>0</td>\n",
       "      <td>0</td>\n",
       "      <td>0</td>\n",
       "      <td>0</td>\n",
       "      <td>0</td>\n",
       "      <td>0</td>\n",
       "      <td>0</td>\n",
       "      <td>0</td>\n",
       "    </tr>\n",
       "  </tbody>\n",
       "</table>\n",
       "</div>"
      ],
      "text/plain": [
       "   Converted  Conv_Prob  Conv_ID  Predicted  0.0  0.1  0.2  0.3  0.4  0.5  \\\n",
       "0          0   0.208428      433          0    1    1    1    0    0    0   \n",
       "1          1   0.862163     3132          1    1    1    1    1    1    1   \n",
       "2          1   0.279103     8475          0    1    1    1    0    0    0   \n",
       "3          0   0.078953     6068          0    1    0    0    0    0    0   \n",
       "4          0   0.032016     7581          0    1    0    0    0    0    0   \n",
       "\n",
       "   0.6  0.7  0.8  0.9  \n",
       "0    0    0    0    0  \n",
       "1    1    1    1    0  \n",
       "2    0    0    0    0  \n",
       "3    0    0    0    0  \n",
       "4    0    0    0    0  "
      ]
     },
     "execution_count": 132,
     "metadata": {},
     "output_type": "execute_result"
    }
   ],
   "source": [
    "# Creating columns with different probability cutoffs \n",
    "numbers = [float(x)/10 for x in range(10)]\n",
    "for i in numbers:\n",
    "    y_train_pred_final[i]= y_train_pred_final.Conv_Prob.map(lambda x: 1 if x > i else 0)\n",
    "y_train_pred_final.head()"
   ]
  },
  {
   "cell_type": "code",
   "execution_count": 133,
   "id": "fbbde888",
   "metadata": {},
   "outputs": [
    {
     "name": "stdout",
     "output_type": "stream",
     "text": [
      "     prob  accuracy     sensi     speci\n",
      "0.0   0.0  0.378949  1.000000  0.000000\n",
      "0.1   0.1  0.568078  0.973426  0.320746\n",
      "0.2   0.2  0.729066  0.912996  0.616837\n",
      "0.3   0.3  0.782729  0.824536  0.757219\n",
      "0.4   0.4  0.796248  0.751365  0.823634\n",
      "0.5   0.5  0.794316  0.662541  0.874722\n",
      "0.6   0.6  0.788109  0.589734  0.909151\n",
      "0.7   0.7  0.757622  0.447397  0.946912\n",
      "0.8   0.8  0.731963  0.346560  0.967126\n",
      "0.9   0.9  0.679956  0.175464  0.987783\n"
     ]
    }
   ],
   "source": [
    "# Calculating accuracy sensitivity and specificity for various probability cutoffs.\n",
    "cutoff_df = pd.DataFrame( columns = ['prob','accuracy','sensi','speci'])\n",
    "from sklearn.metrics import confusion_matrix\n",
    "\n",
    "# TP = confusion[1,1] # true positive \n",
    "# TN = confusion[0,0] # true negatives\n",
    "# FP = confusion[0,1] # false positives\n",
    "# FN = confusion[1,0] # false negatives\n",
    "\n",
    "num = [0.0,0.1,0.2,0.3,0.4,0.5,0.6,0.7,0.8,0.9]\n",
    "for i in num:\n",
    "    cm1 = metrics.confusion_matrix(y_train_pred_final.Converted, y_train_pred_final[i] )\n",
    "    total1=sum(sum(cm1))\n",
    "    accuracy = (cm1[0,0]+cm1[1,1])/total1\n",
    "    \n",
    "    speci = cm1[0,0]/(cm1[0,0]+cm1[0,1])\n",
    "    sensi = cm1[1,1]/(cm1[1,0]+cm1[1,1])\n",
    "    cutoff_df.loc[i] =[ i ,accuracy,sensi,speci]\n",
    "print(cutoff_df)"
   ]
  },
  {
   "cell_type": "code",
   "execution_count": 134,
   "id": "c09d0333",
   "metadata": {},
   "outputs": [
    {
     "data": {
      "image/png": "[encoded data removed]",
      "text/plain": [
       "<Figure size 432x288 with 1 Axes>"
      ]
     },
     "metadata": {
      "needs_background": "light"
     },
     "output_type": "display_data"
    }
   ],
   "source": [
    "# Plotting accuracy sensitivity and specificity for various probabilities.\n",
    "cutoff_df.plot.line(x='prob', y=['accuracy','sensi','speci'])\n",
    "plt.show()"
   ]
  },
  {
   "cell_type": "code",
   "execution_count": 151,
   "id": "72675e1f",
   "metadata": {},
   "outputs": [
    {
     "data": {
      "text/html": [
       "<div>\n",
       "<style scoped>\n",
       "    .dataframe tbody tr th:only-of-type {\n",
       "        vertical-align: middle;\n",
       "    }\n",
       "\n",
       "    .dataframe tbody tr th {\n",
       "        vertical-align: top;\n",
       "    }\n",
       "\n",
       "    .dataframe thead th {\n",
       "        text-align: right;\n",
       "    }\n",
       "</style>\n",
       "<table border=\"1\" class=\"dataframe\">\n",
       "  <thead>\n",
       "    <tr style=\"text-align: right;\">\n",
       "      <th></th>\n",
       "      <th>Converted</th>\n",
       "      <th>Conv_Prob</th>\n",
       "      <th>Conv_ID</th>\n",
       "      <th>Predicted</th>\n",
       "      <th>0.0</th>\n",
       "      <th>0.1</th>\n",
       "      <th>0.2</th>\n",
       "      <th>0.3</th>\n",
       "      <th>0.4</th>\n",
       "      <th>0.5</th>\n",
       "      <th>0.6</th>\n",
       "      <th>0.7</th>\n",
       "      <th>0.8</th>\n",
       "      <th>0.9</th>\n",
       "      <th>final_predicted</th>\n",
       "    </tr>\n",
       "  </thead>\n",
       "  <tbody>\n",
       "    <tr>\n",
       "      <th>0</th>\n",
       "      <td>0</td>\n",
       "      <td>0.208428</td>\n",
       "      <td>433</td>\n",
       "      <td>0</td>\n",
       "      <td>1</td>\n",
       "      <td>1</td>\n",
       "      <td>1</td>\n",
       "      <td>0</td>\n",
       "      <td>0</td>\n",
       "      <td>0</td>\n",
       "      <td>0</td>\n",
       "      <td>0</td>\n",
       "      <td>0</td>\n",
       "      <td>0</td>\n",
       "      <td>0</td>\n",
       "    </tr>\n",
       "    <tr>\n",
       "      <th>1</th>\n",
       "      <td>1</td>\n",
       "      <td>0.862163</td>\n",
       "      <td>3132</td>\n",
       "      <td>1</td>\n",
       "      <td>1</td>\n",
       "      <td>1</td>\n",
       "      <td>1</td>\n",
       "      <td>1</td>\n",
       "      <td>1</td>\n",
       "      <td>1</td>\n",
       "      <td>1</td>\n",
       "      <td>1</td>\n",
       "      <td>1</td>\n",
       "      <td>0</td>\n",
       "      <td>1</td>\n",
       "    </tr>\n",
       "    <tr>\n",
       "      <th>2</th>\n",
       "      <td>1</td>\n",
       "      <td>0.279103</td>\n",
       "      <td>8475</td>\n",
       "      <td>0</td>\n",
       "      <td>1</td>\n",
       "      <td>1</td>\n",
       "      <td>1</td>\n",
       "      <td>0</td>\n",
       "      <td>0</td>\n",
       "      <td>0</td>\n",
       "      <td>0</td>\n",
       "      <td>0</td>\n",
       "      <td>0</td>\n",
       "      <td>0</td>\n",
       "      <td>0</td>\n",
       "    </tr>\n",
       "    <tr>\n",
       "      <th>3</th>\n",
       "      <td>0</td>\n",
       "      <td>0.078953</td>\n",
       "      <td>6068</td>\n",
       "      <td>0</td>\n",
       "      <td>1</td>\n",
       "      <td>0</td>\n",
       "      <td>0</td>\n",
       "      <td>0</td>\n",
       "      <td>0</td>\n",
       "      <td>0</td>\n",
       "      <td>0</td>\n",
       "      <td>0</td>\n",
       "      <td>0</td>\n",
       "      <td>0</td>\n",
       "      <td>0</td>\n",
       "    </tr>\n",
       "    <tr>\n",
       "      <th>4</th>\n",
       "      <td>0</td>\n",
       "      <td>0.032016</td>\n",
       "      <td>7581</td>\n",
       "      <td>0</td>\n",
       "      <td>1</td>\n",
       "      <td>0</td>\n",
       "      <td>0</td>\n",
       "      <td>0</td>\n",
       "      <td>0</td>\n",
       "      <td>0</td>\n",
       "      <td>0</td>\n",
       "      <td>0</td>\n",
       "      <td>0</td>\n",
       "      <td>0</td>\n",
       "      <td>0</td>\n",
       "    </tr>\n",
       "  </tbody>\n",
       "</table>\n",
       "</div>"
      ],
      "text/plain": [
       "   Converted  Conv_Prob  Conv_ID  Predicted  0.0  0.1  0.2  0.3  0.4  0.5  \\\n",
       "0          0   0.208428      433          0    1    1    1    0    0    0   \n",
       "1          1   0.862163     3132          1    1    1    1    1    1    1   \n",
       "2          1   0.279103     8475          0    1    1    1    0    0    0   \n",
       "3          0   0.078953     6068          0    1    0    0    0    0    0   \n",
       "4          0   0.032016     7581          0    1    0    0    0    0    0   \n",
       "\n",
       "   0.6  0.7  0.8  0.9  final_predicted  \n",
       "0    0    0    0    0                0  \n",
       "1    1    1    1    0                1  \n",
       "2    0    0    0    0                0  \n",
       "3    0    0    0    0                0  \n",
       "4    0    0    0    0                0  "
      ]
     },
     "execution_count": 151,
     "metadata": {},
     "output_type": "execute_result"
    }
   ],
   "source": [
    "#Mapping the predicted Prob as per the new cut off 0.35.\n",
    "y_train_pred_final['final_predicted'] = y_train_pred_final.Conv_Prob.map( lambda x: 1 if x > 0.35 else 0)\n",
    "\n",
    "y_train_pred_final.head()"
   ]
  },
  {
   "cell_type": "code",
   "execution_count": 152,
   "id": "e20338e7",
   "metadata": {},
   "outputs": [
    {
     "data": {
      "text/plain": [
       "0.7914195061387778"
      ]
     },
     "execution_count": 152,
     "metadata": {},
     "output_type": "execute_result"
    }
   ],
   "source": [
    "# Overall accuracy of model train dataset\n",
    "metrics.accuracy_score(y_train_pred_final.Converted, y_train_pred_final.final_predicted)"
   ]
  },
  {
   "cell_type": "code",
   "execution_count": 153,
   "id": "992f1b7d",
   "metadata": {},
   "outputs": [
    {
     "data": {
      "text/plain": [
       "array([[3558,  944],\n",
       "       [ 568, 2179]], dtype=int64)"
      ]
     },
     "execution_count": 153,
     "metadata": {},
     "output_type": "execute_result"
    }
   ],
   "source": [
    "#Confussion matrix\n",
    "confusion2 = metrics.confusion_matrix(y_train_pred_final.Converted, y_train_pred_final.final_predicted )\n",
    "confusion2"
   ]
  },
  {
   "cell_type": "code",
   "execution_count": 154,
   "id": "d9671e53",
   "metadata": {},
   "outputs": [],
   "source": [
    "TP = confusion2[1,1] # true positive \n",
    "TN = confusion2[0,0] # true negatives\n",
    "FP = confusion2[0,1] # false positives\n",
    "FN = confusion2[1,0] # false negatives"
   ]
  },
  {
   "cell_type": "code",
   "execution_count": 155,
   "id": "495b68f5",
   "metadata": {},
   "outputs": [
    {
     "data": {
      "text/plain": [
       "0.79322897706589"
      ]
     },
     "execution_count": 155,
     "metadata": {},
     "output_type": "execute_result"
    }
   ],
   "source": [
    "# Checking the sensitivity of our logistic regression model\n",
    "TP / float(TP+FN)"
   ]
  },
  {
   "cell_type": "code",
   "execution_count": 156,
   "id": "0bdd576c",
   "metadata": {},
   "outputs": [
    {
     "data": {
      "text/plain": [
       "0.7903154153709463"
      ]
     },
     "execution_count": 156,
     "metadata": {},
     "output_type": "execute_result"
    }
   ],
   "source": [
    "# Calculating the specificity\n",
    "TN / float(TN+FP)"
   ]
  },
  {
   "cell_type": "code",
   "execution_count": 157,
   "id": "e3ee5c28",
   "metadata": {},
   "outputs": [
    {
     "name": "stdout",
     "output_type": "stream",
     "text": [
      "0.20968458462905376\n"
     ]
    }
   ],
   "source": [
    "# predicting churn when customer does not have churned\n",
    "print(FP/ float(TN+FP))"
   ]
  },
  {
   "cell_type": "code",
   "execution_count": 158,
   "id": "ae64f701",
   "metadata": {},
   "outputs": [
    {
     "name": "stdout",
     "output_type": "stream",
     "text": [
      "0.6977265449887928\n"
     ]
    }
   ],
   "source": [
    "# Positive predictive value \n",
    "print (TP / float(TP+FP))"
   ]
  },
  {
   "cell_type": "code",
   "execution_count": 159,
   "id": "23f5a6a9",
   "metadata": {},
   "outputs": [
    {
     "name": "stdout",
     "output_type": "stream",
     "text": [
      "0.8623364032961707\n"
     ]
    }
   ],
   "source": [
    "# Negative predictive value\n",
    "print (TN / float(TN+ FN))"
   ]
  },
  {
   "cell_type": "markdown",
   "id": "d71c70e0",
   "metadata": {},
   "source": [
    "# 12. Calculating Precesion and Recall"
   ]
  },
  {
   "cell_type": "code",
   "execution_count": 160,
   "id": "036d2fb9",
   "metadata": {},
   "outputs": [],
   "source": [
    "#importing library for precision and recall score\n",
    "from sklearn.metrics import precision_score, recall_score"
   ]
  },
  {
   "cell_type": "code",
   "execution_count": 161,
   "id": "0ddfbe02",
   "metadata": {},
   "outputs": [
    {
     "data": {
      "text/plain": [
       "0.6977265449887928"
      ]
     },
     "execution_count": 161,
     "metadata": {},
     "output_type": "execute_result"
    }
   ],
   "source": [
    "# lets see the precesion score\n",
    "precision_score(y_train_pred_final.Converted, y_train_pred_final.final_predicted)"
   ]
  },
  {
   "cell_type": "code",
   "execution_count": 162,
   "id": "ef60eb45",
   "metadata": {},
   "outputs": [
    {
     "data": {
      "text/plain": [
       "0.79322897706589"
      ]
     },
     "execution_count": 162,
     "metadata": {},
     "output_type": "execute_result"
    }
   ],
   "source": [
    "# Lets see the recall score\n",
    "recall_score(y_train_pred_final.Converted, y_train_pred_final.final_predicted)"
   ]
  },
  {
   "cell_type": "markdown",
   "id": "39a6facd",
   "metadata": {},
   "source": [
    "# 13. Making Prediction on the test set"
   ]
  },
  {
   "cell_type": "code",
   "execution_count": 163,
   "id": "b73d589d",
   "metadata": {},
   "outputs": [],
   "source": [
    "# Final column used for the model building\n",
    "col=X_train_rfe.columns"
   ]
  },
  {
   "cell_type": "code",
   "execution_count": 164,
   "id": "47a2b5f5",
   "metadata": {},
   "outputs": [
    {
     "data": {
      "text/html": [
       "<div>\n",
       "<style scoped>\n",
       "    .dataframe tbody tr th:only-of-type {\n",
       "        vertical-align: middle;\n",
       "    }\n",
       "\n",
       "    .dataframe tbody tr th {\n",
       "        vertical-align: top;\n",
       "    }\n",
       "\n",
       "    .dataframe thead th {\n",
       "        text-align: right;\n",
       "    }\n",
       "</style>\n",
       "<table border=\"1\" class=\"dataframe\">\n",
       "  <thead>\n",
       "    <tr style=\"text-align: right;\">\n",
       "      <th></th>\n",
       "      <th>Total Time Spent on Website</th>\n",
       "      <th>Lead Origin_Lead Import</th>\n",
       "      <th>Lead Source_Olark Chat</th>\n",
       "      <th>Lead Source_Reference</th>\n",
       "      <th>Lead Source_Welingak Website</th>\n",
       "      <th>Last Activity_Email Bounced</th>\n",
       "      <th>Last Activity_Email Opened</th>\n",
       "      <th>Last Activity_Had a Phone Conversation</th>\n",
       "      <th>Last Activity_Olark Chat Conversation</th>\n",
       "      <th>Last Activity_SMS Sent</th>\n",
       "      <th>Last Activity_other_LastActivity</th>\n",
       "      <th>Last Notable Activity_SMS Sent</th>\n",
       "      <th>Last Notable Activity_Unreachable</th>\n",
       "    </tr>\n",
       "  </thead>\n",
       "  <tbody>\n",
       "    <tr>\n",
       "      <th>5254</th>\n",
       "      <td>-0.343531</td>\n",
       "      <td>0</td>\n",
       "      <td>0</td>\n",
       "      <td>0</td>\n",
       "      <td>0</td>\n",
       "      <td>0</td>\n",
       "      <td>1</td>\n",
       "      <td>0</td>\n",
       "      <td>0</td>\n",
       "      <td>0</td>\n",
       "      <td>0</td>\n",
       "      <td>0</td>\n",
       "      <td>0</td>\n",
       "    </tr>\n",
       "    <tr>\n",
       "      <th>1787</th>\n",
       "      <td>-0.827782</td>\n",
       "      <td>0</td>\n",
       "      <td>0</td>\n",
       "      <td>0</td>\n",
       "      <td>0</td>\n",
       "      <td>1</td>\n",
       "      <td>0</td>\n",
       "      <td>0</td>\n",
       "      <td>0</td>\n",
       "      <td>0</td>\n",
       "      <td>0</td>\n",
       "      <td>0</td>\n",
       "      <td>0</td>\n",
       "    </tr>\n",
       "    <tr>\n",
       "      <th>4509</th>\n",
       "      <td>0.228765</td>\n",
       "      <td>0</td>\n",
       "      <td>0</td>\n",
       "      <td>0</td>\n",
       "      <td>0</td>\n",
       "      <td>1</td>\n",
       "      <td>0</td>\n",
       "      <td>0</td>\n",
       "      <td>0</td>\n",
       "      <td>0</td>\n",
       "      <td>0</td>\n",
       "      <td>0</td>\n",
       "      <td>0</td>\n",
       "    </tr>\n",
       "    <tr>\n",
       "      <th>5654</th>\n",
       "      <td>-0.886479</td>\n",
       "      <td>0</td>\n",
       "      <td>1</td>\n",
       "      <td>0</td>\n",
       "      <td>0</td>\n",
       "      <td>0</td>\n",
       "      <td>0</td>\n",
       "      <td>0</td>\n",
       "      <td>1</td>\n",
       "      <td>0</td>\n",
       "      <td>0</td>\n",
       "      <td>0</td>\n",
       "      <td>0</td>\n",
       "    </tr>\n",
       "    <tr>\n",
       "      <th>4615</th>\n",
       "      <td>1.241289</td>\n",
       "      <td>0</td>\n",
       "      <td>0</td>\n",
       "      <td>0</td>\n",
       "      <td>0</td>\n",
       "      <td>0</td>\n",
       "      <td>1</td>\n",
       "      <td>0</td>\n",
       "      <td>0</td>\n",
       "      <td>0</td>\n",
       "      <td>0</td>\n",
       "      <td>0</td>\n",
       "      <td>0</td>\n",
       "    </tr>\n",
       "  </tbody>\n",
       "</table>\n",
       "</div>"
      ],
      "text/plain": [
       "      Total Time Spent on Website  Lead Origin_Lead Import  \\\n",
       "5254                    -0.343531                        0   \n",
       "1787                    -0.827782                        0   \n",
       "4509                     0.228765                        0   \n",
       "5654                    -0.886479                        0   \n",
       "4615                     1.241289                        0   \n",
       "\n",
       "      Lead Source_Olark Chat  Lead Source_Reference  \\\n",
       "5254                       0                      0   \n",
       "1787                       0                      0   \n",
       "4509                       0                      0   \n",
       "5654                       1                      0   \n",
       "4615                       0                      0   \n",
       "\n",
       "      Lead Source_Welingak Website  Last Activity_Email Bounced  \\\n",
       "5254                             0                            0   \n",
       "1787                             0                            1   \n",
       "4509                             0                            1   \n",
       "5654                             0                            0   \n",
       "4615                             0                            0   \n",
       "\n",
       "      Last Activity_Email Opened  Last Activity_Had a Phone Conversation  \\\n",
       "5254                           1                                       0   \n",
       "1787                           0                                       0   \n",
       "4509                           0                                       0   \n",
       "5654                           0                                       0   \n",
       "4615                           1                                       0   \n",
       "\n",
       "      Last Activity_Olark Chat Conversation  Last Activity_SMS Sent  \\\n",
       "5254                                      0                       0   \n",
       "1787                                      0                       0   \n",
       "4509                                      0                       0   \n",
       "5654                                      1                       0   \n",
       "4615                                      0                       0   \n",
       "\n",
       "      Last Activity_other_LastActivity  Last Notable Activity_SMS Sent  \\\n",
       "5254                                 0                               0   \n",
       "1787                                 0                               0   \n",
       "4509                                 0                               0   \n",
       "5654                                 0                               0   \n",
       "4615                                 0                               0   \n",
       "\n",
       "      Last Notable Activity_Unreachable  \n",
       "5254                                  0  \n",
       "1787                                  0  \n",
       "4509                                  0  \n",
       "5654                                  0  \n",
       "4615                                  0  "
      ]
     },
     "execution_count": 164,
     "metadata": {},
     "output_type": "execute_result"
    }
   ],
   "source": [
    "#creating test set with the same columns\n",
    "X_test = X_test[col]\n",
    "X_test.head()"
   ]
  },
  {
   "cell_type": "code",
   "execution_count": 165,
   "id": "a7ec715d",
   "metadata": {},
   "outputs": [
    {
     "data": {
      "text/html": [
       "<div>\n",
       "<style scoped>\n",
       "    .dataframe tbody tr th:only-of-type {\n",
       "        vertical-align: middle;\n",
       "    }\n",
       "\n",
       "    .dataframe tbody tr th {\n",
       "        vertical-align: top;\n",
       "    }\n",
       "\n",
       "    .dataframe thead th {\n",
       "        text-align: right;\n",
       "    }\n",
       "</style>\n",
       "<table border=\"1\" class=\"dataframe\">\n",
       "  <thead>\n",
       "    <tr style=\"text-align: right;\">\n",
       "      <th></th>\n",
       "      <th>Total Time Spent on Website</th>\n",
       "      <th>Lead Origin_Lead Import</th>\n",
       "      <th>Lead Source_Olark Chat</th>\n",
       "      <th>Lead Source_Reference</th>\n",
       "      <th>Lead Source_Welingak Website</th>\n",
       "      <th>Last Activity_Email Bounced</th>\n",
       "      <th>Last Activity_Email Opened</th>\n",
       "      <th>Last Activity_Had a Phone Conversation</th>\n",
       "      <th>Last Activity_Olark Chat Conversation</th>\n",
       "      <th>Last Activity_SMS Sent</th>\n",
       "      <th>Last Activity_other_LastActivity</th>\n",
       "      <th>Last Notable Activity_SMS Sent</th>\n",
       "      <th>Last Notable Activity_Unreachable</th>\n",
       "    </tr>\n",
       "  </thead>\n",
       "  <tbody>\n",
       "    <tr>\n",
       "      <th>5254</th>\n",
       "      <td>-0.343531</td>\n",
       "      <td>0</td>\n",
       "      <td>0</td>\n",
       "      <td>0</td>\n",
       "      <td>0</td>\n",
       "      <td>0</td>\n",
       "      <td>1</td>\n",
       "      <td>0</td>\n",
       "      <td>0</td>\n",
       "      <td>0</td>\n",
       "      <td>0</td>\n",
       "      <td>0</td>\n",
       "      <td>0</td>\n",
       "    </tr>\n",
       "    <tr>\n",
       "      <th>1787</th>\n",
       "      <td>-0.827782</td>\n",
       "      <td>0</td>\n",
       "      <td>0</td>\n",
       "      <td>0</td>\n",
       "      <td>0</td>\n",
       "      <td>1</td>\n",
       "      <td>0</td>\n",
       "      <td>0</td>\n",
       "      <td>0</td>\n",
       "      <td>0</td>\n",
       "      <td>0</td>\n",
       "      <td>0</td>\n",
       "      <td>0</td>\n",
       "    </tr>\n",
       "    <tr>\n",
       "      <th>4509</th>\n",
       "      <td>0.228765</td>\n",
       "      <td>0</td>\n",
       "      <td>0</td>\n",
       "      <td>0</td>\n",
       "      <td>0</td>\n",
       "      <td>1</td>\n",
       "      <td>0</td>\n",
       "      <td>0</td>\n",
       "      <td>0</td>\n",
       "      <td>0</td>\n",
       "      <td>0</td>\n",
       "      <td>0</td>\n",
       "      <td>0</td>\n",
       "    </tr>\n",
       "    <tr>\n",
       "      <th>5654</th>\n",
       "      <td>-0.886479</td>\n",
       "      <td>0</td>\n",
       "      <td>1</td>\n",
       "      <td>0</td>\n",
       "      <td>0</td>\n",
       "      <td>0</td>\n",
       "      <td>0</td>\n",
       "      <td>0</td>\n",
       "      <td>1</td>\n",
       "      <td>0</td>\n",
       "      <td>0</td>\n",
       "      <td>0</td>\n",
       "      <td>0</td>\n",
       "    </tr>\n",
       "    <tr>\n",
       "      <th>4615</th>\n",
       "      <td>1.241289</td>\n",
       "      <td>0</td>\n",
       "      <td>0</td>\n",
       "      <td>0</td>\n",
       "      <td>0</td>\n",
       "      <td>0</td>\n",
       "      <td>1</td>\n",
       "      <td>0</td>\n",
       "      <td>0</td>\n",
       "      <td>0</td>\n",
       "      <td>0</td>\n",
       "      <td>0</td>\n",
       "      <td>0</td>\n",
       "    </tr>\n",
       "  </tbody>\n",
       "</table>\n",
       "</div>"
      ],
      "text/plain": [
       "      Total Time Spent on Website  Lead Origin_Lead Import  \\\n",
       "5254                    -0.343531                        0   \n",
       "1787                    -0.827782                        0   \n",
       "4509                     0.228765                        0   \n",
       "5654                    -0.886479                        0   \n",
       "4615                     1.241289                        0   \n",
       "\n",
       "      Lead Source_Olark Chat  Lead Source_Reference  \\\n",
       "5254                       0                      0   \n",
       "1787                       0                      0   \n",
       "4509                       0                      0   \n",
       "5654                       1                      0   \n",
       "4615                       0                      0   \n",
       "\n",
       "      Lead Source_Welingak Website  Last Activity_Email Bounced  \\\n",
       "5254                             0                            0   \n",
       "1787                             0                            1   \n",
       "4509                             0                            1   \n",
       "5654                             0                            0   \n",
       "4615                             0                            0   \n",
       "\n",
       "      Last Activity_Email Opened  Last Activity_Had a Phone Conversation  \\\n",
       "5254                           1                                       0   \n",
       "1787                           0                                       0   \n",
       "4509                           0                                       0   \n",
       "5654                           0                                       0   \n",
       "4615                           1                                       0   \n",
       "\n",
       "      Last Activity_Olark Chat Conversation  Last Activity_SMS Sent  \\\n",
       "5254                                      0                       0   \n",
       "1787                                      0                       0   \n",
       "4509                                      0                       0   \n",
       "5654                                      1                       0   \n",
       "4615                                      0                       0   \n",
       "\n",
       "      Last Activity_other_LastActivity  Last Notable Activity_SMS Sent  \\\n",
       "5254                                 0                               0   \n",
       "1787                                 0                               0   \n",
       "4509                                 0                               0   \n",
       "5654                                 0                               0   \n",
       "4615                                 0                               0   \n",
       "\n",
       "      Last Notable Activity_Unreachable  \n",
       "5254                                  0  \n",
       "1787                                  0  \n",
       "4509                                  0  \n",
       "5654                                  0  \n",
       "4615                                  0  "
      ]
     },
     "execution_count": 165,
     "metadata": {},
     "output_type": "execute_result"
    }
   ],
   "source": [
    "#creating test set with the same columns\n",
    "X_test = X_test[col]\n",
    "X_test.head()"
   ]
  },
  {
   "cell_type": "code",
   "execution_count": 167,
   "id": "dd824c3e",
   "metadata": {},
   "outputs": [],
   "source": [
    "#Adding constant to the test dataset\n",
    "X_test_sm = sm.add_constant(X_test)"
   ]
  },
  {
   "cell_type": "code",
   "execution_count": 168,
   "id": "74710a83",
   "metadata": {},
   "outputs": [],
   "source": [
    "#Prediction of the test dataset\n",
    "y_test_pred = res.predict(X_test_sm)"
   ]
  },
  {
   "cell_type": "code",
   "execution_count": 169,
   "id": "c9abcf3d",
   "metadata": {},
   "outputs": [
    {
     "data": {
      "text/plain": [
       "5254    0.174909\n",
       "1787    0.014232\n",
       "4509    0.046814\n",
       "5654    0.070894\n",
       "4615    0.570827\n",
       "4134    0.554625\n",
       "465     0.192426\n",
       "8361    0.861403\n",
       "3616    0.498507\n",
       "3258    0.154571\n",
       "dtype: float64"
      ]
     },
     "execution_count": 169,
     "metadata": {},
     "output_type": "execute_result"
    }
   ],
   "source": [
    "\n",
    "y_test_pred[:10]"
   ]
  },
  {
   "cell_type": "code",
   "execution_count": 170,
   "id": "bae9a3a8",
   "metadata": {},
   "outputs": [],
   "source": [
    "#new dataframe with the prediction values\n",
    "y_test_pred_1 = pd.DataFrame(y_test_pred,columns=[\"Conv_prob\"])"
   ]
  },
  {
   "cell_type": "code",
   "execution_count": 171,
   "id": "3c089949",
   "metadata": {},
   "outputs": [
    {
     "data": {
      "text/html": [
       "<div>\n",
       "<style scoped>\n",
       "    .dataframe tbody tr th:only-of-type {\n",
       "        vertical-align: middle;\n",
       "    }\n",
       "\n",
       "    .dataframe tbody tr th {\n",
       "        vertical-align: top;\n",
       "    }\n",
       "\n",
       "    .dataframe thead th {\n",
       "        text-align: right;\n",
       "    }\n",
       "</style>\n",
       "<table border=\"1\" class=\"dataframe\">\n",
       "  <thead>\n",
       "    <tr style=\"text-align: right;\">\n",
       "      <th></th>\n",
       "      <th>Conv_prob</th>\n",
       "    </tr>\n",
       "  </thead>\n",
       "  <tbody>\n",
       "    <tr>\n",
       "      <th>5254</th>\n",
       "      <td>0.174909</td>\n",
       "    </tr>\n",
       "    <tr>\n",
       "      <th>1787</th>\n",
       "      <td>0.014232</td>\n",
       "    </tr>\n",
       "    <tr>\n",
       "      <th>4509</th>\n",
       "      <td>0.046814</td>\n",
       "    </tr>\n",
       "    <tr>\n",
       "      <th>5654</th>\n",
       "      <td>0.070894</td>\n",
       "    </tr>\n",
       "    <tr>\n",
       "      <th>4615</th>\n",
       "      <td>0.570827</td>\n",
       "    </tr>\n",
       "  </tbody>\n",
       "</table>\n",
       "</div>"
      ],
      "text/plain": [
       "      Conv_prob\n",
       "5254   0.174909\n",
       "1787   0.014232\n",
       "4509   0.046814\n",
       "5654   0.070894\n",
       "4615   0.570827"
      ]
     },
     "execution_count": 171,
     "metadata": {},
     "output_type": "execute_result"
    }
   ],
   "source": [
    "\n",
    "y_test_pred_1.head()"
   ]
  },
  {
   "cell_type": "code",
   "execution_count": 172,
   "id": "56ba1f6c",
   "metadata": {},
   "outputs": [],
   "source": [
    "#again new dataframe mapping value as per the cutoff value 0.35\n",
    "y_test_pred_1['Final_prediction']=y_test_pred_1['Conv_prob'].map(lambda x: 1 if x > 0.35 else 0)"
   ]
  },
  {
   "cell_type": "code",
   "execution_count": 173,
   "id": "814b48f4",
   "metadata": {},
   "outputs": [
    {
     "data": {
      "text/html": [
       "<div>\n",
       "<style scoped>\n",
       "    .dataframe tbody tr th:only-of-type {\n",
       "        vertical-align: middle;\n",
       "    }\n",
       "\n",
       "    .dataframe tbody tr th {\n",
       "        vertical-align: top;\n",
       "    }\n",
       "\n",
       "    .dataframe thead th {\n",
       "        text-align: right;\n",
       "    }\n",
       "</style>\n",
       "<table border=\"1\" class=\"dataframe\">\n",
       "  <thead>\n",
       "    <tr style=\"text-align: right;\">\n",
       "      <th></th>\n",
       "      <th>Conv_prob</th>\n",
       "      <th>Final_prediction</th>\n",
       "      <th>LeadScore</th>\n",
       "    </tr>\n",
       "  </thead>\n",
       "  <tbody>\n",
       "    <tr>\n",
       "      <th>5325</th>\n",
       "      <td>0.150889</td>\n",
       "      <td>0</td>\n",
       "      <td>15.09</td>\n",
       "    </tr>\n",
       "    <tr>\n",
       "      <th>7170</th>\n",
       "      <td>0.278953</td>\n",
       "      <td>0</td>\n",
       "      <td>27.90</td>\n",
       "    </tr>\n",
       "    <tr>\n",
       "      <th>7103</th>\n",
       "      <td>0.279103</td>\n",
       "      <td>0</td>\n",
       "      <td>27.91</td>\n",
       "    </tr>\n",
       "    <tr>\n",
       "      <th>4145</th>\n",
       "      <td>0.537229</td>\n",
       "      <td>1</td>\n",
       "      <td>53.72</td>\n",
       "    </tr>\n",
       "    <tr>\n",
       "      <th>5580</th>\n",
       "      <td>0.022526</td>\n",
       "      <td>0</td>\n",
       "      <td>2.25</td>\n",
       "    </tr>\n",
       "    <tr>\n",
       "      <th>7370</th>\n",
       "      <td>0.382440</td>\n",
       "      <td>1</td>\n",
       "      <td>38.24</td>\n",
       "    </tr>\n",
       "    <tr>\n",
       "      <th>2960</th>\n",
       "      <td>0.967851</td>\n",
       "      <td>1</td>\n",
       "      <td>96.79</td>\n",
       "    </tr>\n",
       "    <tr>\n",
       "      <th>2376</th>\n",
       "      <td>0.967851</td>\n",
       "      <td>1</td>\n",
       "      <td>96.79</td>\n",
       "    </tr>\n",
       "    <tr>\n",
       "      <th>7028</th>\n",
       "      <td>0.067439</td>\n",
       "      <td>0</td>\n",
       "      <td>6.74</td>\n",
       "    </tr>\n",
       "    <tr>\n",
       "      <th>7135</th>\n",
       "      <td>0.279103</td>\n",
       "      <td>0</td>\n",
       "      <td>27.91</td>\n",
       "    </tr>\n",
       "  </tbody>\n",
       "</table>\n",
       "</div>"
      ],
      "text/plain": [
       "      Conv_prob  Final_prediction  LeadScore\n",
       "5325   0.150889                 0      15.09\n",
       "7170   0.278953                 0      27.90\n",
       "7103   0.279103                 0      27.91\n",
       "4145   0.537229                 1      53.72\n",
       "5580   0.022526                 0       2.25\n",
       "7370   0.382440                 1      38.24\n",
       "2960   0.967851                 1      96.79\n",
       "2376   0.967851                 1      96.79\n",
       "7028   0.067439                 0       6.74\n",
       "7135   0.279103                 0      27.91"
      ]
     },
     "execution_count": 173,
     "metadata": {},
     "output_type": "execute_result"
    }
   ],
   "source": [
    "#Adding lead score column with the converted value\n",
    "y_test_pred_1['LeadScore']=round((y_test_pred_1['Conv_prob']*100),2)\n",
    "y_test_pred_1.sample(10)"
   ]
  },
  {
   "cell_type": "markdown",
   "id": "20077db1",
   "metadata": {},
   "source": [
    "Accuracy test data"
   ]
  },
  {
   "cell_type": "code",
   "execution_count": 174,
   "id": "f7470797",
   "metadata": {},
   "outputs": [
    {
     "data": {
      "text/plain": [
       "0.7837837837837838"
      ]
     },
     "execution_count": 174,
     "metadata": {},
     "output_type": "execute_result"
    }
   ],
   "source": [
    "# Overall accuracy of test data\n",
    "metrics.accuracy_score(y_test, y_test_pred_1.Final_prediction)"
   ]
  },
  {
   "cell_type": "code",
   "execution_count": 175,
   "id": "1d63676e",
   "metadata": {},
   "outputs": [
    {
     "data": {
      "text/plain": [
       "array([[890, 237],\n",
       "       [155, 531]], dtype=int64)"
      ]
     },
     "execution_count": 175,
     "metadata": {},
     "output_type": "execute_result"
    }
   ],
   "source": [
    "#Confussion Matrix of test data\n",
    "conf_testset = metrics.confusion_matrix(y_test, y_test_pred_1.Final_prediction )\n",
    "conf_testset"
   ]
  },
  {
   "cell_type": "code",
   "execution_count": 176,
   "id": "04785bca",
   "metadata": {},
   "outputs": [],
   "source": [
    "TP = conf_testset[1,1] # true positive \n",
    "TN = conf_testset[0,0] # true negatives\n",
    "FP = conf_testset[0,1] # false positives\n",
    "FN = conf_testset[1,0] # false negatives"
   ]
  },
  {
   "cell_type": "markdown",
   "id": "b5798368",
   "metadata": {},
   "source": [
    "Sensitivity of test set"
   ]
  },
  {
   "cell_type": "code",
   "execution_count": 178,
   "id": "a9277add",
   "metadata": {},
   "outputs": [
    {
     "data": {
      "text/plain": [
       "0.7740524781341108"
      ]
     },
     "execution_count": 178,
     "metadata": {},
     "output_type": "execute_result"
    }
   ],
   "source": [
    "# Sensitivity of the test set\n",
    "TP / float(TP+FN)"
   ]
  },
  {
   "cell_type": "markdown",
   "id": "d56ef568",
   "metadata": {},
   "source": [
    "Specificity of test set"
   ]
  },
  {
   "cell_type": "code",
   "execution_count": 180,
   "id": "16cb4195",
   "metadata": {},
   "outputs": [
    {
     "data": {
      "text/plain": [
       "0.7897071872227152"
      ]
     },
     "execution_count": 180,
     "metadata": {},
     "output_type": "execute_result"
    }
   ],
   "source": [
    "# Specificity for the test set\n",
    "TN / float(TN+FP)"
   ]
  },
  {
   "cell_type": "markdown",
   "id": "61e44978",
   "metadata": {},
   "source": [
    "# 14.Conclusion"
   ]
  },
  {
   "cell_type": "markdown",
   "id": "d0b82607",
   "metadata": {},
   "source": [
    "# Below are the points made based on the observation during the analysis:\n",
    "\n",
    "The main target variables that have impacted the potential leads:\n",
    "\n",
    "1. Google\n",
    "\n",
    "2. Direct traffic\n",
    "\n",
    "3. Organic Search\n",
    "\n",
    "The last activity that affected the leads were:\n",
    "\n",
    "1.Opened emails\n",
    "\n",
    "2.SMS\n",
    "\n",
    "3.Olark Chat Conversation\n",
    "\n",
    "1.The total time spent on the website and the total number of visits had their share of impact\n",
    "\n",
    "2.Working professions contributed to the lead\n",
    "\n",
    "3.Final Model (res) res = logm4.fit()\n",
    "\n",
    "4.The cut off probability is 0.35\n",
    "\n",
    "5.More than 0.35 were converted as lead\n",
    "\n",
    "6.Less than 0.35 will not be converted as lead"
   ]
  },
  {
   "cell_type": "code",
   "execution_count": null,
   "id": "8e99b919",
   "metadata": {},
   "outputs": [],
   "source": []
  }
 ],
 "metadata": {
  "kernelspec": {
   "display_name": "Python 3 (ipykernel)",
   "language": "python",
   "name": "python3"
  },
  "language_info": {
   "codemirror_mode": {
    "name": "ipython",
    "version": 3
   },
   "file_extension": ".py",
   "mimetype": "text/x-python",
   "name": "python",
   "nbconvert_exporter": "python",
   "pygments_lexer": "ipython3",
   "version": "3.9.7"
  }
 },
 "nbformat": 4,
 "nbformat_minor": 5
}
